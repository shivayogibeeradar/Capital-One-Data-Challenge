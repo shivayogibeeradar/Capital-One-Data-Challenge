{
 "cells": [
  {
   "cell_type": "markdown",
   "metadata": {
    "slideshow": {
     "slide_type": "slide"
    }
   },
   "source": [
    "**This notebook uses interactive ipywidgets.Please install requirements.txt. Also this notebook can be run on binder**\n",
    "\n",
    "\n",
    "\n",
    "## Business Intent :\n",
    "\n",
    "Determine which zipcodes are actually profitable using the metrics we have defined.\n",
    "Generally the most profitable zipcodes would be the ones scoring high on y axis (annual rent/ROI and low on payback period)\n",
    "Also provide user with a dashboard for a user to adjust these metrics to desired range and select zipcodes that will populate.\n",
    "\n",
    "## Key Insights : \n",
    "\n",
    "Will do graph by graph basis\n",
    "\n",
    "\n",
    "## Metrics :\n",
    "\n",
    "( For detailed explanation please check documentation)\n",
    "Annual Rent - The rent accrued in a year by a property using airbnb data for price per night.\n",
    "Payback Period: A conservative estimate of how much time it would take to pay off rent assuming annual rent remains constant.\n",
    "\n",
    "ROI_WITHOUT: An optimistic estimate to calculate roi assuming rental prices will appreciate every year\n",
    "\n",
    "ROI_10 : An optimitic estimate that also factors the value of equity in calculating roi\n",
    "  \n",
    "Business Value: Allow users to asses their profit intent(through rent or roi keeping in mind payback period).\n",
    "This decision point will help users find \"sweet spot\" for zipcodes so that they can realize a compromise between gains and paybacks over time."
   ]
  },
  {
   "cell_type": "code",
   "execution_count": 18,
   "metadata": {
    "slideshow": {
     "slide_type": "skip"
    }
   },
   "outputs": [],
   "source": [
    "import pandas as pd\n",
    "import plotly.express as px\n",
    "from plotly.subplots import make_subplots\n",
    "import plotly.graph_objects as go\n",
    "\n",
    "dat=pd.read_pickle(\"pickles/air_zillgroup.pkl\")\n"
   ]
  },
  {
   "cell_type": "markdown",
   "metadata": {
    "slideshow": {
     "slide_type": "subslide"
    }
   },
   "source": [
    "Insights :- The zipcode 10308 on the extreme left is a sweet spot for high annual rent with low payback.\n",
    "The zipcodes in the middle are also worth considering though there high costs may put of conservative investors.\n",
    "The new york counties has extremely high rent by the high property costs.\n"
   ]
  },
  {
   "cell_type": "code",
   "execution_count": 26,
   "metadata": {
    "slideshow": {
     "slide_type": "slide"
    }
   },
   "outputs": [
    {
     "data": {
      "application/vnd.plotly.v1+json": {
       "config": {
        "plotlyServerURL": "https://plot.ly"
       },
       "data": [
        {
         "hoverlabel": {
          "namelength": 0
         },
         "hovertemplate": "CountyName=New York<br>payback_period=%{x}<br>annual_rent=%{y}<br>zipcode=%{text}",
         "legendgroup": "New York",
         "marker": {
          "color": "#AA0DFE",
          "symbol": "circle"
         },
         "mode": "markers+text",
         "name": "New York",
         "showlegend": true,
         "text": [
          "10003",
          "10011",
          "10013",
          "10014",
          "10021",
          "10022",
          "10023",
          "10025",
          "10028",
          "10036",
          "10128"
         ],
         "textfont": {
          "size": 7
         },
         "textposition": "top right",
         "type": "scatter",
         "x": [
          32.08089637769522,
          31.03588417112712,
          42.183286917702816,
          34.04607207594134,
          32.44938842044641,
          29.217997398706835,
          29.216638352605933,
          24.658066520863702,
          33.73099791684468,
          22.890756996324267,
          32.6341549294185
         ],
         "xaxis": "x",
         "y": [
          88980.65217391304,
          101690.52083333333,
          113872.32476635514,
          95526.58333333333,
          76180.71428571429,
          97069.43661971831,
          82162.640625,
          91185.03,
          76072.5,
          96778.02364864865,
          75626.59615384616
         ],
         "yaxis": "y"
        },
        {
         "hoverlabel": {
          "namelength": 0
         },
         "hovertemplate": "CountyName=Richmond<br>payback_period=%{x}<br>annual_rent=%{y}<br>zipcode=%{text}",
         "legendgroup": "Richmond",
         "marker": {
          "color": "#3283FE",
          "symbol": "circle"
         },
         "mode": "markers+text",
         "name": "Richmond",
         "showlegend": true,
         "text": [
          "10303",
          "10304",
          "10305",
          "10306",
          "10308",
          "10309",
          "10314"
         ],
         "textfont": {
          "size": 7
         },
         "textposition": "top right",
         "type": "scatter",
         "x": [
          12.112171146947045,
          13.172198796423743,
          12.633061067324244,
          11.096927425694549,
          6.893939393939394,
          16.782164920762824,
          13.16525134816835
         ],
         "xaxis": "x",
         "y": [
          28470,
          25550,
          41359.0625,
          32165.625,
          59951.25,
          23268.75,
          29291.25
         ],
         "yaxis": "y"
        },
        {
         "hoverlabel": {
          "namelength": 0
         },
         "hovertemplate": "CountyName=Kings<br>payback_period=%{x}<br>annual_rent=%{y}<br>zipcode=%{text}",
         "legendgroup": "Kings",
         "marker": {
          "color": "#85660D",
          "symbol": "circle"
         },
         "mode": "markers+text",
         "name": "Kings",
         "showlegend": true,
         "text": [
          "11201",
          "11215",
          "11217",
          "11231",
          "11234"
         ],
         "textfont": {
          "size": 7
         },
         "textposition": "top right",
         "type": "scatter",
         "x": [
          24.128617418908984,
          23.795780950606996,
          25.252635651122453,
          24.745395657003908,
          13.755554873047364
         ],
         "xaxis": "x",
         "y": [
          68112.81976744186,
          51465,
          67110.69556451614,
          58470.645161290326,
          36986.666666666664
         ],
         "yaxis": "y"
        },
        {
         "hoverlabel": {
          "namelength": 0
         },
         "hovertemplate": "CountyName=Queens<br>payback_period=%{x}<br>annual_rent=%{y}<br>zipcode=%{text}",
         "legendgroup": "Queens",
         "marker": {
          "color": "#782AB6",
          "symbol": "circle"
         },
         "mode": "markers+text",
         "name": "Queens",
         "showlegend": true,
         "text": [
          "11434"
         ],
         "textfont": {
          "size": 7
         },
         "textposition": "top right",
         "type": "scatter",
         "x": [
          10.49790435854773
         ],
         "xaxis": "x",
         "y": [
          41832.421875
         ],
         "yaxis": "y"
        }
       ],
       "layout": {
        "height": 600,
        "legend": {
         "title": {
          "text": "CountyName"
         },
         "tracegroupgap": 0
        },
        "margin": {
         "t": 60
        },
        "template": {
         "data": {
          "bar": [
           {
            "error_x": {
             "color": "#2a3f5f"
            },
            "error_y": {
             "color": "#2a3f5f"
            },
            "marker": {
             "line": {
              "color": "#E5ECF6",
              "width": 0.5
             }
            },
            "type": "bar"
           }
          ],
          "barpolar": [
           {
            "marker": {
             "line": {
              "color": "#E5ECF6",
              "width": 0.5
             }
            },
            "type": "barpolar"
           }
          ],
          "carpet": [
           {
            "aaxis": {
             "endlinecolor": "#2a3f5f",
             "gridcolor": "white",
             "linecolor": "white",
             "minorgridcolor": "white",
             "startlinecolor": "#2a3f5f"
            },
            "baxis": {
             "endlinecolor": "#2a3f5f",
             "gridcolor": "white",
             "linecolor": "white",
             "minorgridcolor": "white",
             "startlinecolor": "#2a3f5f"
            },
            "type": "carpet"
           }
          ],
          "choropleth": [
           {
            "colorbar": {
             "outlinewidth": 0,
             "ticks": ""
            },
            "type": "choropleth"
           }
          ],
          "contour": [
           {
            "colorbar": {
             "outlinewidth": 0,
             "ticks": ""
            },
            "colorscale": [
             [
              0,
              "#0d0887"
             ],
             [
              0.1111111111111111,
              "#46039f"
             ],
             [
              0.2222222222222222,
              "#7201a8"
             ],
             [
              0.3333333333333333,
              "#9c179e"
             ],
             [
              0.4444444444444444,
              "#bd3786"
             ],
             [
              0.5555555555555556,
              "#d8576b"
             ],
             [
              0.6666666666666666,
              "#ed7953"
             ],
             [
              0.7777777777777778,
              "#fb9f3a"
             ],
             [
              0.8888888888888888,
              "#fdca26"
             ],
             [
              1,
              "#f0f921"
             ]
            ],
            "type": "contour"
           }
          ],
          "contourcarpet": [
           {
            "colorbar": {
             "outlinewidth": 0,
             "ticks": ""
            },
            "type": "contourcarpet"
           }
          ],
          "heatmap": [
           {
            "colorbar": {
             "outlinewidth": 0,
             "ticks": ""
            },
            "colorscale": [
             [
              0,
              "#0d0887"
             ],
             [
              0.1111111111111111,
              "#46039f"
             ],
             [
              0.2222222222222222,
              "#7201a8"
             ],
             [
              0.3333333333333333,
              "#9c179e"
             ],
             [
              0.4444444444444444,
              "#bd3786"
             ],
             [
              0.5555555555555556,
              "#d8576b"
             ],
             [
              0.6666666666666666,
              "#ed7953"
             ],
             [
              0.7777777777777778,
              "#fb9f3a"
             ],
             [
              0.8888888888888888,
              "#fdca26"
             ],
             [
              1,
              "#f0f921"
             ]
            ],
            "type": "heatmap"
           }
          ],
          "heatmapgl": [
           {
            "colorbar": {
             "outlinewidth": 0,
             "ticks": ""
            },
            "colorscale": [
             [
              0,
              "#0d0887"
             ],
             [
              0.1111111111111111,
              "#46039f"
             ],
             [
              0.2222222222222222,
              "#7201a8"
             ],
             [
              0.3333333333333333,
              "#9c179e"
             ],
             [
              0.4444444444444444,
              "#bd3786"
             ],
             [
              0.5555555555555556,
              "#d8576b"
             ],
             [
              0.6666666666666666,
              "#ed7953"
             ],
             [
              0.7777777777777778,
              "#fb9f3a"
             ],
             [
              0.8888888888888888,
              "#fdca26"
             ],
             [
              1,
              "#f0f921"
             ]
            ],
            "type": "heatmapgl"
           }
          ],
          "histogram": [
           {
            "marker": {
             "colorbar": {
              "outlinewidth": 0,
              "ticks": ""
             }
            },
            "type": "histogram"
           }
          ],
          "histogram2d": [
           {
            "colorbar": {
             "outlinewidth": 0,
             "ticks": ""
            },
            "colorscale": [
             [
              0,
              "#0d0887"
             ],
             [
              0.1111111111111111,
              "#46039f"
             ],
             [
              0.2222222222222222,
              "#7201a8"
             ],
             [
              0.3333333333333333,
              "#9c179e"
             ],
             [
              0.4444444444444444,
              "#bd3786"
             ],
             [
              0.5555555555555556,
              "#d8576b"
             ],
             [
              0.6666666666666666,
              "#ed7953"
             ],
             [
              0.7777777777777778,
              "#fb9f3a"
             ],
             [
              0.8888888888888888,
              "#fdca26"
             ],
             [
              1,
              "#f0f921"
             ]
            ],
            "type": "histogram2d"
           }
          ],
          "histogram2dcontour": [
           {
            "colorbar": {
             "outlinewidth": 0,
             "ticks": ""
            },
            "colorscale": [
             [
              0,
              "#0d0887"
             ],
             [
              0.1111111111111111,
              "#46039f"
             ],
             [
              0.2222222222222222,
              "#7201a8"
             ],
             [
              0.3333333333333333,
              "#9c179e"
             ],
             [
              0.4444444444444444,
              "#bd3786"
             ],
             [
              0.5555555555555556,
              "#d8576b"
             ],
             [
              0.6666666666666666,
              "#ed7953"
             ],
             [
              0.7777777777777778,
              "#fb9f3a"
             ],
             [
              0.8888888888888888,
              "#fdca26"
             ],
             [
              1,
              "#f0f921"
             ]
            ],
            "type": "histogram2dcontour"
           }
          ],
          "mesh3d": [
           {
            "colorbar": {
             "outlinewidth": 0,
             "ticks": ""
            },
            "type": "mesh3d"
           }
          ],
          "parcoords": [
           {
            "line": {
             "colorbar": {
              "outlinewidth": 0,
              "ticks": ""
             }
            },
            "type": "parcoords"
           }
          ],
          "pie": [
           {
            "automargin": true,
            "type": "pie"
           }
          ],
          "scatter": [
           {
            "marker": {
             "colorbar": {
              "outlinewidth": 0,
              "ticks": ""
             }
            },
            "type": "scatter"
           }
          ],
          "scatter3d": [
           {
            "line": {
             "colorbar": {
              "outlinewidth": 0,
              "ticks": ""
             }
            },
            "marker": {
             "colorbar": {
              "outlinewidth": 0,
              "ticks": ""
             }
            },
            "type": "scatter3d"
           }
          ],
          "scattercarpet": [
           {
            "marker": {
             "colorbar": {
              "outlinewidth": 0,
              "ticks": ""
             }
            },
            "type": "scattercarpet"
           }
          ],
          "scattergeo": [
           {
            "marker": {
             "colorbar": {
              "outlinewidth": 0,
              "ticks": ""
             }
            },
            "type": "scattergeo"
           }
          ],
          "scattergl": [
           {
            "marker": {
             "colorbar": {
              "outlinewidth": 0,
              "ticks": ""
             }
            },
            "type": "scattergl"
           }
          ],
          "scattermapbox": [
           {
            "marker": {
             "colorbar": {
              "outlinewidth": 0,
              "ticks": ""
             }
            },
            "type": "scattermapbox"
           }
          ],
          "scatterpolar": [
           {
            "marker": {
             "colorbar": {
              "outlinewidth": 0,
              "ticks": ""
             }
            },
            "type": "scatterpolar"
           }
          ],
          "scatterpolargl": [
           {
            "marker": {
             "colorbar": {
              "outlinewidth": 0,
              "ticks": ""
             }
            },
            "type": "scatterpolargl"
           }
          ],
          "scatterternary": [
           {
            "marker": {
             "colorbar": {
              "outlinewidth": 0,
              "ticks": ""
             }
            },
            "type": "scatterternary"
           }
          ],
          "surface": [
           {
            "colorbar": {
             "outlinewidth": 0,
             "ticks": ""
            },
            "colorscale": [
             [
              0,
              "#0d0887"
             ],
             [
              0.1111111111111111,
              "#46039f"
             ],
             [
              0.2222222222222222,
              "#7201a8"
             ],
             [
              0.3333333333333333,
              "#9c179e"
             ],
             [
              0.4444444444444444,
              "#bd3786"
             ],
             [
              0.5555555555555556,
              "#d8576b"
             ],
             [
              0.6666666666666666,
              "#ed7953"
             ],
             [
              0.7777777777777778,
              "#fb9f3a"
             ],
             [
              0.8888888888888888,
              "#fdca26"
             ],
             [
              1,
              "#f0f921"
             ]
            ],
            "type": "surface"
           }
          ],
          "table": [
           {
            "cells": {
             "fill": {
              "color": "#EBF0F8"
             },
             "line": {
              "color": "white"
             }
            },
            "header": {
             "fill": {
              "color": "#C8D4E3"
             },
             "line": {
              "color": "white"
             }
            },
            "type": "table"
           }
          ]
         },
         "layout": {
          "annotationdefaults": {
           "arrowcolor": "#2a3f5f",
           "arrowhead": 0,
           "arrowwidth": 1
          },
          "coloraxis": {
           "colorbar": {
            "outlinewidth": 0,
            "ticks": ""
           }
          },
          "colorscale": {
           "diverging": [
            [
             0,
             "#8e0152"
            ],
            [
             0.1,
             "#c51b7d"
            ],
            [
             0.2,
             "#de77ae"
            ],
            [
             0.3,
             "#f1b6da"
            ],
            [
             0.4,
             "#fde0ef"
            ],
            [
             0.5,
             "#f7f7f7"
            ],
            [
             0.6,
             "#e6f5d0"
            ],
            [
             0.7,
             "#b8e186"
            ],
            [
             0.8,
             "#7fbc41"
            ],
            [
             0.9,
             "#4d9221"
            ],
            [
             1,
             "#276419"
            ]
           ],
           "sequential": [
            [
             0,
             "#0d0887"
            ],
            [
             0.1111111111111111,
             "#46039f"
            ],
            [
             0.2222222222222222,
             "#7201a8"
            ],
            [
             0.3333333333333333,
             "#9c179e"
            ],
            [
             0.4444444444444444,
             "#bd3786"
            ],
            [
             0.5555555555555556,
             "#d8576b"
            ],
            [
             0.6666666666666666,
             "#ed7953"
            ],
            [
             0.7777777777777778,
             "#fb9f3a"
            ],
            [
             0.8888888888888888,
             "#fdca26"
            ],
            [
             1,
             "#f0f921"
            ]
           ],
           "sequentialminus": [
            [
             0,
             "#0d0887"
            ],
            [
             0.1111111111111111,
             "#46039f"
            ],
            [
             0.2222222222222222,
             "#7201a8"
            ],
            [
             0.3333333333333333,
             "#9c179e"
            ],
            [
             0.4444444444444444,
             "#bd3786"
            ],
            [
             0.5555555555555556,
             "#d8576b"
            ],
            [
             0.6666666666666666,
             "#ed7953"
            ],
            [
             0.7777777777777778,
             "#fb9f3a"
            ],
            [
             0.8888888888888888,
             "#fdca26"
            ],
            [
             1,
             "#f0f921"
            ]
           ]
          },
          "colorway": [
           "#636efa",
           "#EF553B",
           "#00cc96",
           "#ab63fa",
           "#FFA15A",
           "#19d3f3",
           "#FF6692",
           "#B6E880",
           "#FF97FF",
           "#FECB52"
          ],
          "font": {
           "color": "#2a3f5f"
          },
          "geo": {
           "bgcolor": "white",
           "lakecolor": "white",
           "landcolor": "#E5ECF6",
           "showlakes": true,
           "showland": true,
           "subunitcolor": "white"
          },
          "hoverlabel": {
           "align": "left"
          },
          "hovermode": "closest",
          "mapbox": {
           "style": "light"
          },
          "paper_bgcolor": "white",
          "plot_bgcolor": "#E5ECF6",
          "polar": {
           "angularaxis": {
            "gridcolor": "white",
            "linecolor": "white",
            "ticks": ""
           },
           "bgcolor": "#E5ECF6",
           "radialaxis": {
            "gridcolor": "white",
            "linecolor": "white",
            "ticks": ""
           }
          },
          "scene": {
           "xaxis": {
            "backgroundcolor": "#E5ECF6",
            "gridcolor": "white",
            "gridwidth": 2,
            "linecolor": "white",
            "showbackground": true,
            "ticks": "",
            "zerolinecolor": "white"
           },
           "yaxis": {
            "backgroundcolor": "#E5ECF6",
            "gridcolor": "white",
            "gridwidth": 2,
            "linecolor": "white",
            "showbackground": true,
            "ticks": "",
            "zerolinecolor": "white"
           },
           "zaxis": {
            "backgroundcolor": "#E5ECF6",
            "gridcolor": "white",
            "gridwidth": 2,
            "linecolor": "white",
            "showbackground": true,
            "ticks": "",
            "zerolinecolor": "white"
           }
          },
          "shapedefaults": {
           "line": {
            "color": "#2a3f5f"
           }
          },
          "ternary": {
           "aaxis": {
            "gridcolor": "white",
            "linecolor": "white",
            "ticks": ""
           },
           "baxis": {
            "gridcolor": "white",
            "linecolor": "white",
            "ticks": ""
           },
           "bgcolor": "#E5ECF6",
           "caxis": {
            "gridcolor": "white",
            "linecolor": "white",
            "ticks": ""
           }
          },
          "title": {
           "x": 0.05
          },
          "xaxis": {
           "automargin": true,
           "gridcolor": "white",
           "linecolor": "white",
           "ticks": "",
           "title": {
            "standoff": 15
           },
           "zerolinecolor": "white",
           "zerolinewidth": 2
          },
          "yaxis": {
           "automargin": true,
           "gridcolor": "white",
           "linecolor": "white",
           "ticks": "",
           "title": {
            "standoff": 15
           },
           "zerolinecolor": "white",
           "zerolinewidth": 2
          }
         }
        },
        "width": 1000,
        "xaxis": {
         "anchor": "y",
         "domain": [
          0,
          1
         ],
         "title": {
          "text": "payback_period"
         }
        },
        "yaxis": {
         "anchor": "x",
         "domain": [
          0,
          1
         ],
         "title": {
          "text": "annual_rent"
         }
        }
       }
      },
      "text/html": [
       "<div>\n",
       "        \n",
       "        \n",
       "            <div id=\"6fba2852-13fc-49ef-bb31-f15f4035ce29\" class=\"plotly-graph-div\" style=\"height:600px; width:1000px;\"></div>\n",
       "            <script type=\"text/javascript\">\n",
       "                require([\"plotly\"], function(Plotly) {\n",
       "                    window.PLOTLYENV=window.PLOTLYENV || {};\n",
       "                    \n",
       "                if (document.getElementById(\"6fba2852-13fc-49ef-bb31-f15f4035ce29\")) {\n",
       "                    Plotly.newPlot(\n",
       "                        '6fba2852-13fc-49ef-bb31-f15f4035ce29',\n",
       "                        [{\"hoverlabel\": {\"namelength\": 0}, \"hovertemplate\": \"CountyName=New York<br>payback_period=%{x}<br>annual_rent=%{y}<br>zipcode=%{text}\", \"legendgroup\": \"New York\", \"marker\": {\"color\": \"#AA0DFE\", \"symbol\": \"circle\"}, \"mode\": \"markers+text\", \"name\": \"New York\", \"showlegend\": true, \"text\": [\"10003\", \"10011\", \"10013\", \"10014\", \"10021\", \"10022\", \"10023\", \"10025\", \"10028\", \"10036\", \"10128\"], \"textfont\": {\"size\": 7}, \"textposition\": \"top right\", \"type\": \"scatter\", \"x\": [32.08089637769522, 31.03588417112712, 42.183286917702816, 34.04607207594134, 32.44938842044641, 29.217997398706835, 29.216638352605933, 24.658066520863702, 33.73099791684468, 22.890756996324267, 32.6341549294185], \"xaxis\": \"x\", \"y\": [88980.65217391304, 101690.52083333333, 113872.32476635514, 95526.58333333333, 76180.71428571429, 97069.43661971831, 82162.640625, 91185.03, 76072.5, 96778.02364864865, 75626.59615384616], \"yaxis\": \"y\"}, {\"hoverlabel\": {\"namelength\": 0}, \"hovertemplate\": \"CountyName=Richmond<br>payback_period=%{x}<br>annual_rent=%{y}<br>zipcode=%{text}\", \"legendgroup\": \"Richmond\", \"marker\": {\"color\": \"#3283FE\", \"symbol\": \"circle\"}, \"mode\": \"markers+text\", \"name\": \"Richmond\", \"showlegend\": true, \"text\": [\"10303\", \"10304\", \"10305\", \"10306\", \"10308\", \"10309\", \"10314\"], \"textfont\": {\"size\": 7}, \"textposition\": \"top right\", \"type\": \"scatter\", \"x\": [12.112171146947045, 13.172198796423743, 12.633061067324244, 11.096927425694549, 6.893939393939394, 16.782164920762824, 13.16525134816835], \"xaxis\": \"x\", \"y\": [28470.0, 25550.0, 41359.0625, 32165.625, 59951.25, 23268.75, 29291.25], \"yaxis\": \"y\"}, {\"hoverlabel\": {\"namelength\": 0}, \"hovertemplate\": \"CountyName=Kings<br>payback_period=%{x}<br>annual_rent=%{y}<br>zipcode=%{text}\", \"legendgroup\": \"Kings\", \"marker\": {\"color\": \"#85660D\", \"symbol\": \"circle\"}, \"mode\": \"markers+text\", \"name\": \"Kings\", \"showlegend\": true, \"text\": [\"11201\", \"11215\", \"11217\", \"11231\", \"11234\"], \"textfont\": {\"size\": 7}, \"textposition\": \"top right\", \"type\": \"scatter\", \"x\": [24.128617418908984, 23.795780950606996, 25.252635651122453, 24.745395657003908, 13.755554873047364], \"xaxis\": \"x\", \"y\": [68112.81976744186, 51465.0, 67110.69556451614, 58470.645161290326, 36986.666666666664], \"yaxis\": \"y\"}, {\"hoverlabel\": {\"namelength\": 0}, \"hovertemplate\": \"CountyName=Queens<br>payback_period=%{x}<br>annual_rent=%{y}<br>zipcode=%{text}\", \"legendgroup\": \"Queens\", \"marker\": {\"color\": \"#782AB6\", \"symbol\": \"circle\"}, \"mode\": \"markers+text\", \"name\": \"Queens\", \"showlegend\": true, \"text\": [\"11434\"], \"textfont\": {\"size\": 7}, \"textposition\": \"top right\", \"type\": \"scatter\", \"x\": [10.49790435854773], \"xaxis\": \"x\", \"y\": [41832.421875], \"yaxis\": \"y\"}],\n",
       "                        {\"height\": 600, \"legend\": {\"title\": {\"text\": \"CountyName\"}, \"tracegroupgap\": 0}, \"margin\": {\"t\": 60}, \"template\": {\"data\": {\"bar\": [{\"error_x\": {\"color\": \"#2a3f5f\"}, \"error_y\": {\"color\": \"#2a3f5f\"}, \"marker\": {\"line\": {\"color\": \"#E5ECF6\", \"width\": 0.5}}, \"type\": \"bar\"}], \"barpolar\": [{\"marker\": {\"line\": {\"color\": \"#E5ECF6\", \"width\": 0.5}}, \"type\": \"barpolar\"}], \"carpet\": [{\"aaxis\": {\"endlinecolor\": \"#2a3f5f\", \"gridcolor\": \"white\", \"linecolor\": \"white\", \"minorgridcolor\": \"white\", \"startlinecolor\": \"#2a3f5f\"}, \"baxis\": {\"endlinecolor\": \"#2a3f5f\", \"gridcolor\": \"white\", \"linecolor\": \"white\", \"minorgridcolor\": \"white\", \"startlinecolor\": \"#2a3f5f\"}, \"type\": \"carpet\"}], \"choropleth\": [{\"colorbar\": {\"outlinewidth\": 0, \"ticks\": \"\"}, \"type\": \"choropleth\"}], \"contour\": [{\"colorbar\": {\"outlinewidth\": 0, \"ticks\": \"\"}, \"colorscale\": [[0.0, \"#0d0887\"], [0.1111111111111111, \"#46039f\"], [0.2222222222222222, \"#7201a8\"], [0.3333333333333333, \"#9c179e\"], [0.4444444444444444, \"#bd3786\"], [0.5555555555555556, \"#d8576b\"], [0.6666666666666666, \"#ed7953\"], [0.7777777777777778, \"#fb9f3a\"], [0.8888888888888888, \"#fdca26\"], [1.0, \"#f0f921\"]], \"type\": \"contour\"}], \"contourcarpet\": [{\"colorbar\": {\"outlinewidth\": 0, \"ticks\": \"\"}, \"type\": \"contourcarpet\"}], \"heatmap\": [{\"colorbar\": {\"outlinewidth\": 0, \"ticks\": \"\"}, \"colorscale\": [[0.0, \"#0d0887\"], [0.1111111111111111, \"#46039f\"], [0.2222222222222222, \"#7201a8\"], [0.3333333333333333, \"#9c179e\"], [0.4444444444444444, \"#bd3786\"], [0.5555555555555556, \"#d8576b\"], [0.6666666666666666, \"#ed7953\"], [0.7777777777777778, \"#fb9f3a\"], [0.8888888888888888, \"#fdca26\"], [1.0, \"#f0f921\"]], \"type\": \"heatmap\"}], \"heatmapgl\": [{\"colorbar\": {\"outlinewidth\": 0, \"ticks\": \"\"}, \"colorscale\": [[0.0, \"#0d0887\"], [0.1111111111111111, \"#46039f\"], [0.2222222222222222, \"#7201a8\"], [0.3333333333333333, \"#9c179e\"], [0.4444444444444444, \"#bd3786\"], [0.5555555555555556, \"#d8576b\"], [0.6666666666666666, \"#ed7953\"], [0.7777777777777778, \"#fb9f3a\"], [0.8888888888888888, \"#fdca26\"], [1.0, \"#f0f921\"]], \"type\": \"heatmapgl\"}], \"histogram\": [{\"marker\": {\"colorbar\": {\"outlinewidth\": 0, \"ticks\": \"\"}}, \"type\": \"histogram\"}], \"histogram2d\": [{\"colorbar\": {\"outlinewidth\": 0, \"ticks\": \"\"}, \"colorscale\": [[0.0, \"#0d0887\"], [0.1111111111111111, \"#46039f\"], [0.2222222222222222, \"#7201a8\"], [0.3333333333333333, \"#9c179e\"], [0.4444444444444444, \"#bd3786\"], [0.5555555555555556, \"#d8576b\"], [0.6666666666666666, \"#ed7953\"], [0.7777777777777778, \"#fb9f3a\"], [0.8888888888888888, \"#fdca26\"], [1.0, \"#f0f921\"]], \"type\": \"histogram2d\"}], \"histogram2dcontour\": [{\"colorbar\": {\"outlinewidth\": 0, \"ticks\": \"\"}, \"colorscale\": [[0.0, \"#0d0887\"], [0.1111111111111111, \"#46039f\"], [0.2222222222222222, \"#7201a8\"], [0.3333333333333333, \"#9c179e\"], [0.4444444444444444, \"#bd3786\"], [0.5555555555555556, \"#d8576b\"], [0.6666666666666666, \"#ed7953\"], [0.7777777777777778, \"#fb9f3a\"], [0.8888888888888888, \"#fdca26\"], [1.0, \"#f0f921\"]], \"type\": \"histogram2dcontour\"}], \"mesh3d\": [{\"colorbar\": {\"outlinewidth\": 0, \"ticks\": \"\"}, \"type\": \"mesh3d\"}], \"parcoords\": [{\"line\": {\"colorbar\": {\"outlinewidth\": 0, \"ticks\": \"\"}}, \"type\": \"parcoords\"}], \"pie\": [{\"automargin\": true, \"type\": \"pie\"}], \"scatter\": [{\"marker\": {\"colorbar\": {\"outlinewidth\": 0, \"ticks\": \"\"}}, \"type\": \"scatter\"}], \"scatter3d\": [{\"line\": {\"colorbar\": {\"outlinewidth\": 0, \"ticks\": \"\"}}, \"marker\": {\"colorbar\": {\"outlinewidth\": 0, \"ticks\": \"\"}}, \"type\": \"scatter3d\"}], \"scattercarpet\": [{\"marker\": {\"colorbar\": {\"outlinewidth\": 0, \"ticks\": \"\"}}, \"type\": \"scattercarpet\"}], \"scattergeo\": [{\"marker\": {\"colorbar\": {\"outlinewidth\": 0, \"ticks\": \"\"}}, \"type\": \"scattergeo\"}], \"scattergl\": [{\"marker\": {\"colorbar\": {\"outlinewidth\": 0, \"ticks\": \"\"}}, \"type\": \"scattergl\"}], \"scattermapbox\": [{\"marker\": {\"colorbar\": {\"outlinewidth\": 0, \"ticks\": \"\"}}, \"type\": \"scattermapbox\"}], \"scatterpolar\": [{\"marker\": {\"colorbar\": {\"outlinewidth\": 0, \"ticks\": \"\"}}, \"type\": \"scatterpolar\"}], \"scatterpolargl\": [{\"marker\": {\"colorbar\": {\"outlinewidth\": 0, \"ticks\": \"\"}}, \"type\": \"scatterpolargl\"}], \"scatterternary\": [{\"marker\": {\"colorbar\": {\"outlinewidth\": 0, \"ticks\": \"\"}}, \"type\": \"scatterternary\"}], \"surface\": [{\"colorbar\": {\"outlinewidth\": 0, \"ticks\": \"\"}, \"colorscale\": [[0.0, \"#0d0887\"], [0.1111111111111111, \"#46039f\"], [0.2222222222222222, \"#7201a8\"], [0.3333333333333333, \"#9c179e\"], [0.4444444444444444, \"#bd3786\"], [0.5555555555555556, \"#d8576b\"], [0.6666666666666666, \"#ed7953\"], [0.7777777777777778, \"#fb9f3a\"], [0.8888888888888888, \"#fdca26\"], [1.0, \"#f0f921\"]], \"type\": \"surface\"}], \"table\": [{\"cells\": {\"fill\": {\"color\": \"#EBF0F8\"}, \"line\": {\"color\": \"white\"}}, \"header\": {\"fill\": {\"color\": \"#C8D4E3\"}, \"line\": {\"color\": \"white\"}}, \"type\": \"table\"}]}, \"layout\": {\"annotationdefaults\": {\"arrowcolor\": \"#2a3f5f\", \"arrowhead\": 0, \"arrowwidth\": 1}, \"coloraxis\": {\"colorbar\": {\"outlinewidth\": 0, \"ticks\": \"\"}}, \"colorscale\": {\"diverging\": [[0, \"#8e0152\"], [0.1, \"#c51b7d\"], [0.2, \"#de77ae\"], [0.3, \"#f1b6da\"], [0.4, \"#fde0ef\"], [0.5, \"#f7f7f7\"], [0.6, \"#e6f5d0\"], [0.7, \"#b8e186\"], [0.8, \"#7fbc41\"], [0.9, \"#4d9221\"], [1, \"#276419\"]], \"sequential\": [[0.0, \"#0d0887\"], [0.1111111111111111, \"#46039f\"], [0.2222222222222222, \"#7201a8\"], [0.3333333333333333, \"#9c179e\"], [0.4444444444444444, \"#bd3786\"], [0.5555555555555556, \"#d8576b\"], [0.6666666666666666, \"#ed7953\"], [0.7777777777777778, \"#fb9f3a\"], [0.8888888888888888, \"#fdca26\"], [1.0, \"#f0f921\"]], \"sequentialminus\": [[0.0, \"#0d0887\"], [0.1111111111111111, \"#46039f\"], [0.2222222222222222, \"#7201a8\"], [0.3333333333333333, \"#9c179e\"], [0.4444444444444444, \"#bd3786\"], [0.5555555555555556, \"#d8576b\"], [0.6666666666666666, \"#ed7953\"], [0.7777777777777778, \"#fb9f3a\"], [0.8888888888888888, \"#fdca26\"], [1.0, \"#f0f921\"]]}, \"colorway\": [\"#636efa\", \"#EF553B\", \"#00cc96\", \"#ab63fa\", \"#FFA15A\", \"#19d3f3\", \"#FF6692\", \"#B6E880\", \"#FF97FF\", \"#FECB52\"], \"font\": {\"color\": \"#2a3f5f\"}, \"geo\": {\"bgcolor\": \"white\", \"lakecolor\": \"white\", \"landcolor\": \"#E5ECF6\", \"showlakes\": true, \"showland\": true, \"subunitcolor\": \"white\"}, \"hoverlabel\": {\"align\": \"left\"}, \"hovermode\": \"closest\", \"mapbox\": {\"style\": \"light\"}, \"paper_bgcolor\": \"white\", \"plot_bgcolor\": \"#E5ECF6\", \"polar\": {\"angularaxis\": {\"gridcolor\": \"white\", \"linecolor\": \"white\", \"ticks\": \"\"}, \"bgcolor\": \"#E5ECF6\", \"radialaxis\": {\"gridcolor\": \"white\", \"linecolor\": \"white\", \"ticks\": \"\"}}, \"scene\": {\"xaxis\": {\"backgroundcolor\": \"#E5ECF6\", \"gridcolor\": \"white\", \"gridwidth\": 2, \"linecolor\": \"white\", \"showbackground\": true, \"ticks\": \"\", \"zerolinecolor\": \"white\"}, \"yaxis\": {\"backgroundcolor\": \"#E5ECF6\", \"gridcolor\": \"white\", \"gridwidth\": 2, \"linecolor\": \"white\", \"showbackground\": true, \"ticks\": \"\", \"zerolinecolor\": \"white\"}, \"zaxis\": {\"backgroundcolor\": \"#E5ECF6\", \"gridcolor\": \"white\", \"gridwidth\": 2, \"linecolor\": \"white\", \"showbackground\": true, \"ticks\": \"\", \"zerolinecolor\": \"white\"}}, \"shapedefaults\": {\"line\": {\"color\": \"#2a3f5f\"}}, \"ternary\": {\"aaxis\": {\"gridcolor\": \"white\", \"linecolor\": \"white\", \"ticks\": \"\"}, \"baxis\": {\"gridcolor\": \"white\", \"linecolor\": \"white\", \"ticks\": \"\"}, \"bgcolor\": \"#E5ECF6\", \"caxis\": {\"gridcolor\": \"white\", \"linecolor\": \"white\", \"ticks\": \"\"}}, \"title\": {\"x\": 0.05}, \"xaxis\": {\"automargin\": true, \"gridcolor\": \"white\", \"linecolor\": \"white\", \"ticks\": \"\", \"title\": {\"standoff\": 15}, \"zerolinecolor\": \"white\", \"zerolinewidth\": 2}, \"yaxis\": {\"automargin\": true, \"gridcolor\": \"white\", \"linecolor\": \"white\", \"ticks\": \"\", \"title\": {\"standoff\": 15}, \"zerolinecolor\": \"white\", \"zerolinewidth\": 2}}}, \"width\": 1000, \"xaxis\": {\"anchor\": \"y\", \"domain\": [0.0, 1.0], \"title\": {\"text\": \"payback_period\"}}, \"yaxis\": {\"anchor\": \"x\", \"domain\": [0.0, 1.0], \"title\": {\"text\": \"annual_rent\"}}},\n",
       "                        {\"responsive\": true}\n",
       "                    ).then(function(){\n",
       "                            \n",
       "var gd = document.getElementById('6fba2852-13fc-49ef-bb31-f15f4035ce29');\n",
       "var x = new MutationObserver(function (mutations, observer) {{\n",
       "        var display = window.getComputedStyle(gd).display;\n",
       "        if (!display || display === 'none') {{\n",
       "            console.log([gd, 'removed!']);\n",
       "            Plotly.purge(gd);\n",
       "            observer.disconnect();\n",
       "        }}\n",
       "}});\n",
       "\n",
       "// Listen for the removal of the full notebook cells\n",
       "var notebookContainer = gd.closest('#notebook-container');\n",
       "if (notebookContainer) {{\n",
       "    x.observe(notebookContainer, {childList: true});\n",
       "}}\n",
       "\n",
       "// Listen for the clearing of the current output cell\n",
       "var outputEl = gd.closest('.output');\n",
       "if (outputEl) {{\n",
       "    x.observe(outputEl, {childList: true});\n",
       "}}\n",
       "\n",
       "                        })\n",
       "                };\n",
       "                });\n",
       "            </script>\n",
       "        </div>"
      ]
     },
     "metadata": {},
     "output_type": "display_data"
    }
   ],
   "source": [
    "fig=px.scatter(dat,x=\"payback_period\",y=\"annual_rent\",color=\"CountyName\",color_discrete_sequence=px.colors.qualitative.Alphabet,text=\"zipcode\")\n",
    "fig.update_traces(textposition='top right',textfont_size=7)\n",
    "fig.update_layout(height=600, width=1000)"
   ]
  },
  {
   "cell_type": "markdown",
   "metadata": {
    "slideshow": {
     "slide_type": "subslide"
    }
   },
   "source": [
    " Insights :- Keeping rental and equity appreciation of  the properties in mind  the properties in Kings county are estimated to earn highest ROI\n",
    "    in 10 years while in conservative estimate they still perform at the median.\n",
    "    \n",
    "  For short term investment buy in and sell off properties in kings county are a good investment.\n",
    "  Specifically zipcodes 11201 and 11217 are good to invest in keeping in mind equity appreciation."
   ]
  },
  {
   "cell_type": "code",
   "execution_count": 27,
   "metadata": {},
   "outputs": [
    {
     "data": {
      "application/vnd.plotly.v1+json": {
       "config": {
        "plotlyServerURL": "https://plot.ly"
       },
       "data": [
        {
         "customdata": [
          [
           88980.65217391304,
           "New York",
           32.08089637769522,
           0.7404560177188599,
           2147000
          ],
          [
           101690.52083333333,
           "New York",
           31.03588417112712,
           0.8555005927848168,
           2480400
          ],
          [
           113872.32476635514,
           "New York",
           42.183286917702816,
           0.7684878181820852,
           3316500
          ],
          [
           95526.58333333333,
           "New York",
           34.04607207594134,
           0.8853824787747999,
           2491600
          ],
          [
           76180.71428571429,
           "New York",
           32.44938842044641,
           0.6034084163043948,
           1815600
          ],
          [
           97069.43661971831,
           "New York",
           29.217997398706835,
           0.5263006999306058,
           2031600
          ],
          [
           82162.640625,
           "New York",
           29.216638352605933,
           0.6571447899079372,
           2142300
          ],
          [
           91185.03,
           "New York",
           24.658066520863702,
           0.8247155464070905,
           1431000
          ],
          [
           76072.5,
           "New York",
           33.73099791684468,
           0.6750120987913282,
           2083900
          ],
          [
           96778.02364864865,
           "New York",
           22.890756996324267,
           0.5553639466228332,
           1712900
          ],
          [
           75626.59615384616,
           "New York",
           32.6341549294185,
           1.0633341568427723,
           1787100
          ]
         ],
         "hoverlabel": {
          "namelength": 0
         },
         "hovertemplate": "<b>%{hovertext}</b><br><br>CountyName=%{customdata[1]}<br>payback_period=%{customdata[2]}<br>roi_equity=%{customdata[3]}<br>annual_rent=%{customdata[0]}<br>sell_price=%{customdata[4]}<br>zipcode=%{text}",
         "hovertext": [
          "10003",
          "10011",
          "10013",
          "10014",
          "10021",
          "10022",
          "10023",
          "10025",
          "10028",
          "10036",
          "10128"
         ],
         "legendgroup": "New York",
         "marker": {
          "color": "#AA0DFE",
          "symbol": "circle"
         },
         "mode": "markers+text",
         "name": "New York",
         "showlegend": true,
         "text": [
          "10003",
          "10011",
          "10013",
          "10014",
          "10021",
          "10022",
          "10023",
          "10025",
          "10028",
          "10036",
          "10128"
         ],
         "textfont": {
          "size": 7
         },
         "textposition": "top right",
         "type": "scatter",
         "x": [
          32.08089637769522,
          31.03588417112712,
          42.183286917702816,
          34.04607207594134,
          32.44938842044641,
          29.217997398706835,
          29.216638352605933,
          24.658066520863702,
          33.73099791684468,
          22.890756996324267,
          32.6341549294185
         ],
         "xaxis": "x",
         "y": [
          0.7404560177188599,
          0.8555005927848168,
          0.7684878181820852,
          0.8853824787747999,
          0.6034084163043948,
          0.5263006999306058,
          0.6571447899079372,
          0.8247155464070905,
          0.6750120987913282,
          0.5553639466228332,
          1.0633341568427723
         ],
         "yaxis": "y"
        },
        {
         "customdata": [
          [
           28470,
           "Richmond",
           12.112171146947045,
           0.10994349388841287,
           327700
          ],
          [
           25550,
           "Richmond",
           13.172198796423743,
           0.08593662561877057,
           328300
          ],
          [
           41359.0625,
           "Richmond",
           12.633061067324244,
           0.2454247404191698,
           425100
          ],
          [
           32165.625,
           "Richmond",
           11.096927425694549,
           0.07961601148005992,
           352900
          ],
          [
           59951.25,
           "Richmond",
           6.893939393939394,
           0.18167141686290786,
           409500
          ],
          [
           23268.75,
           "Richmond",
           16.782164920762824,
           0.14970041469002554,
           390500
          ],
          [
           29291.25,
           "Richmond",
           13.16525134816835,
           0.14595856187986572,
           357300
          ]
         ],
         "hoverlabel": {
          "namelength": 0
         },
         "hovertemplate": "<b>%{hovertext}</b><br><br>CountyName=%{customdata[1]}<br>payback_period=%{customdata[2]}<br>roi_equity=%{customdata[3]}<br>annual_rent=%{customdata[0]}<br>sell_price=%{customdata[4]}<br>zipcode=%{text}",
         "hovertext": [
          "10303",
          "10304",
          "10305",
          "10306",
          "10308",
          "10309",
          "10314"
         ],
         "legendgroup": "Richmond",
         "marker": {
          "color": "#3283FE",
          "symbol": "circle"
         },
         "mode": "markers+text",
         "name": "Richmond",
         "showlegend": true,
         "text": [
          "10303",
          "10304",
          "10305",
          "10306",
          "10308",
          "10309",
          "10314"
         ],
         "textfont": {
          "size": 7
         },
         "textposition": "top right",
         "type": "scatter",
         "x": [
          12.112171146947045,
          13.172198796423743,
          12.633061067324244,
          11.096927425694549,
          6.893939393939394,
          16.782164920762824,
          13.16525134816835
         ],
         "xaxis": "x",
         "y": [
          0.10994349388841287,
          0.08593662561877057,
          0.2454247404191698,
          0.07961601148005992,
          0.18167141686290786,
          0.14970041469002554,
          0.14595856187986572
         ],
         "yaxis": "y"
        },
        {
         "customdata": [
          [
           68112.81976744186,
           "Kings",
           24.128617418908984,
           2.598937198987557,
           1420700
          ],
          [
           51465,
           "Kings",
           23.795780950606996,
           1.9129216013806543,
           1070800
          ],
          [
           67110.69556451614,
           "Kings",
           25.252635651122453,
           2.555369154907646,
           1302300
          ],
          [
           58470.645161290326,
           "Kings",
           24.745395657003908,
           1.9596268811406015,
           1202900
          ],
          [
           36986.666666666664,
           "Kings",
           13.755554873047364,
           0.17372357637158434,
           476900
          ]
         ],
         "hoverlabel": {
          "namelength": 0
         },
         "hovertemplate": "<b>%{hovertext}</b><br><br>CountyName=%{customdata[1]}<br>payback_period=%{customdata[2]}<br>roi_equity=%{customdata[3]}<br>annual_rent=%{customdata[0]}<br>sell_price=%{customdata[4]}<br>zipcode=%{text}",
         "hovertext": [
          "11201",
          "11215",
          "11217",
          "11231",
          "11234"
         ],
         "legendgroup": "Kings",
         "marker": {
          "color": "#85660D",
          "symbol": "circle"
         },
         "mode": "markers+text",
         "name": "Kings",
         "showlegend": true,
         "text": [
          "11201",
          "11215",
          "11217",
          "11231",
          "11234"
         ],
         "textfont": {
          "size": 7
         },
         "textposition": "top right",
         "type": "scatter",
         "x": [
          24.128617418908984,
          23.795780950606996,
          25.252635651122453,
          24.745395657003908,
          13.755554873047364
         ],
         "xaxis": "x",
         "y": [
          2.598937198987557,
          1.9129216013806543,
          2.555369154907646,
          1.9596268811406015,
          0.17372357637158434
         ],
         "yaxis": "y"
        },
        {
         "customdata": [
          [
           41832.421875,
           "Queens",
           10.49790435854773,
           -0.020309025078392752,
           382300
          ]
         ],
         "hoverlabel": {
          "namelength": 0
         },
         "hovertemplate": "<b>%{hovertext}</b><br><br>CountyName=%{customdata[1]}<br>payback_period=%{customdata[2]}<br>roi_equity=%{customdata[3]}<br>annual_rent=%{customdata[0]}<br>sell_price=%{customdata[4]}<br>zipcode=%{text}",
         "hovertext": [
          "11434"
         ],
         "legendgroup": "Queens",
         "marker": {
          "color": "#782AB6",
          "symbol": "circle"
         },
         "mode": "markers+text",
         "name": "Queens",
         "showlegend": true,
         "text": [
          "11434"
         ],
         "textfont": {
          "size": 7
         },
         "textposition": "top right",
         "type": "scatter",
         "x": [
          10.49790435854773
         ],
         "xaxis": "x",
         "y": [
          -0.020309025078392752
         ],
         "yaxis": "y"
        }
       ],
       "layout": {
        "height": 600,
        "legend": {
         "title": {
          "text": "CountyName"
         },
         "tracegroupgap": 0
        },
        "margin": {
         "t": 60
        },
        "template": {
         "data": {
          "bar": [
           {
            "error_x": {
             "color": "#2a3f5f"
            },
            "error_y": {
             "color": "#2a3f5f"
            },
            "marker": {
             "line": {
              "color": "#E5ECF6",
              "width": 0.5
             }
            },
            "type": "bar"
           }
          ],
          "barpolar": [
           {
            "marker": {
             "line": {
              "color": "#E5ECF6",
              "width": 0.5
             }
            },
            "type": "barpolar"
           }
          ],
          "carpet": [
           {
            "aaxis": {
             "endlinecolor": "#2a3f5f",
             "gridcolor": "white",
             "linecolor": "white",
             "minorgridcolor": "white",
             "startlinecolor": "#2a3f5f"
            },
            "baxis": {
             "endlinecolor": "#2a3f5f",
             "gridcolor": "white",
             "linecolor": "white",
             "minorgridcolor": "white",
             "startlinecolor": "#2a3f5f"
            },
            "type": "carpet"
           }
          ],
          "choropleth": [
           {
            "colorbar": {
             "outlinewidth": 0,
             "ticks": ""
            },
            "type": "choropleth"
           }
          ],
          "contour": [
           {
            "colorbar": {
             "outlinewidth": 0,
             "ticks": ""
            },
            "colorscale": [
             [
              0,
              "#0d0887"
             ],
             [
              0.1111111111111111,
              "#46039f"
             ],
             [
              0.2222222222222222,
              "#7201a8"
             ],
             [
              0.3333333333333333,
              "#9c179e"
             ],
             [
              0.4444444444444444,
              "#bd3786"
             ],
             [
              0.5555555555555556,
              "#d8576b"
             ],
             [
              0.6666666666666666,
              "#ed7953"
             ],
             [
              0.7777777777777778,
              "#fb9f3a"
             ],
             [
              0.8888888888888888,
              "#fdca26"
             ],
             [
              1,
              "#f0f921"
             ]
            ],
            "type": "contour"
           }
          ],
          "contourcarpet": [
           {
            "colorbar": {
             "outlinewidth": 0,
             "ticks": ""
            },
            "type": "contourcarpet"
           }
          ],
          "heatmap": [
           {
            "colorbar": {
             "outlinewidth": 0,
             "ticks": ""
            },
            "colorscale": [
             [
              0,
              "#0d0887"
             ],
             [
              0.1111111111111111,
              "#46039f"
             ],
             [
              0.2222222222222222,
              "#7201a8"
             ],
             [
              0.3333333333333333,
              "#9c179e"
             ],
             [
              0.4444444444444444,
              "#bd3786"
             ],
             [
              0.5555555555555556,
              "#d8576b"
             ],
             [
              0.6666666666666666,
              "#ed7953"
             ],
             [
              0.7777777777777778,
              "#fb9f3a"
             ],
             [
              0.8888888888888888,
              "#fdca26"
             ],
             [
              1,
              "#f0f921"
             ]
            ],
            "type": "heatmap"
           }
          ],
          "heatmapgl": [
           {
            "colorbar": {
             "outlinewidth": 0,
             "ticks": ""
            },
            "colorscale": [
             [
              0,
              "#0d0887"
             ],
             [
              0.1111111111111111,
              "#46039f"
             ],
             [
              0.2222222222222222,
              "#7201a8"
             ],
             [
              0.3333333333333333,
              "#9c179e"
             ],
             [
              0.4444444444444444,
              "#bd3786"
             ],
             [
              0.5555555555555556,
              "#d8576b"
             ],
             [
              0.6666666666666666,
              "#ed7953"
             ],
             [
              0.7777777777777778,
              "#fb9f3a"
             ],
             [
              0.8888888888888888,
              "#fdca26"
             ],
             [
              1,
              "#f0f921"
             ]
            ],
            "type": "heatmapgl"
           }
          ],
          "histogram": [
           {
            "marker": {
             "colorbar": {
              "outlinewidth": 0,
              "ticks": ""
             }
            },
            "type": "histogram"
           }
          ],
          "histogram2d": [
           {
            "colorbar": {
             "outlinewidth": 0,
             "ticks": ""
            },
            "colorscale": [
             [
              0,
              "#0d0887"
             ],
             [
              0.1111111111111111,
              "#46039f"
             ],
             [
              0.2222222222222222,
              "#7201a8"
             ],
             [
              0.3333333333333333,
              "#9c179e"
             ],
             [
              0.4444444444444444,
              "#bd3786"
             ],
             [
              0.5555555555555556,
              "#d8576b"
             ],
             [
              0.6666666666666666,
              "#ed7953"
             ],
             [
              0.7777777777777778,
              "#fb9f3a"
             ],
             [
              0.8888888888888888,
              "#fdca26"
             ],
             [
              1,
              "#f0f921"
             ]
            ],
            "type": "histogram2d"
           }
          ],
          "histogram2dcontour": [
           {
            "colorbar": {
             "outlinewidth": 0,
             "ticks": ""
            },
            "colorscale": [
             [
              0,
              "#0d0887"
             ],
             [
              0.1111111111111111,
              "#46039f"
             ],
             [
              0.2222222222222222,
              "#7201a8"
             ],
             [
              0.3333333333333333,
              "#9c179e"
             ],
             [
              0.4444444444444444,
              "#bd3786"
             ],
             [
              0.5555555555555556,
              "#d8576b"
             ],
             [
              0.6666666666666666,
              "#ed7953"
             ],
             [
              0.7777777777777778,
              "#fb9f3a"
             ],
             [
              0.8888888888888888,
              "#fdca26"
             ],
             [
              1,
              "#f0f921"
             ]
            ],
            "type": "histogram2dcontour"
           }
          ],
          "mesh3d": [
           {
            "colorbar": {
             "outlinewidth": 0,
             "ticks": ""
            },
            "type": "mesh3d"
           }
          ],
          "parcoords": [
           {
            "line": {
             "colorbar": {
              "outlinewidth": 0,
              "ticks": ""
             }
            },
            "type": "parcoords"
           }
          ],
          "pie": [
           {
            "automargin": true,
            "type": "pie"
           }
          ],
          "scatter": [
           {
            "marker": {
             "colorbar": {
              "outlinewidth": 0,
              "ticks": ""
             }
            },
            "type": "scatter"
           }
          ],
          "scatter3d": [
           {
            "line": {
             "colorbar": {
              "outlinewidth": 0,
              "ticks": ""
             }
            },
            "marker": {
             "colorbar": {
              "outlinewidth": 0,
              "ticks": ""
             }
            },
            "type": "scatter3d"
           }
          ],
          "scattercarpet": [
           {
            "marker": {
             "colorbar": {
              "outlinewidth": 0,
              "ticks": ""
             }
            },
            "type": "scattercarpet"
           }
          ],
          "scattergeo": [
           {
            "marker": {
             "colorbar": {
              "outlinewidth": 0,
              "ticks": ""
             }
            },
            "type": "scattergeo"
           }
          ],
          "scattergl": [
           {
            "marker": {
             "colorbar": {
              "outlinewidth": 0,
              "ticks": ""
             }
            },
            "type": "scattergl"
           }
          ],
          "scattermapbox": [
           {
            "marker": {
             "colorbar": {
              "outlinewidth": 0,
              "ticks": ""
             }
            },
            "type": "scattermapbox"
           }
          ],
          "scatterpolar": [
           {
            "marker": {
             "colorbar": {
              "outlinewidth": 0,
              "ticks": ""
             }
            },
            "type": "scatterpolar"
           }
          ],
          "scatterpolargl": [
           {
            "marker": {
             "colorbar": {
              "outlinewidth": 0,
              "ticks": ""
             }
            },
            "type": "scatterpolargl"
           }
          ],
          "scatterternary": [
           {
            "marker": {
             "colorbar": {
              "outlinewidth": 0,
              "ticks": ""
             }
            },
            "type": "scatterternary"
           }
          ],
          "surface": [
           {
            "colorbar": {
             "outlinewidth": 0,
             "ticks": ""
            },
            "colorscale": [
             [
              0,
              "#0d0887"
             ],
             [
              0.1111111111111111,
              "#46039f"
             ],
             [
              0.2222222222222222,
              "#7201a8"
             ],
             [
              0.3333333333333333,
              "#9c179e"
             ],
             [
              0.4444444444444444,
              "#bd3786"
             ],
             [
              0.5555555555555556,
              "#d8576b"
             ],
             [
              0.6666666666666666,
              "#ed7953"
             ],
             [
              0.7777777777777778,
              "#fb9f3a"
             ],
             [
              0.8888888888888888,
              "#fdca26"
             ],
             [
              1,
              "#f0f921"
             ]
            ],
            "type": "surface"
           }
          ],
          "table": [
           {
            "cells": {
             "fill": {
              "color": "#EBF0F8"
             },
             "line": {
              "color": "white"
             }
            },
            "header": {
             "fill": {
              "color": "#C8D4E3"
             },
             "line": {
              "color": "white"
             }
            },
            "type": "table"
           }
          ]
         },
         "layout": {
          "annotationdefaults": {
           "arrowcolor": "#2a3f5f",
           "arrowhead": 0,
           "arrowwidth": 1
          },
          "coloraxis": {
           "colorbar": {
            "outlinewidth": 0,
            "ticks": ""
           }
          },
          "colorscale": {
           "diverging": [
            [
             0,
             "#8e0152"
            ],
            [
             0.1,
             "#c51b7d"
            ],
            [
             0.2,
             "#de77ae"
            ],
            [
             0.3,
             "#f1b6da"
            ],
            [
             0.4,
             "#fde0ef"
            ],
            [
             0.5,
             "#f7f7f7"
            ],
            [
             0.6,
             "#e6f5d0"
            ],
            [
             0.7,
             "#b8e186"
            ],
            [
             0.8,
             "#7fbc41"
            ],
            [
             0.9,
             "#4d9221"
            ],
            [
             1,
             "#276419"
            ]
           ],
           "sequential": [
            [
             0,
             "#0d0887"
            ],
            [
             0.1111111111111111,
             "#46039f"
            ],
            [
             0.2222222222222222,
             "#7201a8"
            ],
            [
             0.3333333333333333,
             "#9c179e"
            ],
            [
             0.4444444444444444,
             "#bd3786"
            ],
            [
             0.5555555555555556,
             "#d8576b"
            ],
            [
             0.6666666666666666,
             "#ed7953"
            ],
            [
             0.7777777777777778,
             "#fb9f3a"
            ],
            [
             0.8888888888888888,
             "#fdca26"
            ],
            [
             1,
             "#f0f921"
            ]
           ],
           "sequentialminus": [
            [
             0,
             "#0d0887"
            ],
            [
             0.1111111111111111,
             "#46039f"
            ],
            [
             0.2222222222222222,
             "#7201a8"
            ],
            [
             0.3333333333333333,
             "#9c179e"
            ],
            [
             0.4444444444444444,
             "#bd3786"
            ],
            [
             0.5555555555555556,
             "#d8576b"
            ],
            [
             0.6666666666666666,
             "#ed7953"
            ],
            [
             0.7777777777777778,
             "#fb9f3a"
            ],
            [
             0.8888888888888888,
             "#fdca26"
            ],
            [
             1,
             "#f0f921"
            ]
           ]
          },
          "colorway": [
           "#636efa",
           "#EF553B",
           "#00cc96",
           "#ab63fa",
           "#FFA15A",
           "#19d3f3",
           "#FF6692",
           "#B6E880",
           "#FF97FF",
           "#FECB52"
          ],
          "font": {
           "color": "#2a3f5f"
          },
          "geo": {
           "bgcolor": "white",
           "lakecolor": "white",
           "landcolor": "#E5ECF6",
           "showlakes": true,
           "showland": true,
           "subunitcolor": "white"
          },
          "hoverlabel": {
           "align": "left"
          },
          "hovermode": "closest",
          "mapbox": {
           "style": "light"
          },
          "paper_bgcolor": "white",
          "plot_bgcolor": "#E5ECF6",
          "polar": {
           "angularaxis": {
            "gridcolor": "white",
            "linecolor": "white",
            "ticks": ""
           },
           "bgcolor": "#E5ECF6",
           "radialaxis": {
            "gridcolor": "white",
            "linecolor": "white",
            "ticks": ""
           }
          },
          "scene": {
           "xaxis": {
            "backgroundcolor": "#E5ECF6",
            "gridcolor": "white",
            "gridwidth": 2,
            "linecolor": "white",
            "showbackground": true,
            "ticks": "",
            "zerolinecolor": "white"
           },
           "yaxis": {
            "backgroundcolor": "#E5ECF6",
            "gridcolor": "white",
            "gridwidth": 2,
            "linecolor": "white",
            "showbackground": true,
            "ticks": "",
            "zerolinecolor": "white"
           },
           "zaxis": {
            "backgroundcolor": "#E5ECF6",
            "gridcolor": "white",
            "gridwidth": 2,
            "linecolor": "white",
            "showbackground": true,
            "ticks": "",
            "zerolinecolor": "white"
           }
          },
          "shapedefaults": {
           "line": {
            "color": "#2a3f5f"
           }
          },
          "ternary": {
           "aaxis": {
            "gridcolor": "white",
            "linecolor": "white",
            "ticks": ""
           },
           "baxis": {
            "gridcolor": "white",
            "linecolor": "white",
            "ticks": ""
           },
           "bgcolor": "#E5ECF6",
           "caxis": {
            "gridcolor": "white",
            "linecolor": "white",
            "ticks": ""
           }
          },
          "title": {
           "x": 0.05
          },
          "xaxis": {
           "automargin": true,
           "gridcolor": "white",
           "linecolor": "white",
           "ticks": "",
           "title": {
            "standoff": 15
           },
           "zerolinecolor": "white",
           "zerolinewidth": 2
          },
          "yaxis": {
           "automargin": true,
           "gridcolor": "white",
           "linecolor": "white",
           "ticks": "",
           "title": {
            "standoff": 15
           },
           "zerolinecolor": "white",
           "zerolinewidth": 2
          }
         }
        },
        "width": 1000,
        "xaxis": {
         "anchor": "y",
         "domain": [
          0,
          1
         ],
         "title": {
          "text": "payback_period"
         }
        },
        "yaxis": {
         "anchor": "x",
         "domain": [
          0,
          1
         ],
         "title": {
          "text": "roi_equity"
         }
        }
       }
      },
      "text/html": [
       "<div>\n",
       "        \n",
       "        \n",
       "            <div id=\"bad7f043-c913-477c-9d8f-5228e0464773\" class=\"plotly-graph-div\" style=\"height:600px; width:1000px;\"></div>\n",
       "            <script type=\"text/javascript\">\n",
       "                require([\"plotly\"], function(Plotly) {\n",
       "                    window.PLOTLYENV=window.PLOTLYENV || {};\n",
       "                    \n",
       "                if (document.getElementById(\"bad7f043-c913-477c-9d8f-5228e0464773\")) {\n",
       "                    Plotly.newPlot(\n",
       "                        'bad7f043-c913-477c-9d8f-5228e0464773',\n",
       "                        [{\"customdata\": [[88980.65217391304, \"New York\", 32.08089637769522, 0.7404560177188599, 2147000.0], [101690.52083333333, \"New York\", 31.03588417112712, 0.8555005927848168, 2480400.0], [113872.32476635514, \"New York\", 42.183286917702816, 0.7684878181820852, 3316500.0], [95526.58333333333, \"New York\", 34.04607207594134, 0.8853824787747999, 2491600.0], [76180.71428571429, \"New York\", 32.44938842044641, 0.6034084163043948, 1815600.0], [97069.43661971831, \"New York\", 29.217997398706835, 0.5263006999306058, 2031600.0], [82162.640625, \"New York\", 29.216638352605933, 0.6571447899079372, 2142300.0], [91185.03, \"New York\", 24.658066520863702, 0.8247155464070905, 1431000.0], [76072.5, \"New York\", 33.73099791684468, 0.6750120987913282, 2083900.0], [96778.02364864865, \"New York\", 22.890756996324267, 0.5553639466228332, 1712900.0], [75626.59615384616, \"New York\", 32.6341549294185, 1.0633341568427723, 1787100.0]], \"hoverlabel\": {\"namelength\": 0}, \"hovertemplate\": \"<b>%{hovertext}</b><br><br>CountyName=%{customdata[1]}<br>payback_period=%{customdata[2]}<br>roi_equity=%{customdata[3]}<br>annual_rent=%{customdata[0]}<br>sell_price=%{customdata[4]}<br>zipcode=%{text}\", \"hovertext\": [\"10003\", \"10011\", \"10013\", \"10014\", \"10021\", \"10022\", \"10023\", \"10025\", \"10028\", \"10036\", \"10128\"], \"legendgroup\": \"New York\", \"marker\": {\"color\": \"#AA0DFE\", \"symbol\": \"circle\"}, \"mode\": \"markers+text\", \"name\": \"New York\", \"showlegend\": true, \"text\": [\"10003\", \"10011\", \"10013\", \"10014\", \"10021\", \"10022\", \"10023\", \"10025\", \"10028\", \"10036\", \"10128\"], \"textfont\": {\"size\": 7}, \"textposition\": \"top right\", \"type\": \"scatter\", \"x\": [32.08089637769522, 31.03588417112712, 42.183286917702816, 34.04607207594134, 32.44938842044641, 29.217997398706835, 29.216638352605933, 24.658066520863702, 33.73099791684468, 22.890756996324267, 32.6341549294185], \"xaxis\": \"x\", \"y\": [0.7404560177188599, 0.8555005927848168, 0.7684878181820852, 0.8853824787747999, 0.6034084163043948, 0.5263006999306058, 0.6571447899079372, 0.8247155464070905, 0.6750120987913282, 0.5553639466228332, 1.0633341568427723], \"yaxis\": \"y\"}, {\"customdata\": [[28470.0, \"Richmond\", 12.112171146947045, 0.10994349388841287, 327700.0], [25550.0, \"Richmond\", 13.172198796423743, 0.08593662561877057, 328300.0], [41359.0625, \"Richmond\", 12.633061067324244, 0.2454247404191698, 425100.0], [32165.625, \"Richmond\", 11.096927425694549, 0.07961601148005992, 352900.0], [59951.25, \"Richmond\", 6.893939393939394, 0.18167141686290786, 409500.0], [23268.75, \"Richmond\", 16.782164920762824, 0.14970041469002554, 390500.0], [29291.25, \"Richmond\", 13.16525134816835, 0.14595856187986572, 357300.0]], \"hoverlabel\": {\"namelength\": 0}, \"hovertemplate\": \"<b>%{hovertext}</b><br><br>CountyName=%{customdata[1]}<br>payback_period=%{customdata[2]}<br>roi_equity=%{customdata[3]}<br>annual_rent=%{customdata[0]}<br>sell_price=%{customdata[4]}<br>zipcode=%{text}\", \"hovertext\": [\"10303\", \"10304\", \"10305\", \"10306\", \"10308\", \"10309\", \"10314\"], \"legendgroup\": \"Richmond\", \"marker\": {\"color\": \"#3283FE\", \"symbol\": \"circle\"}, \"mode\": \"markers+text\", \"name\": \"Richmond\", \"showlegend\": true, \"text\": [\"10303\", \"10304\", \"10305\", \"10306\", \"10308\", \"10309\", \"10314\"], \"textfont\": {\"size\": 7}, \"textposition\": \"top right\", \"type\": \"scatter\", \"x\": [12.112171146947045, 13.172198796423743, 12.633061067324244, 11.096927425694549, 6.893939393939394, 16.782164920762824, 13.16525134816835], \"xaxis\": \"x\", \"y\": [0.10994349388841287, 0.08593662561877057, 0.2454247404191698, 0.07961601148005992, 0.18167141686290786, 0.14970041469002554, 0.14595856187986572], \"yaxis\": \"y\"}, {\"customdata\": [[68112.81976744186, \"Kings\", 24.128617418908984, 2.598937198987557, 1420700.0], [51465.0, \"Kings\", 23.795780950606996, 1.9129216013806543, 1070800.0], [67110.69556451614, \"Kings\", 25.252635651122453, 2.555369154907646, 1302300.0], [58470.645161290326, \"Kings\", 24.745395657003908, 1.9596268811406015, 1202900.0], [36986.666666666664, \"Kings\", 13.755554873047364, 0.17372357637158434, 476900.0]], \"hoverlabel\": {\"namelength\": 0}, \"hovertemplate\": \"<b>%{hovertext}</b><br><br>CountyName=%{customdata[1]}<br>payback_period=%{customdata[2]}<br>roi_equity=%{customdata[3]}<br>annual_rent=%{customdata[0]}<br>sell_price=%{customdata[4]}<br>zipcode=%{text}\", \"hovertext\": [\"11201\", \"11215\", \"11217\", \"11231\", \"11234\"], \"legendgroup\": \"Kings\", \"marker\": {\"color\": \"#85660D\", \"symbol\": \"circle\"}, \"mode\": \"markers+text\", \"name\": \"Kings\", \"showlegend\": true, \"text\": [\"11201\", \"11215\", \"11217\", \"11231\", \"11234\"], \"textfont\": {\"size\": 7}, \"textposition\": \"top right\", \"type\": \"scatter\", \"x\": [24.128617418908984, 23.795780950606996, 25.252635651122453, 24.745395657003908, 13.755554873047364], \"xaxis\": \"x\", \"y\": [2.598937198987557, 1.9129216013806543, 2.555369154907646, 1.9596268811406015, 0.17372357637158434], \"yaxis\": \"y\"}, {\"customdata\": [[41832.421875, \"Queens\", 10.49790435854773, -0.020309025078392752, 382300.0]], \"hoverlabel\": {\"namelength\": 0}, \"hovertemplate\": \"<b>%{hovertext}</b><br><br>CountyName=%{customdata[1]}<br>payback_period=%{customdata[2]}<br>roi_equity=%{customdata[3]}<br>annual_rent=%{customdata[0]}<br>sell_price=%{customdata[4]}<br>zipcode=%{text}\", \"hovertext\": [\"11434\"], \"legendgroup\": \"Queens\", \"marker\": {\"color\": \"#782AB6\", \"symbol\": \"circle\"}, \"mode\": \"markers+text\", \"name\": \"Queens\", \"showlegend\": true, \"text\": [\"11434\"], \"textfont\": {\"size\": 7}, \"textposition\": \"top right\", \"type\": \"scatter\", \"x\": [10.49790435854773], \"xaxis\": \"x\", \"y\": [-0.020309025078392752], \"yaxis\": \"y\"}],\n",
       "                        {\"height\": 600, \"legend\": {\"title\": {\"text\": \"CountyName\"}, \"tracegroupgap\": 0}, \"margin\": {\"t\": 60}, \"template\": {\"data\": {\"bar\": [{\"error_x\": {\"color\": \"#2a3f5f\"}, \"error_y\": {\"color\": \"#2a3f5f\"}, \"marker\": {\"line\": {\"color\": \"#E5ECF6\", \"width\": 0.5}}, \"type\": \"bar\"}], \"barpolar\": [{\"marker\": {\"line\": {\"color\": \"#E5ECF6\", \"width\": 0.5}}, \"type\": \"barpolar\"}], \"carpet\": [{\"aaxis\": {\"endlinecolor\": \"#2a3f5f\", \"gridcolor\": \"white\", \"linecolor\": \"white\", \"minorgridcolor\": \"white\", \"startlinecolor\": \"#2a3f5f\"}, \"baxis\": {\"endlinecolor\": \"#2a3f5f\", \"gridcolor\": \"white\", \"linecolor\": \"white\", \"minorgridcolor\": \"white\", \"startlinecolor\": \"#2a3f5f\"}, \"type\": \"carpet\"}], \"choropleth\": [{\"colorbar\": {\"outlinewidth\": 0, \"ticks\": \"\"}, \"type\": \"choropleth\"}], \"contour\": [{\"colorbar\": {\"outlinewidth\": 0, \"ticks\": \"\"}, \"colorscale\": [[0.0, \"#0d0887\"], [0.1111111111111111, \"#46039f\"], [0.2222222222222222, \"#7201a8\"], [0.3333333333333333, \"#9c179e\"], [0.4444444444444444, \"#bd3786\"], [0.5555555555555556, \"#d8576b\"], [0.6666666666666666, \"#ed7953\"], [0.7777777777777778, \"#fb9f3a\"], [0.8888888888888888, \"#fdca26\"], [1.0, \"#f0f921\"]], \"type\": \"contour\"}], \"contourcarpet\": [{\"colorbar\": {\"outlinewidth\": 0, \"ticks\": \"\"}, \"type\": \"contourcarpet\"}], \"heatmap\": [{\"colorbar\": {\"outlinewidth\": 0, \"ticks\": \"\"}, \"colorscale\": [[0.0, \"#0d0887\"], [0.1111111111111111, \"#46039f\"], [0.2222222222222222, \"#7201a8\"], [0.3333333333333333, \"#9c179e\"], [0.4444444444444444, \"#bd3786\"], [0.5555555555555556, \"#d8576b\"], [0.6666666666666666, \"#ed7953\"], [0.7777777777777778, \"#fb9f3a\"], [0.8888888888888888, \"#fdca26\"], [1.0, \"#f0f921\"]], \"type\": \"heatmap\"}], \"heatmapgl\": [{\"colorbar\": {\"outlinewidth\": 0, \"ticks\": \"\"}, \"colorscale\": [[0.0, \"#0d0887\"], [0.1111111111111111, \"#46039f\"], [0.2222222222222222, \"#7201a8\"], [0.3333333333333333, \"#9c179e\"], [0.4444444444444444, \"#bd3786\"], [0.5555555555555556, \"#d8576b\"], [0.6666666666666666, \"#ed7953\"], [0.7777777777777778, \"#fb9f3a\"], [0.8888888888888888, \"#fdca26\"], [1.0, \"#f0f921\"]], \"type\": \"heatmapgl\"}], \"histogram\": [{\"marker\": {\"colorbar\": {\"outlinewidth\": 0, \"ticks\": \"\"}}, \"type\": \"histogram\"}], \"histogram2d\": [{\"colorbar\": {\"outlinewidth\": 0, \"ticks\": \"\"}, \"colorscale\": [[0.0, \"#0d0887\"], [0.1111111111111111, \"#46039f\"], [0.2222222222222222, \"#7201a8\"], [0.3333333333333333, \"#9c179e\"], [0.4444444444444444, \"#bd3786\"], [0.5555555555555556, \"#d8576b\"], [0.6666666666666666, \"#ed7953\"], [0.7777777777777778, \"#fb9f3a\"], [0.8888888888888888, \"#fdca26\"], [1.0, \"#f0f921\"]], \"type\": \"histogram2d\"}], \"histogram2dcontour\": [{\"colorbar\": {\"outlinewidth\": 0, \"ticks\": \"\"}, \"colorscale\": [[0.0, \"#0d0887\"], [0.1111111111111111, \"#46039f\"], [0.2222222222222222, \"#7201a8\"], [0.3333333333333333, \"#9c179e\"], [0.4444444444444444, \"#bd3786\"], [0.5555555555555556, \"#d8576b\"], [0.6666666666666666, \"#ed7953\"], [0.7777777777777778, \"#fb9f3a\"], [0.8888888888888888, \"#fdca26\"], [1.0, \"#f0f921\"]], \"type\": \"histogram2dcontour\"}], \"mesh3d\": [{\"colorbar\": {\"outlinewidth\": 0, \"ticks\": \"\"}, \"type\": \"mesh3d\"}], \"parcoords\": [{\"line\": {\"colorbar\": {\"outlinewidth\": 0, \"ticks\": \"\"}}, \"type\": \"parcoords\"}], \"pie\": [{\"automargin\": true, \"type\": \"pie\"}], \"scatter\": [{\"marker\": {\"colorbar\": {\"outlinewidth\": 0, \"ticks\": \"\"}}, \"type\": \"scatter\"}], \"scatter3d\": [{\"line\": {\"colorbar\": {\"outlinewidth\": 0, \"ticks\": \"\"}}, \"marker\": {\"colorbar\": {\"outlinewidth\": 0, \"ticks\": \"\"}}, \"type\": \"scatter3d\"}], \"scattercarpet\": [{\"marker\": {\"colorbar\": {\"outlinewidth\": 0, \"ticks\": \"\"}}, \"type\": \"scattercarpet\"}], \"scattergeo\": [{\"marker\": {\"colorbar\": {\"outlinewidth\": 0, \"ticks\": \"\"}}, \"type\": \"scattergeo\"}], \"scattergl\": [{\"marker\": {\"colorbar\": {\"outlinewidth\": 0, \"ticks\": \"\"}}, \"type\": \"scattergl\"}], \"scattermapbox\": [{\"marker\": {\"colorbar\": {\"outlinewidth\": 0, \"ticks\": \"\"}}, \"type\": \"scattermapbox\"}], \"scatterpolar\": [{\"marker\": {\"colorbar\": {\"outlinewidth\": 0, \"ticks\": \"\"}}, \"type\": \"scatterpolar\"}], \"scatterpolargl\": [{\"marker\": {\"colorbar\": {\"outlinewidth\": 0, \"ticks\": \"\"}}, \"type\": \"scatterpolargl\"}], \"scatterternary\": [{\"marker\": {\"colorbar\": {\"outlinewidth\": 0, \"ticks\": \"\"}}, \"type\": \"scatterternary\"}], \"surface\": [{\"colorbar\": {\"outlinewidth\": 0, \"ticks\": \"\"}, \"colorscale\": [[0.0, \"#0d0887\"], [0.1111111111111111, \"#46039f\"], [0.2222222222222222, \"#7201a8\"], [0.3333333333333333, \"#9c179e\"], [0.4444444444444444, \"#bd3786\"], [0.5555555555555556, \"#d8576b\"], [0.6666666666666666, \"#ed7953\"], [0.7777777777777778, \"#fb9f3a\"], [0.8888888888888888, \"#fdca26\"], [1.0, \"#f0f921\"]], \"type\": \"surface\"}], \"table\": [{\"cells\": {\"fill\": {\"color\": \"#EBF0F8\"}, \"line\": {\"color\": \"white\"}}, \"header\": {\"fill\": {\"color\": \"#C8D4E3\"}, \"line\": {\"color\": \"white\"}}, \"type\": \"table\"}]}, \"layout\": {\"annotationdefaults\": {\"arrowcolor\": \"#2a3f5f\", \"arrowhead\": 0, \"arrowwidth\": 1}, \"coloraxis\": {\"colorbar\": {\"outlinewidth\": 0, \"ticks\": \"\"}}, \"colorscale\": {\"diverging\": [[0, \"#8e0152\"], [0.1, \"#c51b7d\"], [0.2, \"#de77ae\"], [0.3, \"#f1b6da\"], [0.4, \"#fde0ef\"], [0.5, \"#f7f7f7\"], [0.6, \"#e6f5d0\"], [0.7, \"#b8e186\"], [0.8, \"#7fbc41\"], [0.9, \"#4d9221\"], [1, \"#276419\"]], \"sequential\": [[0.0, \"#0d0887\"], [0.1111111111111111, \"#46039f\"], [0.2222222222222222, \"#7201a8\"], [0.3333333333333333, \"#9c179e\"], [0.4444444444444444, \"#bd3786\"], [0.5555555555555556, \"#d8576b\"], [0.6666666666666666, \"#ed7953\"], [0.7777777777777778, \"#fb9f3a\"], [0.8888888888888888, \"#fdca26\"], [1.0, \"#f0f921\"]], \"sequentialminus\": [[0.0, \"#0d0887\"], [0.1111111111111111, \"#46039f\"], [0.2222222222222222, \"#7201a8\"], [0.3333333333333333, \"#9c179e\"], [0.4444444444444444, \"#bd3786\"], [0.5555555555555556, \"#d8576b\"], [0.6666666666666666, \"#ed7953\"], [0.7777777777777778, \"#fb9f3a\"], [0.8888888888888888, \"#fdca26\"], [1.0, \"#f0f921\"]]}, \"colorway\": [\"#636efa\", \"#EF553B\", \"#00cc96\", \"#ab63fa\", \"#FFA15A\", \"#19d3f3\", \"#FF6692\", \"#B6E880\", \"#FF97FF\", \"#FECB52\"], \"font\": {\"color\": \"#2a3f5f\"}, \"geo\": {\"bgcolor\": \"white\", \"lakecolor\": \"white\", \"landcolor\": \"#E5ECF6\", \"showlakes\": true, \"showland\": true, \"subunitcolor\": \"white\"}, \"hoverlabel\": {\"align\": \"left\"}, \"hovermode\": \"closest\", \"mapbox\": {\"style\": \"light\"}, \"paper_bgcolor\": \"white\", \"plot_bgcolor\": \"#E5ECF6\", \"polar\": {\"angularaxis\": {\"gridcolor\": \"white\", \"linecolor\": \"white\", \"ticks\": \"\"}, \"bgcolor\": \"#E5ECF6\", \"radialaxis\": {\"gridcolor\": \"white\", \"linecolor\": \"white\", \"ticks\": \"\"}}, \"scene\": {\"xaxis\": {\"backgroundcolor\": \"#E5ECF6\", \"gridcolor\": \"white\", \"gridwidth\": 2, \"linecolor\": \"white\", \"showbackground\": true, \"ticks\": \"\", \"zerolinecolor\": \"white\"}, \"yaxis\": {\"backgroundcolor\": \"#E5ECF6\", \"gridcolor\": \"white\", \"gridwidth\": 2, \"linecolor\": \"white\", \"showbackground\": true, \"ticks\": \"\", \"zerolinecolor\": \"white\"}, \"zaxis\": {\"backgroundcolor\": \"#E5ECF6\", \"gridcolor\": \"white\", \"gridwidth\": 2, \"linecolor\": \"white\", \"showbackground\": true, \"ticks\": \"\", \"zerolinecolor\": \"white\"}}, \"shapedefaults\": {\"line\": {\"color\": \"#2a3f5f\"}}, \"ternary\": {\"aaxis\": {\"gridcolor\": \"white\", \"linecolor\": \"white\", \"ticks\": \"\"}, \"baxis\": {\"gridcolor\": \"white\", \"linecolor\": \"white\", \"ticks\": \"\"}, \"bgcolor\": \"#E5ECF6\", \"caxis\": {\"gridcolor\": \"white\", \"linecolor\": \"white\", \"ticks\": \"\"}}, \"title\": {\"x\": 0.05}, \"xaxis\": {\"automargin\": true, \"gridcolor\": \"white\", \"linecolor\": \"white\", \"ticks\": \"\", \"title\": {\"standoff\": 15}, \"zerolinecolor\": \"white\", \"zerolinewidth\": 2}, \"yaxis\": {\"automargin\": true, \"gridcolor\": \"white\", \"linecolor\": \"white\", \"ticks\": \"\", \"title\": {\"standoff\": 15}, \"zerolinecolor\": \"white\", \"zerolinewidth\": 2}}}, \"width\": 1000, \"xaxis\": {\"anchor\": \"y\", \"domain\": [0.0, 1.0], \"title\": {\"text\": \"payback_period\"}}, \"yaxis\": {\"anchor\": \"x\", \"domain\": [0.0, 1.0], \"title\": {\"text\": \"roi_equity\"}}},\n",
       "                        {\"responsive\": true}\n",
       "                    ).then(function(){\n",
       "                            \n",
       "var gd = document.getElementById('bad7f043-c913-477c-9d8f-5228e0464773');\n",
       "var x = new MutationObserver(function (mutations, observer) {{\n",
       "        var display = window.getComputedStyle(gd).display;\n",
       "        if (!display || display === 'none') {{\n",
       "            console.log([gd, 'removed!']);\n",
       "            Plotly.purge(gd);\n",
       "            observer.disconnect();\n",
       "        }}\n",
       "}});\n",
       "\n",
       "// Listen for the removal of the full notebook cells\n",
       "var notebookContainer = gd.closest('#notebook-container');\n",
       "if (notebookContainer) {{\n",
       "    x.observe(notebookContainer, {childList: true});\n",
       "}}\n",
       "\n",
       "// Listen for the clearing of the current output cell\n",
       "var outputEl = gd.closest('.output');\n",
       "if (outputEl) {{\n",
       "    x.observe(outputEl, {childList: true});\n",
       "}}\n",
       "\n",
       "                        })\n",
       "                };\n",
       "                });\n",
       "            </script>\n",
       "        </div>"
      ]
     },
     "metadata": {},
     "output_type": "display_data"
    }
   ],
   "source": [
    "fig=px.scatter(dat,x=\"payback_period\",y=\"roi_equity\",color=\"CountyName\",text=\"zipcode\",color_discrete_sequence=px.colors.qualitative.Alphabet,hover_name=\"zipcode\",hover_data=[\"annual_rent\",\"CountyName\",\"payback_period\",\"roi_equity\",\"sell_price\"])\n",
    "fig.update_traces(textposition='top right',textfont_size=7)\n",
    "fig.update_layout(height=600, width=1000)"
   ]
  },
  {
   "cell_type": "markdown",
   "metadata": {
    "slideshow": {
     "slide_type": "subslide"
    }
   },
   "source": [
    "Even without considering the option of selling out(equity appreciation) but assuming rental value will appreciate \n",
    "kings county will have a good roi in 10 years and will gain about 1.4-1.8 times the value of the investment.\n",
    "But only by rental appreciation 10308 zipcode is the \"sweetest spot\" to invest as it has high ROI and low payback."
   ]
  },
  {
   "cell_type": "code",
   "execution_count": 28,
   "metadata": {},
   "outputs": [
    {
     "data": {
      "application/vnd.plotly.v1+json": {
       "config": {
        "plotlyServerURL": "https://plot.ly"
       },
       "data": [
        {
         "customdata": [
          [
           88980.65217391304,
           32.08089637769522,
           1.1548978070710412,
           2147000
          ],
          [
           101690.52083333333,
           31.03588417112712,
           1.265476890290594,
           2480400
          ],
          [
           113872.32476635514,
           42.183286917702816,
           1.1118387145075945,
           3316500
          ],
          [
           95526.58333333333,
           34.04607207594134,
           1.2687770177591198,
           2491600
          ],
          [
           76180.71428571429,
           32.44938842044641,
           1.0229981623151585,
           1815600
          ],
          [
           97069.43661971831,
           29.217997398706835,
           1.0040986750227414,
           2031600
          ],
          [
           82162.640625,
           29.216638352605933,
           1.040670162754877,
           2142300
          ],
          [
           91185.03,
           24.658066520863702,
           1.4619274960926236,
           1431000
          ],
          [
           76072.5,
           33.73099791684468,
           1.0400608055430924,
           2083900
          ],
          [
           96778.02364864865,
           22.890756996324267,
           1.1203591223403218,
           1712900
          ],
          [
           75626.59615384616,
           32.6341549294185,
           1.486514707197237,
           1787100
          ]
         ],
         "hoverlabel": {
          "namelength": 0
         },
         "hovertemplate": "<b>%{hovertext}</b><br><br>CountyName=New York<br>payback_period=%{customdata[1]}<br>roi=%{customdata[2]}<br>annual_rent=%{customdata[0]}<br>sell_price=%{customdata[3]}<br>zipcode=%{text}",
         "hovertext": [
          "10003",
          "10011",
          "10013",
          "10014",
          "10021",
          "10022",
          "10023",
          "10025",
          "10028",
          "10036",
          "10128"
         ],
         "legendgroup": "New York",
         "marker": {
          "color": "#AA0DFE",
          "symbol": "circle"
         },
         "mode": "markers+text",
         "name": "New York",
         "showlegend": true,
         "text": [
          "10003",
          "10011",
          "10013",
          "10014",
          "10021",
          "10022",
          "10023",
          "10025",
          "10028",
          "10036",
          "10128"
         ],
         "textfont": {
          "size": 7
         },
         "textposition": "top right",
         "type": "scatter",
         "x": [
          32.08089637769522,
          31.03588417112712,
          42.183286917702816,
          34.04607207594134,
          32.44938842044641,
          29.217997398706835,
          29.216638352605933,
          24.658066520863702,
          33.73099791684468,
          22.890756996324267,
          32.6341549294185
         ],
         "xaxis": "x",
         "y": [
          1.1548978070710412,
          1.265476890290594,
          1.1118387145075945,
          1.2687770177591198,
          1.0229981623151585,
          1.0040986750227414,
          1.040670162754877,
          1.4619274960926236,
          1.0400608055430924,
          1.1203591223403218,
          1.486514707197237
         ],
         "yaxis": "y"
        },
        {
         "customdata": [
          [
           28470,
           12.112171146947045,
           0.978725916836231,
           327700
          ],
          [
           25550,
           13.172198796423743,
           0.8641882247658922,
           328300
          ],
          [
           41359.0625,
           12.633061067324244,
           1.2183502285396122,
           425100
          ],
          [
           32165.625,
           11.096927425694549,
           0.9910817241465375,
           352900
          ],
          [
           59951.25,
           6.893939393939394,
           1.6456824058738966,
           409500
          ],
          [
           23268.75,
           16.782164920762824,
           0.7455710933071832,
           390500
          ],
          [
           29291.25,
           13.16525134816835,
           0.9657528523920402,
           357300
          ]
         ],
         "hoverlabel": {
          "namelength": 0
         },
         "hovertemplate": "<b>%{hovertext}</b><br><br>CountyName=Richmond<br>payback_period=%{customdata[1]}<br>roi=%{customdata[2]}<br>annual_rent=%{customdata[0]}<br>sell_price=%{customdata[3]}<br>zipcode=%{text}",
         "hovertext": [
          "10303",
          "10304",
          "10305",
          "10306",
          "10308",
          "10309",
          "10314"
         ],
         "legendgroup": "Richmond",
         "marker": {
          "color": "#3283FE",
          "symbol": "circle"
         },
         "mode": "markers+text",
         "name": "Richmond",
         "showlegend": true,
         "text": [
          "10303",
          "10304",
          "10305",
          "10306",
          "10308",
          "10309",
          "10314"
         ],
         "textfont": {
          "size": 7
         },
         "textposition": "top right",
         "type": "scatter",
         "x": [
          12.112171146947045,
          13.172198796423743,
          12.633061067324244,
          11.096927425694549,
          6.893939393939394,
          16.782164920762824,
          13.16525134816835
         ],
         "xaxis": "x",
         "y": [
          0.978725916836231,
          0.8641882247658922,
          1.2183502285396122,
          0.9910817241465375,
          1.6456824058738966,
          0.7455710933071832,
          0.9657528523920402
         ],
         "yaxis": "y"
        },
        {
         "customdata": [
          [
           68112.81976744186,
           24.128617418908984,
           3.078368604403494,
           1420700
          ],
          [
           51465,
           23.795780950606996,
           2.393543566266714,
           1070800
          ],
          [
           67110.69556451614,
           25.252635651122453,
           3.070693546864313,
           1302300
          ],
          [
           58470.645161290326,
           24.745395657003908,
           2.4457075625047255,
           1202900
          ],
          [
           36986.666666666664,
           13.755554873047364,
           0.9492879854021289,
           476900
          ]
         ],
         "hoverlabel": {
          "namelength": 0
         },
         "hovertemplate": "<b>%{hovertext}</b><br><br>CountyName=Kings<br>payback_period=%{customdata[1]}<br>roi=%{customdata[2]}<br>annual_rent=%{customdata[0]}<br>sell_price=%{customdata[3]}<br>zipcode=%{text}",
         "hovertext": [
          "11201",
          "11215",
          "11217",
          "11231",
          "11234"
         ],
         "legendgroup": "Kings",
         "marker": {
          "color": "#85660D",
          "symbol": "circle"
         },
         "mode": "markers+text",
         "name": "Kings",
         "showlegend": true,
         "text": [
          "11201",
          "11215",
          "11217",
          "11231",
          "11234"
         ],
         "textfont": {
          "size": 7
         },
         "textposition": "top right",
         "type": "scatter",
         "x": [
          24.128617418908984,
          23.795780950606996,
          25.252635651122453,
          24.745395657003908,
          13.755554873047364
         ],
         "xaxis": "x",
         "y": [
          3.078368604403494,
          2.393543566266714,
          3.070693546864313,
          2.4457075625047255,
          0.9492879854021289
         ],
         "yaxis": "y"
        },
        {
         "customdata": [
          [
           41832.421875,
           10.49790435854773,
           1.073921209684882,
           382300
          ]
         ],
         "hoverlabel": {
          "namelength": 0
         },
         "hovertemplate": "<b>%{hovertext}</b><br><br>CountyName=Queens<br>payback_period=%{customdata[1]}<br>roi=%{customdata[2]}<br>annual_rent=%{customdata[0]}<br>sell_price=%{customdata[3]}<br>zipcode=%{text}",
         "hovertext": [
          "11434"
         ],
         "legendgroup": "Queens",
         "marker": {
          "color": "#782AB6",
          "symbol": "circle"
         },
         "mode": "markers+text",
         "name": "Queens",
         "showlegend": true,
         "text": [
          "11434"
         ],
         "textfont": {
          "size": 7
         },
         "textposition": "top right",
         "type": "scatter",
         "x": [
          10.49790435854773
         ],
         "xaxis": "x",
         "y": [
          1.073921209684882
         ],
         "yaxis": "y"
        }
       ],
       "layout": {
        "height": 600,
        "legend": {
         "title": {
          "text": "CountyName"
         },
         "tracegroupgap": 0
        },
        "margin": {
         "t": 60
        },
        "template": {
         "data": {
          "bar": [
           {
            "error_x": {
             "color": "#2a3f5f"
            },
            "error_y": {
             "color": "#2a3f5f"
            },
            "marker": {
             "line": {
              "color": "#E5ECF6",
              "width": 0.5
             }
            },
            "type": "bar"
           }
          ],
          "barpolar": [
           {
            "marker": {
             "line": {
              "color": "#E5ECF6",
              "width": 0.5
             }
            },
            "type": "barpolar"
           }
          ],
          "carpet": [
           {
            "aaxis": {
             "endlinecolor": "#2a3f5f",
             "gridcolor": "white",
             "linecolor": "white",
             "minorgridcolor": "white",
             "startlinecolor": "#2a3f5f"
            },
            "baxis": {
             "endlinecolor": "#2a3f5f",
             "gridcolor": "white",
             "linecolor": "white",
             "minorgridcolor": "white",
             "startlinecolor": "#2a3f5f"
            },
            "type": "carpet"
           }
          ],
          "choropleth": [
           {
            "colorbar": {
             "outlinewidth": 0,
             "ticks": ""
            },
            "type": "choropleth"
           }
          ],
          "contour": [
           {
            "colorbar": {
             "outlinewidth": 0,
             "ticks": ""
            },
            "colorscale": [
             [
              0,
              "#0d0887"
             ],
             [
              0.1111111111111111,
              "#46039f"
             ],
             [
              0.2222222222222222,
              "#7201a8"
             ],
             [
              0.3333333333333333,
              "#9c179e"
             ],
             [
              0.4444444444444444,
              "#bd3786"
             ],
             [
              0.5555555555555556,
              "#d8576b"
             ],
             [
              0.6666666666666666,
              "#ed7953"
             ],
             [
              0.7777777777777778,
              "#fb9f3a"
             ],
             [
              0.8888888888888888,
              "#fdca26"
             ],
             [
              1,
              "#f0f921"
             ]
            ],
            "type": "contour"
           }
          ],
          "contourcarpet": [
           {
            "colorbar": {
             "outlinewidth": 0,
             "ticks": ""
            },
            "type": "contourcarpet"
           }
          ],
          "heatmap": [
           {
            "colorbar": {
             "outlinewidth": 0,
             "ticks": ""
            },
            "colorscale": [
             [
              0,
              "#0d0887"
             ],
             [
              0.1111111111111111,
              "#46039f"
             ],
             [
              0.2222222222222222,
              "#7201a8"
             ],
             [
              0.3333333333333333,
              "#9c179e"
             ],
             [
              0.4444444444444444,
              "#bd3786"
             ],
             [
              0.5555555555555556,
              "#d8576b"
             ],
             [
              0.6666666666666666,
              "#ed7953"
             ],
             [
              0.7777777777777778,
              "#fb9f3a"
             ],
             [
              0.8888888888888888,
              "#fdca26"
             ],
             [
              1,
              "#f0f921"
             ]
            ],
            "type": "heatmap"
           }
          ],
          "heatmapgl": [
           {
            "colorbar": {
             "outlinewidth": 0,
             "ticks": ""
            },
            "colorscale": [
             [
              0,
              "#0d0887"
             ],
             [
              0.1111111111111111,
              "#46039f"
             ],
             [
              0.2222222222222222,
              "#7201a8"
             ],
             [
              0.3333333333333333,
              "#9c179e"
             ],
             [
              0.4444444444444444,
              "#bd3786"
             ],
             [
              0.5555555555555556,
              "#d8576b"
             ],
             [
              0.6666666666666666,
              "#ed7953"
             ],
             [
              0.7777777777777778,
              "#fb9f3a"
             ],
             [
              0.8888888888888888,
              "#fdca26"
             ],
             [
              1,
              "#f0f921"
             ]
            ],
            "type": "heatmapgl"
           }
          ],
          "histogram": [
           {
            "marker": {
             "colorbar": {
              "outlinewidth": 0,
              "ticks": ""
             }
            },
            "type": "histogram"
           }
          ],
          "histogram2d": [
           {
            "colorbar": {
             "outlinewidth": 0,
             "ticks": ""
            },
            "colorscale": [
             [
              0,
              "#0d0887"
             ],
             [
              0.1111111111111111,
              "#46039f"
             ],
             [
              0.2222222222222222,
              "#7201a8"
             ],
             [
              0.3333333333333333,
              "#9c179e"
             ],
             [
              0.4444444444444444,
              "#bd3786"
             ],
             [
              0.5555555555555556,
              "#d8576b"
             ],
             [
              0.6666666666666666,
              "#ed7953"
             ],
             [
              0.7777777777777778,
              "#fb9f3a"
             ],
             [
              0.8888888888888888,
              "#fdca26"
             ],
             [
              1,
              "#f0f921"
             ]
            ],
            "type": "histogram2d"
           }
          ],
          "histogram2dcontour": [
           {
            "colorbar": {
             "outlinewidth": 0,
             "ticks": ""
            },
            "colorscale": [
             [
              0,
              "#0d0887"
             ],
             [
              0.1111111111111111,
              "#46039f"
             ],
             [
              0.2222222222222222,
              "#7201a8"
             ],
             [
              0.3333333333333333,
              "#9c179e"
             ],
             [
              0.4444444444444444,
              "#bd3786"
             ],
             [
              0.5555555555555556,
              "#d8576b"
             ],
             [
              0.6666666666666666,
              "#ed7953"
             ],
             [
              0.7777777777777778,
              "#fb9f3a"
             ],
             [
              0.8888888888888888,
              "#fdca26"
             ],
             [
              1,
              "#f0f921"
             ]
            ],
            "type": "histogram2dcontour"
           }
          ],
          "mesh3d": [
           {
            "colorbar": {
             "outlinewidth": 0,
             "ticks": ""
            },
            "type": "mesh3d"
           }
          ],
          "parcoords": [
           {
            "line": {
             "colorbar": {
              "outlinewidth": 0,
              "ticks": ""
             }
            },
            "type": "parcoords"
           }
          ],
          "pie": [
           {
            "automargin": true,
            "type": "pie"
           }
          ],
          "scatter": [
           {
            "marker": {
             "colorbar": {
              "outlinewidth": 0,
              "ticks": ""
             }
            },
            "type": "scatter"
           }
          ],
          "scatter3d": [
           {
            "line": {
             "colorbar": {
              "outlinewidth": 0,
              "ticks": ""
             }
            },
            "marker": {
             "colorbar": {
              "outlinewidth": 0,
              "ticks": ""
             }
            },
            "type": "scatter3d"
           }
          ],
          "scattercarpet": [
           {
            "marker": {
             "colorbar": {
              "outlinewidth": 0,
              "ticks": ""
             }
            },
            "type": "scattercarpet"
           }
          ],
          "scattergeo": [
           {
            "marker": {
             "colorbar": {
              "outlinewidth": 0,
              "ticks": ""
             }
            },
            "type": "scattergeo"
           }
          ],
          "scattergl": [
           {
            "marker": {
             "colorbar": {
              "outlinewidth": 0,
              "ticks": ""
             }
            },
            "type": "scattergl"
           }
          ],
          "scattermapbox": [
           {
            "marker": {
             "colorbar": {
              "outlinewidth": 0,
              "ticks": ""
             }
            },
            "type": "scattermapbox"
           }
          ],
          "scatterpolar": [
           {
            "marker": {
             "colorbar": {
              "outlinewidth": 0,
              "ticks": ""
             }
            },
            "type": "scatterpolar"
           }
          ],
          "scatterpolargl": [
           {
            "marker": {
             "colorbar": {
              "outlinewidth": 0,
              "ticks": ""
             }
            },
            "type": "scatterpolargl"
           }
          ],
          "scatterternary": [
           {
            "marker": {
             "colorbar": {
              "outlinewidth": 0,
              "ticks": ""
             }
            },
            "type": "scatterternary"
           }
          ],
          "surface": [
           {
            "colorbar": {
             "outlinewidth": 0,
             "ticks": ""
            },
            "colorscale": [
             [
              0,
              "#0d0887"
             ],
             [
              0.1111111111111111,
              "#46039f"
             ],
             [
              0.2222222222222222,
              "#7201a8"
             ],
             [
              0.3333333333333333,
              "#9c179e"
             ],
             [
              0.4444444444444444,
              "#bd3786"
             ],
             [
              0.5555555555555556,
              "#d8576b"
             ],
             [
              0.6666666666666666,
              "#ed7953"
             ],
             [
              0.7777777777777778,
              "#fb9f3a"
             ],
             [
              0.8888888888888888,
              "#fdca26"
             ],
             [
              1,
              "#f0f921"
             ]
            ],
            "type": "surface"
           }
          ],
          "table": [
           {
            "cells": {
             "fill": {
              "color": "#EBF0F8"
             },
             "line": {
              "color": "white"
             }
            },
            "header": {
             "fill": {
              "color": "#C8D4E3"
             },
             "line": {
              "color": "white"
             }
            },
            "type": "table"
           }
          ]
         },
         "layout": {
          "annotationdefaults": {
           "arrowcolor": "#2a3f5f",
           "arrowhead": 0,
           "arrowwidth": 1
          },
          "coloraxis": {
           "colorbar": {
            "outlinewidth": 0,
            "ticks": ""
           }
          },
          "colorscale": {
           "diverging": [
            [
             0,
             "#8e0152"
            ],
            [
             0.1,
             "#c51b7d"
            ],
            [
             0.2,
             "#de77ae"
            ],
            [
             0.3,
             "#f1b6da"
            ],
            [
             0.4,
             "#fde0ef"
            ],
            [
             0.5,
             "#f7f7f7"
            ],
            [
             0.6,
             "#e6f5d0"
            ],
            [
             0.7,
             "#b8e186"
            ],
            [
             0.8,
             "#7fbc41"
            ],
            [
             0.9,
             "#4d9221"
            ],
            [
             1,
             "#276419"
            ]
           ],
           "sequential": [
            [
             0,
             "#0d0887"
            ],
            [
             0.1111111111111111,
             "#46039f"
            ],
            [
             0.2222222222222222,
             "#7201a8"
            ],
            [
             0.3333333333333333,
             "#9c179e"
            ],
            [
             0.4444444444444444,
             "#bd3786"
            ],
            [
             0.5555555555555556,
             "#d8576b"
            ],
            [
             0.6666666666666666,
             "#ed7953"
            ],
            [
             0.7777777777777778,
             "#fb9f3a"
            ],
            [
             0.8888888888888888,
             "#fdca26"
            ],
            [
             1,
             "#f0f921"
            ]
           ],
           "sequentialminus": [
            [
             0,
             "#0d0887"
            ],
            [
             0.1111111111111111,
             "#46039f"
            ],
            [
             0.2222222222222222,
             "#7201a8"
            ],
            [
             0.3333333333333333,
             "#9c179e"
            ],
            [
             0.4444444444444444,
             "#bd3786"
            ],
            [
             0.5555555555555556,
             "#d8576b"
            ],
            [
             0.6666666666666666,
             "#ed7953"
            ],
            [
             0.7777777777777778,
             "#fb9f3a"
            ],
            [
             0.8888888888888888,
             "#fdca26"
            ],
            [
             1,
             "#f0f921"
            ]
           ]
          },
          "colorway": [
           "#636efa",
           "#EF553B",
           "#00cc96",
           "#ab63fa",
           "#FFA15A",
           "#19d3f3",
           "#FF6692",
           "#B6E880",
           "#FF97FF",
           "#FECB52"
          ],
          "font": {
           "color": "#2a3f5f"
          },
          "geo": {
           "bgcolor": "white",
           "lakecolor": "white",
           "landcolor": "#E5ECF6",
           "showlakes": true,
           "showland": true,
           "subunitcolor": "white"
          },
          "hoverlabel": {
           "align": "left"
          },
          "hovermode": "closest",
          "mapbox": {
           "style": "light"
          },
          "paper_bgcolor": "white",
          "plot_bgcolor": "#E5ECF6",
          "polar": {
           "angularaxis": {
            "gridcolor": "white",
            "linecolor": "white",
            "ticks": ""
           },
           "bgcolor": "#E5ECF6",
           "radialaxis": {
            "gridcolor": "white",
            "linecolor": "white",
            "ticks": ""
           }
          },
          "scene": {
           "xaxis": {
            "backgroundcolor": "#E5ECF6",
            "gridcolor": "white",
            "gridwidth": 2,
            "linecolor": "white",
            "showbackground": true,
            "ticks": "",
            "zerolinecolor": "white"
           },
           "yaxis": {
            "backgroundcolor": "#E5ECF6",
            "gridcolor": "white",
            "gridwidth": 2,
            "linecolor": "white",
            "showbackground": true,
            "ticks": "",
            "zerolinecolor": "white"
           },
           "zaxis": {
            "backgroundcolor": "#E5ECF6",
            "gridcolor": "white",
            "gridwidth": 2,
            "linecolor": "white",
            "showbackground": true,
            "ticks": "",
            "zerolinecolor": "white"
           }
          },
          "shapedefaults": {
           "line": {
            "color": "#2a3f5f"
           }
          },
          "ternary": {
           "aaxis": {
            "gridcolor": "white",
            "linecolor": "white",
            "ticks": ""
           },
           "baxis": {
            "gridcolor": "white",
            "linecolor": "white",
            "ticks": ""
           },
           "bgcolor": "#E5ECF6",
           "caxis": {
            "gridcolor": "white",
            "linecolor": "white",
            "ticks": ""
           }
          },
          "title": {
           "x": 0.05
          },
          "xaxis": {
           "automargin": true,
           "gridcolor": "white",
           "linecolor": "white",
           "ticks": "",
           "title": {
            "standoff": 15
           },
           "zerolinecolor": "white",
           "zerolinewidth": 2
          },
          "yaxis": {
           "automargin": true,
           "gridcolor": "white",
           "linecolor": "white",
           "ticks": "",
           "title": {
            "standoff": 15
           },
           "zerolinecolor": "white",
           "zerolinewidth": 2
          }
         }
        },
        "width": 1000,
        "xaxis": {
         "anchor": "y",
         "domain": [
          0,
          1
         ],
         "title": {
          "text": "payback_period"
         }
        },
        "yaxis": {
         "anchor": "x",
         "domain": [
          0,
          1
         ],
         "title": {
          "text": "roi"
         }
        }
       }
      },
      "text/html": [
       "<div>\n",
       "        \n",
       "        \n",
       "            <div id=\"827c01ab-712e-4fcf-b0f9-95ad7f2a5664\" class=\"plotly-graph-div\" style=\"height:600px; width:1000px;\"></div>\n",
       "            <script type=\"text/javascript\">\n",
       "                require([\"plotly\"], function(Plotly) {\n",
       "                    window.PLOTLYENV=window.PLOTLYENV || {};\n",
       "                    \n",
       "                if (document.getElementById(\"827c01ab-712e-4fcf-b0f9-95ad7f2a5664\")) {\n",
       "                    Plotly.newPlot(\n",
       "                        '827c01ab-712e-4fcf-b0f9-95ad7f2a5664',\n",
       "                        [{\"customdata\": [[88980.65217391304, 32.08089637769522, 1.1548978070710412, 2147000.0], [101690.52083333333, 31.03588417112712, 1.265476890290594, 2480400.0], [113872.32476635514, 42.183286917702816, 1.1118387145075945, 3316500.0], [95526.58333333333, 34.04607207594134, 1.2687770177591198, 2491600.0], [76180.71428571429, 32.44938842044641, 1.0229981623151585, 1815600.0], [97069.43661971831, 29.217997398706835, 1.0040986750227414, 2031600.0], [82162.640625, 29.216638352605933, 1.040670162754877, 2142300.0], [91185.03, 24.658066520863702, 1.4619274960926236, 1431000.0], [76072.5, 33.73099791684468, 1.0400608055430924, 2083900.0], [96778.02364864865, 22.890756996324267, 1.1203591223403218, 1712900.0], [75626.59615384616, 32.6341549294185, 1.486514707197237, 1787100.0]], \"hoverlabel\": {\"namelength\": 0}, \"hovertemplate\": \"<b>%{hovertext}</b><br><br>CountyName=New York<br>payback_period=%{customdata[1]}<br>roi=%{customdata[2]}<br>annual_rent=%{customdata[0]}<br>sell_price=%{customdata[3]}<br>zipcode=%{text}\", \"hovertext\": [\"10003\", \"10011\", \"10013\", \"10014\", \"10021\", \"10022\", \"10023\", \"10025\", \"10028\", \"10036\", \"10128\"], \"legendgroup\": \"New York\", \"marker\": {\"color\": \"#AA0DFE\", \"symbol\": \"circle\"}, \"mode\": \"markers+text\", \"name\": \"New York\", \"showlegend\": true, \"text\": [\"10003\", \"10011\", \"10013\", \"10014\", \"10021\", \"10022\", \"10023\", \"10025\", \"10028\", \"10036\", \"10128\"], \"textfont\": {\"size\": 7}, \"textposition\": \"top right\", \"type\": \"scatter\", \"x\": [32.08089637769522, 31.03588417112712, 42.183286917702816, 34.04607207594134, 32.44938842044641, 29.217997398706835, 29.216638352605933, 24.658066520863702, 33.73099791684468, 22.890756996324267, 32.6341549294185], \"xaxis\": \"x\", \"y\": [1.1548978070710412, 1.265476890290594, 1.1118387145075945, 1.2687770177591198, 1.0229981623151585, 1.0040986750227414, 1.040670162754877, 1.4619274960926236, 1.0400608055430924, 1.1203591223403218, 1.486514707197237], \"yaxis\": \"y\"}, {\"customdata\": [[28470.0, 12.112171146947045, 0.978725916836231, 327700.0], [25550.0, 13.172198796423743, 0.8641882247658922, 328300.0], [41359.0625, 12.633061067324244, 1.2183502285396122, 425100.0], [32165.625, 11.096927425694549, 0.9910817241465375, 352900.0], [59951.25, 6.893939393939394, 1.6456824058738966, 409500.0], [23268.75, 16.782164920762824, 0.7455710933071832, 390500.0], [29291.25, 13.16525134816835, 0.9657528523920402, 357300.0]], \"hoverlabel\": {\"namelength\": 0}, \"hovertemplate\": \"<b>%{hovertext}</b><br><br>CountyName=Richmond<br>payback_period=%{customdata[1]}<br>roi=%{customdata[2]}<br>annual_rent=%{customdata[0]}<br>sell_price=%{customdata[3]}<br>zipcode=%{text}\", \"hovertext\": [\"10303\", \"10304\", \"10305\", \"10306\", \"10308\", \"10309\", \"10314\"], \"legendgroup\": \"Richmond\", \"marker\": {\"color\": \"#3283FE\", \"symbol\": \"circle\"}, \"mode\": \"markers+text\", \"name\": \"Richmond\", \"showlegend\": true, \"text\": [\"10303\", \"10304\", \"10305\", \"10306\", \"10308\", \"10309\", \"10314\"], \"textfont\": {\"size\": 7}, \"textposition\": \"top right\", \"type\": \"scatter\", \"x\": [12.112171146947045, 13.172198796423743, 12.633061067324244, 11.096927425694549, 6.893939393939394, 16.782164920762824, 13.16525134816835], \"xaxis\": \"x\", \"y\": [0.978725916836231, 0.8641882247658922, 1.2183502285396122, 0.9910817241465375, 1.6456824058738966, 0.7455710933071832, 0.9657528523920402], \"yaxis\": \"y\"}, {\"customdata\": [[68112.81976744186, 24.128617418908984, 3.078368604403494, 1420700.0], [51465.0, 23.795780950606996, 2.393543566266714, 1070800.0], [67110.69556451614, 25.252635651122453, 3.070693546864313, 1302300.0], [58470.645161290326, 24.745395657003908, 2.4457075625047255, 1202900.0], [36986.666666666664, 13.755554873047364, 0.9492879854021289, 476900.0]], \"hoverlabel\": {\"namelength\": 0}, \"hovertemplate\": \"<b>%{hovertext}</b><br><br>CountyName=Kings<br>payback_period=%{customdata[1]}<br>roi=%{customdata[2]}<br>annual_rent=%{customdata[0]}<br>sell_price=%{customdata[3]}<br>zipcode=%{text}\", \"hovertext\": [\"11201\", \"11215\", \"11217\", \"11231\", \"11234\"], \"legendgroup\": \"Kings\", \"marker\": {\"color\": \"#85660D\", \"symbol\": \"circle\"}, \"mode\": \"markers+text\", \"name\": \"Kings\", \"showlegend\": true, \"text\": [\"11201\", \"11215\", \"11217\", \"11231\", \"11234\"], \"textfont\": {\"size\": 7}, \"textposition\": \"top right\", \"type\": \"scatter\", \"x\": [24.128617418908984, 23.795780950606996, 25.252635651122453, 24.745395657003908, 13.755554873047364], \"xaxis\": \"x\", \"y\": [3.078368604403494, 2.393543566266714, 3.070693546864313, 2.4457075625047255, 0.9492879854021289], \"yaxis\": \"y\"}, {\"customdata\": [[41832.421875, 10.49790435854773, 1.073921209684882, 382300.0]], \"hoverlabel\": {\"namelength\": 0}, \"hovertemplate\": \"<b>%{hovertext}</b><br><br>CountyName=Queens<br>payback_period=%{customdata[1]}<br>roi=%{customdata[2]}<br>annual_rent=%{customdata[0]}<br>sell_price=%{customdata[3]}<br>zipcode=%{text}\", \"hovertext\": [\"11434\"], \"legendgroup\": \"Queens\", \"marker\": {\"color\": \"#782AB6\", \"symbol\": \"circle\"}, \"mode\": \"markers+text\", \"name\": \"Queens\", \"showlegend\": true, \"text\": [\"11434\"], \"textfont\": {\"size\": 7}, \"textposition\": \"top right\", \"type\": \"scatter\", \"x\": [10.49790435854773], \"xaxis\": \"x\", \"y\": [1.073921209684882], \"yaxis\": \"y\"}],\n",
       "                        {\"height\": 600, \"legend\": {\"title\": {\"text\": \"CountyName\"}, \"tracegroupgap\": 0}, \"margin\": {\"t\": 60}, \"template\": {\"data\": {\"bar\": [{\"error_x\": {\"color\": \"#2a3f5f\"}, \"error_y\": {\"color\": \"#2a3f5f\"}, \"marker\": {\"line\": {\"color\": \"#E5ECF6\", \"width\": 0.5}}, \"type\": \"bar\"}], \"barpolar\": [{\"marker\": {\"line\": {\"color\": \"#E5ECF6\", \"width\": 0.5}}, \"type\": \"barpolar\"}], \"carpet\": [{\"aaxis\": {\"endlinecolor\": \"#2a3f5f\", \"gridcolor\": \"white\", \"linecolor\": \"white\", \"minorgridcolor\": \"white\", \"startlinecolor\": \"#2a3f5f\"}, \"baxis\": {\"endlinecolor\": \"#2a3f5f\", \"gridcolor\": \"white\", \"linecolor\": \"white\", \"minorgridcolor\": \"white\", \"startlinecolor\": \"#2a3f5f\"}, \"type\": \"carpet\"}], \"choropleth\": [{\"colorbar\": {\"outlinewidth\": 0, \"ticks\": \"\"}, \"type\": \"choropleth\"}], \"contour\": [{\"colorbar\": {\"outlinewidth\": 0, \"ticks\": \"\"}, \"colorscale\": [[0.0, \"#0d0887\"], [0.1111111111111111, \"#46039f\"], [0.2222222222222222, \"#7201a8\"], [0.3333333333333333, \"#9c179e\"], [0.4444444444444444, \"#bd3786\"], [0.5555555555555556, \"#d8576b\"], [0.6666666666666666, \"#ed7953\"], [0.7777777777777778, \"#fb9f3a\"], [0.8888888888888888, \"#fdca26\"], [1.0, \"#f0f921\"]], \"type\": \"contour\"}], \"contourcarpet\": [{\"colorbar\": {\"outlinewidth\": 0, \"ticks\": \"\"}, \"type\": \"contourcarpet\"}], \"heatmap\": [{\"colorbar\": {\"outlinewidth\": 0, \"ticks\": \"\"}, \"colorscale\": [[0.0, \"#0d0887\"], [0.1111111111111111, \"#46039f\"], [0.2222222222222222, \"#7201a8\"], [0.3333333333333333, \"#9c179e\"], [0.4444444444444444, \"#bd3786\"], [0.5555555555555556, \"#d8576b\"], [0.6666666666666666, \"#ed7953\"], [0.7777777777777778, \"#fb9f3a\"], [0.8888888888888888, \"#fdca26\"], [1.0, \"#f0f921\"]], \"type\": \"heatmap\"}], \"heatmapgl\": [{\"colorbar\": {\"outlinewidth\": 0, \"ticks\": \"\"}, \"colorscale\": [[0.0, \"#0d0887\"], [0.1111111111111111, \"#46039f\"], [0.2222222222222222, \"#7201a8\"], [0.3333333333333333, \"#9c179e\"], [0.4444444444444444, \"#bd3786\"], [0.5555555555555556, \"#d8576b\"], [0.6666666666666666, \"#ed7953\"], [0.7777777777777778, \"#fb9f3a\"], [0.8888888888888888, \"#fdca26\"], [1.0, \"#f0f921\"]], \"type\": \"heatmapgl\"}], \"histogram\": [{\"marker\": {\"colorbar\": {\"outlinewidth\": 0, \"ticks\": \"\"}}, \"type\": \"histogram\"}], \"histogram2d\": [{\"colorbar\": {\"outlinewidth\": 0, \"ticks\": \"\"}, \"colorscale\": [[0.0, \"#0d0887\"], [0.1111111111111111, \"#46039f\"], [0.2222222222222222, \"#7201a8\"], [0.3333333333333333, \"#9c179e\"], [0.4444444444444444, \"#bd3786\"], [0.5555555555555556, \"#d8576b\"], [0.6666666666666666, \"#ed7953\"], [0.7777777777777778, \"#fb9f3a\"], [0.8888888888888888, \"#fdca26\"], [1.0, \"#f0f921\"]], \"type\": \"histogram2d\"}], \"histogram2dcontour\": [{\"colorbar\": {\"outlinewidth\": 0, \"ticks\": \"\"}, \"colorscale\": [[0.0, \"#0d0887\"], [0.1111111111111111, \"#46039f\"], [0.2222222222222222, \"#7201a8\"], [0.3333333333333333, \"#9c179e\"], [0.4444444444444444, \"#bd3786\"], [0.5555555555555556, \"#d8576b\"], [0.6666666666666666, \"#ed7953\"], [0.7777777777777778, \"#fb9f3a\"], [0.8888888888888888, \"#fdca26\"], [1.0, \"#f0f921\"]], \"type\": \"histogram2dcontour\"}], \"mesh3d\": [{\"colorbar\": {\"outlinewidth\": 0, \"ticks\": \"\"}, \"type\": \"mesh3d\"}], \"parcoords\": [{\"line\": {\"colorbar\": {\"outlinewidth\": 0, \"ticks\": \"\"}}, \"type\": \"parcoords\"}], \"pie\": [{\"automargin\": true, \"type\": \"pie\"}], \"scatter\": [{\"marker\": {\"colorbar\": {\"outlinewidth\": 0, \"ticks\": \"\"}}, \"type\": \"scatter\"}], \"scatter3d\": [{\"line\": {\"colorbar\": {\"outlinewidth\": 0, \"ticks\": \"\"}}, \"marker\": {\"colorbar\": {\"outlinewidth\": 0, \"ticks\": \"\"}}, \"type\": \"scatter3d\"}], \"scattercarpet\": [{\"marker\": {\"colorbar\": {\"outlinewidth\": 0, \"ticks\": \"\"}}, \"type\": \"scattercarpet\"}], \"scattergeo\": [{\"marker\": {\"colorbar\": {\"outlinewidth\": 0, \"ticks\": \"\"}}, \"type\": \"scattergeo\"}], \"scattergl\": [{\"marker\": {\"colorbar\": {\"outlinewidth\": 0, \"ticks\": \"\"}}, \"type\": \"scattergl\"}], \"scattermapbox\": [{\"marker\": {\"colorbar\": {\"outlinewidth\": 0, \"ticks\": \"\"}}, \"type\": \"scattermapbox\"}], \"scatterpolar\": [{\"marker\": {\"colorbar\": {\"outlinewidth\": 0, \"ticks\": \"\"}}, \"type\": \"scatterpolar\"}], \"scatterpolargl\": [{\"marker\": {\"colorbar\": {\"outlinewidth\": 0, \"ticks\": \"\"}}, \"type\": \"scatterpolargl\"}], \"scatterternary\": [{\"marker\": {\"colorbar\": {\"outlinewidth\": 0, \"ticks\": \"\"}}, \"type\": \"scatterternary\"}], \"surface\": [{\"colorbar\": {\"outlinewidth\": 0, \"ticks\": \"\"}, \"colorscale\": [[0.0, \"#0d0887\"], [0.1111111111111111, \"#46039f\"], [0.2222222222222222, \"#7201a8\"], [0.3333333333333333, \"#9c179e\"], [0.4444444444444444, \"#bd3786\"], [0.5555555555555556, \"#d8576b\"], [0.6666666666666666, \"#ed7953\"], [0.7777777777777778, \"#fb9f3a\"], [0.8888888888888888, \"#fdca26\"], [1.0, \"#f0f921\"]], \"type\": \"surface\"}], \"table\": [{\"cells\": {\"fill\": {\"color\": \"#EBF0F8\"}, \"line\": {\"color\": \"white\"}}, \"header\": {\"fill\": {\"color\": \"#C8D4E3\"}, \"line\": {\"color\": \"white\"}}, \"type\": \"table\"}]}, \"layout\": {\"annotationdefaults\": {\"arrowcolor\": \"#2a3f5f\", \"arrowhead\": 0, \"arrowwidth\": 1}, \"coloraxis\": {\"colorbar\": {\"outlinewidth\": 0, \"ticks\": \"\"}}, \"colorscale\": {\"diverging\": [[0, \"#8e0152\"], [0.1, \"#c51b7d\"], [0.2, \"#de77ae\"], [0.3, \"#f1b6da\"], [0.4, \"#fde0ef\"], [0.5, \"#f7f7f7\"], [0.6, \"#e6f5d0\"], [0.7, \"#b8e186\"], [0.8, \"#7fbc41\"], [0.9, \"#4d9221\"], [1, \"#276419\"]], \"sequential\": [[0.0, \"#0d0887\"], [0.1111111111111111, \"#46039f\"], [0.2222222222222222, \"#7201a8\"], [0.3333333333333333, \"#9c179e\"], [0.4444444444444444, \"#bd3786\"], [0.5555555555555556, \"#d8576b\"], [0.6666666666666666, \"#ed7953\"], [0.7777777777777778, \"#fb9f3a\"], [0.8888888888888888, \"#fdca26\"], [1.0, \"#f0f921\"]], \"sequentialminus\": [[0.0, \"#0d0887\"], [0.1111111111111111, \"#46039f\"], [0.2222222222222222, \"#7201a8\"], [0.3333333333333333, \"#9c179e\"], [0.4444444444444444, \"#bd3786\"], [0.5555555555555556, \"#d8576b\"], [0.6666666666666666, \"#ed7953\"], [0.7777777777777778, \"#fb9f3a\"], [0.8888888888888888, \"#fdca26\"], [1.0, \"#f0f921\"]]}, \"colorway\": [\"#636efa\", \"#EF553B\", \"#00cc96\", \"#ab63fa\", \"#FFA15A\", \"#19d3f3\", \"#FF6692\", \"#B6E880\", \"#FF97FF\", \"#FECB52\"], \"font\": {\"color\": \"#2a3f5f\"}, \"geo\": {\"bgcolor\": \"white\", \"lakecolor\": \"white\", \"landcolor\": \"#E5ECF6\", \"showlakes\": true, \"showland\": true, \"subunitcolor\": \"white\"}, \"hoverlabel\": {\"align\": \"left\"}, \"hovermode\": \"closest\", \"mapbox\": {\"style\": \"light\"}, \"paper_bgcolor\": \"white\", \"plot_bgcolor\": \"#E5ECF6\", \"polar\": {\"angularaxis\": {\"gridcolor\": \"white\", \"linecolor\": \"white\", \"ticks\": \"\"}, \"bgcolor\": \"#E5ECF6\", \"radialaxis\": {\"gridcolor\": \"white\", \"linecolor\": \"white\", \"ticks\": \"\"}}, \"scene\": {\"xaxis\": {\"backgroundcolor\": \"#E5ECF6\", \"gridcolor\": \"white\", \"gridwidth\": 2, \"linecolor\": \"white\", \"showbackground\": true, \"ticks\": \"\", \"zerolinecolor\": \"white\"}, \"yaxis\": {\"backgroundcolor\": \"#E5ECF6\", \"gridcolor\": \"white\", \"gridwidth\": 2, \"linecolor\": \"white\", \"showbackground\": true, \"ticks\": \"\", \"zerolinecolor\": \"white\"}, \"zaxis\": {\"backgroundcolor\": \"#E5ECF6\", \"gridcolor\": \"white\", \"gridwidth\": 2, \"linecolor\": \"white\", \"showbackground\": true, \"ticks\": \"\", \"zerolinecolor\": \"white\"}}, \"shapedefaults\": {\"line\": {\"color\": \"#2a3f5f\"}}, \"ternary\": {\"aaxis\": {\"gridcolor\": \"white\", \"linecolor\": \"white\", \"ticks\": \"\"}, \"baxis\": {\"gridcolor\": \"white\", \"linecolor\": \"white\", \"ticks\": \"\"}, \"bgcolor\": \"#E5ECF6\", \"caxis\": {\"gridcolor\": \"white\", \"linecolor\": \"white\", \"ticks\": \"\"}}, \"title\": {\"x\": 0.05}, \"xaxis\": {\"automargin\": true, \"gridcolor\": \"white\", \"linecolor\": \"white\", \"ticks\": \"\", \"title\": {\"standoff\": 15}, \"zerolinecolor\": \"white\", \"zerolinewidth\": 2}, \"yaxis\": {\"automargin\": true, \"gridcolor\": \"white\", \"linecolor\": \"white\", \"ticks\": \"\", \"title\": {\"standoff\": 15}, \"zerolinecolor\": \"white\", \"zerolinewidth\": 2}}}, \"width\": 1000, \"xaxis\": {\"anchor\": \"y\", \"domain\": [0.0, 1.0], \"title\": {\"text\": \"payback_period\"}}, \"yaxis\": {\"anchor\": \"x\", \"domain\": [0.0, 1.0], \"title\": {\"text\": \"roi\"}}},\n",
       "                        {\"responsive\": true}\n",
       "                    ).then(function(){\n",
       "                            \n",
       "var gd = document.getElementById('827c01ab-712e-4fcf-b0f9-95ad7f2a5664');\n",
       "var x = new MutationObserver(function (mutations, observer) {{\n",
       "        var display = window.getComputedStyle(gd).display;\n",
       "        if (!display || display === 'none') {{\n",
       "            console.log([gd, 'removed!']);\n",
       "            Plotly.purge(gd);\n",
       "            observer.disconnect();\n",
       "        }}\n",
       "}});\n",
       "\n",
       "// Listen for the removal of the full notebook cells\n",
       "var notebookContainer = gd.closest('#notebook-container');\n",
       "if (notebookContainer) {{\n",
       "    x.observe(notebookContainer, {childList: true});\n",
       "}}\n",
       "\n",
       "// Listen for the clearing of the current output cell\n",
       "var outputEl = gd.closest('.output');\n",
       "if (outputEl) {{\n",
       "    x.observe(outputEl, {childList: true});\n",
       "}}\n",
       "\n",
       "                        })\n",
       "                };\n",
       "                });\n",
       "            </script>\n",
       "        </div>"
      ]
     },
     "metadata": {},
     "output_type": "display_data"
    }
   ],
   "source": [
    "fig=px.scatter(dat,x=\"payback_period\",y=\"roi\",color=\"CountyName\",text=\"zipcode\",color_discrete_sequence=px.colors.qualitative.Alphabet,hover_name=\"zipcode\",hover_data=[\"annual_rent\",\"payback_period\",\"roi\",\"sell_price\"])\n",
    "fig.update_traces(textposition='top right',textfont_size=7)\n",
    "fig.update_layout(height=600, width=1000)\n"
   ]
  },
  {
   "cell_type": "markdown",
   "metadata": {
    "slideshow": {
     "slide_type": "subslide"
    }
   },
   "source": [
    "Recommendations: Zipcodes 10308  is a low investment high return property.The properties in kings county though expensive but have high ROI and can be used for buying leasing and selling.The New York counties(except zipcode 10036 and 10025) have high annual rent but low ROI and high payback values and can be avoided.\n",
    "    "
   ]
  },
  {
   "cell_type": "code",
   "execution_count": 32,
   "metadata": {
    "slideshow": {
     "slide_type": "slide"
    }
   },
   "outputs": [
    {
     "data": {
      "application/vnd.plotly.v1+json": {
       "config": {
        "plotlyServerURL": "https://plot.ly"
       },
       "data": [
        {
         "mode": "markers+text",
         "name": "annual_rent",
         "text": [
          "10003",
          "10011",
          "10013",
          "10014",
          "10021",
          "10022",
          "10023",
          "10025",
          "10028",
          "10036",
          "10128",
          "10303",
          "10304",
          "10305",
          "10306",
          "10308",
          "10309",
          "10314",
          "11201",
          "11215",
          "11217",
          "11231",
          "11234",
          "11434"
         ],
         "textfont": {
          "size": 5
         },
         "textposition": "top right",
         "type": "scatter",
         "x": [
          32.08089637769522,
          31.03588417112712,
          42.183286917702816,
          34.04607207594134,
          32.44938842044641,
          29.217997398706835,
          29.216638352605933,
          24.658066520863702,
          33.73099791684468,
          22.890756996324267,
          32.6341549294185,
          12.112171146947045,
          13.172198796423743,
          12.633061067324244,
          11.096927425694549,
          6.893939393939394,
          16.782164920762824,
          13.16525134816835,
          24.128617418908984,
          23.795780950606996,
          25.252635651122453,
          24.745395657003908,
          13.755554873047364,
          10.49790435854773
         ],
         "xaxis": "x",
         "y": [
          88980.65217391304,
          101690.52083333333,
          113872.32476635514,
          95526.58333333333,
          76180.71428571429,
          97069.43661971831,
          82162.640625,
          91185.03,
          76072.5,
          96778.02364864865,
          75626.59615384616,
          28470,
          25550,
          41359.0625,
          32165.625,
          59951.25,
          23268.75,
          29291.25,
          68112.81976744186,
          51465,
          67110.69556451614,
          58470.645161290326,
          36986.666666666664,
          41832.421875
         ],
         "yaxis": "y"
        },
        {
         "mode": "markers+text",
         "name": "roi",
         "text": [
          "10003",
          "10011",
          "10013",
          "10014",
          "10021",
          "10022",
          "10023",
          "10025",
          "10028",
          "10036",
          "10128",
          "10303",
          "10304",
          "10305",
          "10306",
          "10308",
          "10309",
          "10314",
          "11201",
          "11215",
          "11217",
          "11231",
          "11234",
          "11434"
         ],
         "textfont": {
          "size": 5
         },
         "textposition": "top right",
         "type": "scatter",
         "x": [
          32.08089637769522,
          31.03588417112712,
          42.183286917702816,
          34.04607207594134,
          32.44938842044641,
          29.217997398706835,
          29.216638352605933,
          24.658066520863702,
          33.73099791684468,
          22.890756996324267,
          32.6341549294185,
          12.112171146947045,
          13.172198796423743,
          12.633061067324244,
          11.096927425694549,
          6.893939393939394,
          16.782164920762824,
          13.16525134816835,
          24.128617418908984,
          23.795780950606996,
          25.252635651122453,
          24.745395657003908,
          13.755554873047364,
          10.49790435854773
         ],
         "xaxis": "x3",
         "y": [
          1.1548978070710412,
          1.265476890290594,
          1.1118387145075945,
          1.2687770177591198,
          1.0229981623151585,
          1.0040986750227414,
          1.040670162754877,
          1.4619274960926236,
          1.0400608055430924,
          1.1203591223403218,
          1.486514707197237,
          0.978725916836231,
          0.8641882247658922,
          1.2183502285396122,
          0.9910817241465375,
          1.6456824058738966,
          0.7455710933071832,
          0.9657528523920402,
          3.078368604403494,
          2.393543566266714,
          3.070693546864313,
          2.4457075625047255,
          0.9492879854021289,
          1.073921209684882
         ],
         "yaxis": "y3"
        },
        {
         "mode": "markers+text",
         "name": "roi_equity",
         "text": [
          "10003",
          "10011",
          "10013",
          "10014",
          "10021",
          "10022",
          "10023",
          "10025",
          "10028",
          "10036",
          "10128",
          "10303",
          "10304",
          "10305",
          "10306",
          "10308",
          "10309",
          "10314",
          "11201",
          "11215",
          "11217",
          "11231",
          "11234",
          "11434"
         ],
         "textfont": {
          "size": 5
         },
         "textposition": "top right",
         "type": "scatter",
         "x": [
          32.08089637769522,
          31.03588417112712,
          42.183286917702816,
          34.04607207594134,
          32.44938842044641,
          29.217997398706835,
          29.216638352605933,
          24.658066520863702,
          33.73099791684468,
          22.890756996324267,
          32.6341549294185,
          12.112171146947045,
          13.172198796423743,
          12.633061067324244,
          11.096927425694549,
          6.893939393939394,
          16.782164920762824,
          13.16525134816835,
          24.128617418908984,
          23.795780950606996,
          25.252635651122453,
          24.745395657003908,
          13.755554873047364,
          10.49790435854773
         ],
         "xaxis": "x2",
         "y": [
          0.7404560177188599,
          0.8555005927848168,
          0.7684878181820852,
          0.8853824787747999,
          0.6034084163043948,
          0.5263006999306058,
          0.6571447899079372,
          0.8247155464070905,
          0.6750120987913282,
          0.5553639466228332,
          1.0633341568427723,
          0.10994349388841287,
          0.08593662561877057,
          0.2454247404191698,
          0.07961601148005992,
          0.18167141686290786,
          0.14970041469002554,
          0.14595856187986572,
          2.598937198987557,
          1.9129216013806543,
          2.555369154907646,
          1.9596268811406015,
          0.17372357637158434,
          -0.020309025078392752
         ],
         "yaxis": "y2"
        }
       ],
       "layout": {
        "annotations": [
         {
          "font": {
           "size": 16
          },
          "showarrow": false,
          "text": "annual_rent",
          "x": 0.14444444444444446,
          "xanchor": "center",
          "xref": "paper",
          "y": 1,
          "yanchor": "bottom",
          "yref": "paper"
         },
         {
          "font": {
           "size": 16
          },
          "showarrow": false,
          "text": "roi_equity",
          "x": 0.5,
          "xanchor": "center",
          "xref": "paper",
          "y": 1,
          "yanchor": "bottom",
          "yref": "paper"
         },
         {
          "font": {
           "size": 16
          },
          "showarrow": false,
          "text": "roi",
          "x": 0.8555555555555556,
          "xanchor": "center",
          "xref": "paper",
          "y": 1,
          "yanchor": "bottom",
          "yref": "paper"
         }
        ],
        "height": 500,
        "template": {
         "data": {
          "bar": [
           {
            "error_x": {
             "color": "#2a3f5f"
            },
            "error_y": {
             "color": "#2a3f5f"
            },
            "marker": {
             "line": {
              "color": "#E5ECF6",
              "width": 0.5
             }
            },
            "type": "bar"
           }
          ],
          "barpolar": [
           {
            "marker": {
             "line": {
              "color": "#E5ECF6",
              "width": 0.5
             }
            },
            "type": "barpolar"
           }
          ],
          "carpet": [
           {
            "aaxis": {
             "endlinecolor": "#2a3f5f",
             "gridcolor": "white",
             "linecolor": "white",
             "minorgridcolor": "white",
             "startlinecolor": "#2a3f5f"
            },
            "baxis": {
             "endlinecolor": "#2a3f5f",
             "gridcolor": "white",
             "linecolor": "white",
             "minorgridcolor": "white",
             "startlinecolor": "#2a3f5f"
            },
            "type": "carpet"
           }
          ],
          "choropleth": [
           {
            "colorbar": {
             "outlinewidth": 0,
             "ticks": ""
            },
            "type": "choropleth"
           }
          ],
          "contour": [
           {
            "colorbar": {
             "outlinewidth": 0,
             "ticks": ""
            },
            "colorscale": [
             [
              0,
              "#0d0887"
             ],
             [
              0.1111111111111111,
              "#46039f"
             ],
             [
              0.2222222222222222,
              "#7201a8"
             ],
             [
              0.3333333333333333,
              "#9c179e"
             ],
             [
              0.4444444444444444,
              "#bd3786"
             ],
             [
              0.5555555555555556,
              "#d8576b"
             ],
             [
              0.6666666666666666,
              "#ed7953"
             ],
             [
              0.7777777777777778,
              "#fb9f3a"
             ],
             [
              0.8888888888888888,
              "#fdca26"
             ],
             [
              1,
              "#f0f921"
             ]
            ],
            "type": "contour"
           }
          ],
          "contourcarpet": [
           {
            "colorbar": {
             "outlinewidth": 0,
             "ticks": ""
            },
            "type": "contourcarpet"
           }
          ],
          "heatmap": [
           {
            "colorbar": {
             "outlinewidth": 0,
             "ticks": ""
            },
            "colorscale": [
             [
              0,
              "#0d0887"
             ],
             [
              0.1111111111111111,
              "#46039f"
             ],
             [
              0.2222222222222222,
              "#7201a8"
             ],
             [
              0.3333333333333333,
              "#9c179e"
             ],
             [
              0.4444444444444444,
              "#bd3786"
             ],
             [
              0.5555555555555556,
              "#d8576b"
             ],
             [
              0.6666666666666666,
              "#ed7953"
             ],
             [
              0.7777777777777778,
              "#fb9f3a"
             ],
             [
              0.8888888888888888,
              "#fdca26"
             ],
             [
              1,
              "#f0f921"
             ]
            ],
            "type": "heatmap"
           }
          ],
          "heatmapgl": [
           {
            "colorbar": {
             "outlinewidth": 0,
             "ticks": ""
            },
            "colorscale": [
             [
              0,
              "#0d0887"
             ],
             [
              0.1111111111111111,
              "#46039f"
             ],
             [
              0.2222222222222222,
              "#7201a8"
             ],
             [
              0.3333333333333333,
              "#9c179e"
             ],
             [
              0.4444444444444444,
              "#bd3786"
             ],
             [
              0.5555555555555556,
              "#d8576b"
             ],
             [
              0.6666666666666666,
              "#ed7953"
             ],
             [
              0.7777777777777778,
              "#fb9f3a"
             ],
             [
              0.8888888888888888,
              "#fdca26"
             ],
             [
              1,
              "#f0f921"
             ]
            ],
            "type": "heatmapgl"
           }
          ],
          "histogram": [
           {
            "marker": {
             "colorbar": {
              "outlinewidth": 0,
              "ticks": ""
             }
            },
            "type": "histogram"
           }
          ],
          "histogram2d": [
           {
            "colorbar": {
             "outlinewidth": 0,
             "ticks": ""
            },
            "colorscale": [
             [
              0,
              "#0d0887"
             ],
             [
              0.1111111111111111,
              "#46039f"
             ],
             [
              0.2222222222222222,
              "#7201a8"
             ],
             [
              0.3333333333333333,
              "#9c179e"
             ],
             [
              0.4444444444444444,
              "#bd3786"
             ],
             [
              0.5555555555555556,
              "#d8576b"
             ],
             [
              0.6666666666666666,
              "#ed7953"
             ],
             [
              0.7777777777777778,
              "#fb9f3a"
             ],
             [
              0.8888888888888888,
              "#fdca26"
             ],
             [
              1,
              "#f0f921"
             ]
            ],
            "type": "histogram2d"
           }
          ],
          "histogram2dcontour": [
           {
            "colorbar": {
             "outlinewidth": 0,
             "ticks": ""
            },
            "colorscale": [
             [
              0,
              "#0d0887"
             ],
             [
              0.1111111111111111,
              "#46039f"
             ],
             [
              0.2222222222222222,
              "#7201a8"
             ],
             [
              0.3333333333333333,
              "#9c179e"
             ],
             [
              0.4444444444444444,
              "#bd3786"
             ],
             [
              0.5555555555555556,
              "#d8576b"
             ],
             [
              0.6666666666666666,
              "#ed7953"
             ],
             [
              0.7777777777777778,
              "#fb9f3a"
             ],
             [
              0.8888888888888888,
              "#fdca26"
             ],
             [
              1,
              "#f0f921"
             ]
            ],
            "type": "histogram2dcontour"
           }
          ],
          "mesh3d": [
           {
            "colorbar": {
             "outlinewidth": 0,
             "ticks": ""
            },
            "type": "mesh3d"
           }
          ],
          "parcoords": [
           {
            "line": {
             "colorbar": {
              "outlinewidth": 0,
              "ticks": ""
             }
            },
            "type": "parcoords"
           }
          ],
          "pie": [
           {
            "automargin": true,
            "type": "pie"
           }
          ],
          "scatter": [
           {
            "marker": {
             "colorbar": {
              "outlinewidth": 0,
              "ticks": ""
             }
            },
            "type": "scatter"
           }
          ],
          "scatter3d": [
           {
            "line": {
             "colorbar": {
              "outlinewidth": 0,
              "ticks": ""
             }
            },
            "marker": {
             "colorbar": {
              "outlinewidth": 0,
              "ticks": ""
             }
            },
            "type": "scatter3d"
           }
          ],
          "scattercarpet": [
           {
            "marker": {
             "colorbar": {
              "outlinewidth": 0,
              "ticks": ""
             }
            },
            "type": "scattercarpet"
           }
          ],
          "scattergeo": [
           {
            "marker": {
             "colorbar": {
              "outlinewidth": 0,
              "ticks": ""
             }
            },
            "type": "scattergeo"
           }
          ],
          "scattergl": [
           {
            "marker": {
             "colorbar": {
              "outlinewidth": 0,
              "ticks": ""
             }
            },
            "type": "scattergl"
           }
          ],
          "scattermapbox": [
           {
            "marker": {
             "colorbar": {
              "outlinewidth": 0,
              "ticks": ""
             }
            },
            "type": "scattermapbox"
           }
          ],
          "scatterpolar": [
           {
            "marker": {
             "colorbar": {
              "outlinewidth": 0,
              "ticks": ""
             }
            },
            "type": "scatterpolar"
           }
          ],
          "scatterpolargl": [
           {
            "marker": {
             "colorbar": {
              "outlinewidth": 0,
              "ticks": ""
             }
            },
            "type": "scatterpolargl"
           }
          ],
          "scatterternary": [
           {
            "marker": {
             "colorbar": {
              "outlinewidth": 0,
              "ticks": ""
             }
            },
            "type": "scatterternary"
           }
          ],
          "surface": [
           {
            "colorbar": {
             "outlinewidth": 0,
             "ticks": ""
            },
            "colorscale": [
             [
              0,
              "#0d0887"
             ],
             [
              0.1111111111111111,
              "#46039f"
             ],
             [
              0.2222222222222222,
              "#7201a8"
             ],
             [
              0.3333333333333333,
              "#9c179e"
             ],
             [
              0.4444444444444444,
              "#bd3786"
             ],
             [
              0.5555555555555556,
              "#d8576b"
             ],
             [
              0.6666666666666666,
              "#ed7953"
             ],
             [
              0.7777777777777778,
              "#fb9f3a"
             ],
             [
              0.8888888888888888,
              "#fdca26"
             ],
             [
              1,
              "#f0f921"
             ]
            ],
            "type": "surface"
           }
          ],
          "table": [
           {
            "cells": {
             "fill": {
              "color": "#EBF0F8"
             },
             "line": {
              "color": "white"
             }
            },
            "header": {
             "fill": {
              "color": "#C8D4E3"
             },
             "line": {
              "color": "white"
             }
            },
            "type": "table"
           }
          ]
         },
         "layout": {
          "annotationdefaults": {
           "arrowcolor": "#2a3f5f",
           "arrowhead": 0,
           "arrowwidth": 1
          },
          "coloraxis": {
           "colorbar": {
            "outlinewidth": 0,
            "ticks": ""
           }
          },
          "colorscale": {
           "diverging": [
            [
             0,
             "#8e0152"
            ],
            [
             0.1,
             "#c51b7d"
            ],
            [
             0.2,
             "#de77ae"
            ],
            [
             0.3,
             "#f1b6da"
            ],
            [
             0.4,
             "#fde0ef"
            ],
            [
             0.5,
             "#f7f7f7"
            ],
            [
             0.6,
             "#e6f5d0"
            ],
            [
             0.7,
             "#b8e186"
            ],
            [
             0.8,
             "#7fbc41"
            ],
            [
             0.9,
             "#4d9221"
            ],
            [
             1,
             "#276419"
            ]
           ],
           "sequential": [
            [
             0,
             "#0d0887"
            ],
            [
             0.1111111111111111,
             "#46039f"
            ],
            [
             0.2222222222222222,
             "#7201a8"
            ],
            [
             0.3333333333333333,
             "#9c179e"
            ],
            [
             0.4444444444444444,
             "#bd3786"
            ],
            [
             0.5555555555555556,
             "#d8576b"
            ],
            [
             0.6666666666666666,
             "#ed7953"
            ],
            [
             0.7777777777777778,
             "#fb9f3a"
            ],
            [
             0.8888888888888888,
             "#fdca26"
            ],
            [
             1,
             "#f0f921"
            ]
           ],
           "sequentialminus": [
            [
             0,
             "#0d0887"
            ],
            [
             0.1111111111111111,
             "#46039f"
            ],
            [
             0.2222222222222222,
             "#7201a8"
            ],
            [
             0.3333333333333333,
             "#9c179e"
            ],
            [
             0.4444444444444444,
             "#bd3786"
            ],
            [
             0.5555555555555556,
             "#d8576b"
            ],
            [
             0.6666666666666666,
             "#ed7953"
            ],
            [
             0.7777777777777778,
             "#fb9f3a"
            ],
            [
             0.8888888888888888,
             "#fdca26"
            ],
            [
             1,
             "#f0f921"
            ]
           ]
          },
          "colorway": [
           "#636efa",
           "#EF553B",
           "#00cc96",
           "#ab63fa",
           "#FFA15A",
           "#19d3f3",
           "#FF6692",
           "#B6E880",
           "#FF97FF",
           "#FECB52"
          ],
          "font": {
           "color": "#2a3f5f"
          },
          "geo": {
           "bgcolor": "white",
           "lakecolor": "white",
           "landcolor": "#E5ECF6",
           "showlakes": true,
           "showland": true,
           "subunitcolor": "white"
          },
          "hoverlabel": {
           "align": "left"
          },
          "hovermode": "closest",
          "mapbox": {
           "style": "light"
          },
          "paper_bgcolor": "white",
          "plot_bgcolor": "#E5ECF6",
          "polar": {
           "angularaxis": {
            "gridcolor": "white",
            "linecolor": "white",
            "ticks": ""
           },
           "bgcolor": "#E5ECF6",
           "radialaxis": {
            "gridcolor": "white",
            "linecolor": "white",
            "ticks": ""
           }
          },
          "scene": {
           "xaxis": {
            "backgroundcolor": "#E5ECF6",
            "gridcolor": "white",
            "gridwidth": 2,
            "linecolor": "white",
            "showbackground": true,
            "ticks": "",
            "zerolinecolor": "white"
           },
           "yaxis": {
            "backgroundcolor": "#E5ECF6",
            "gridcolor": "white",
            "gridwidth": 2,
            "linecolor": "white",
            "showbackground": true,
            "ticks": "",
            "zerolinecolor": "white"
           },
           "zaxis": {
            "backgroundcolor": "#E5ECF6",
            "gridcolor": "white",
            "gridwidth": 2,
            "linecolor": "white",
            "showbackground": true,
            "ticks": "",
            "zerolinecolor": "white"
           }
          },
          "shapedefaults": {
           "line": {
            "color": "#2a3f5f"
           }
          },
          "ternary": {
           "aaxis": {
            "gridcolor": "white",
            "linecolor": "white",
            "ticks": ""
           },
           "baxis": {
            "gridcolor": "white",
            "linecolor": "white",
            "ticks": ""
           },
           "bgcolor": "#E5ECF6",
           "caxis": {
            "gridcolor": "white",
            "linecolor": "white",
            "ticks": ""
           }
          },
          "title": {
           "x": 0.05
          },
          "xaxis": {
           "automargin": true,
           "gridcolor": "white",
           "linecolor": "white",
           "ticks": "",
           "title": {
            "standoff": 15
           },
           "zerolinecolor": "white",
           "zerolinewidth": 2
          },
          "yaxis": {
           "automargin": true,
           "gridcolor": "white",
           "linecolor": "white",
           "ticks": "",
           "title": {
            "standoff": 15
           },
           "zerolinecolor": "white",
           "zerolinewidth": 2
          }
         }
        },
        "title": {
         "text": "side by side comparison vs payback Period"
        },
        "width": 1200,
        "xaxis": {
         "anchor": "y",
         "domain": [
          0,
          0.2888888888888889
         ]
        },
        "xaxis2": {
         "anchor": "y2",
         "domain": [
          0.35555555555555557,
          0.6444444444444445
         ]
        },
        "xaxis3": {
         "anchor": "y3",
         "domain": [
          0.7111111111111111,
          1
         ]
        },
        "yaxis": {
         "anchor": "x",
         "domain": [
          0,
          1
         ]
        },
        "yaxis2": {
         "anchor": "x2",
         "domain": [
          0,
          1
         ]
        },
        "yaxis3": {
         "anchor": "x3",
         "domain": [
          0,
          1
         ]
        }
       }
      },
      "text/html": [
       "<div>\n",
       "        \n",
       "        \n",
       "            <div id=\"4b5c30ee-358e-41b4-87a1-6700d0ae8e2d\" class=\"plotly-graph-div\" style=\"height:500px; width:1200px;\"></div>\n",
       "            <script type=\"text/javascript\">\n",
       "                require([\"plotly\"], function(Plotly) {\n",
       "                    window.PLOTLYENV=window.PLOTLYENV || {};\n",
       "                    \n",
       "                if (document.getElementById(\"4b5c30ee-358e-41b4-87a1-6700d0ae8e2d\")) {\n",
       "                    Plotly.newPlot(\n",
       "                        '4b5c30ee-358e-41b4-87a1-6700d0ae8e2d',\n",
       "                        [{\"mode\": \"markers+text\", \"name\": \"annual_rent\", \"text\": [\"10003\", \"10011\", \"10013\", \"10014\", \"10021\", \"10022\", \"10023\", \"10025\", \"10028\", \"10036\", \"10128\", \"10303\", \"10304\", \"10305\", \"10306\", \"10308\", \"10309\", \"10314\", \"11201\", \"11215\", \"11217\", \"11231\", \"11234\", \"11434\"], \"textfont\": {\"size\": 5}, \"textposition\": \"top right\", \"type\": \"scatter\", \"x\": [32.08089637769522, 31.03588417112712, 42.183286917702816, 34.04607207594134, 32.44938842044641, 29.217997398706835, 29.216638352605933, 24.658066520863702, 33.73099791684468, 22.890756996324267, 32.6341549294185, 12.112171146947045, 13.172198796423743, 12.633061067324244, 11.096927425694549, 6.893939393939394, 16.782164920762824, 13.16525134816835, 24.128617418908984, 23.795780950606996, 25.252635651122453, 24.745395657003908, 13.755554873047364, 10.49790435854773], \"xaxis\": \"x\", \"y\": [88980.65217391304, 101690.52083333333, 113872.32476635514, 95526.58333333333, 76180.71428571429, 97069.43661971831, 82162.640625, 91185.03, 76072.5, 96778.02364864865, 75626.59615384616, 28470.0, 25550.0, 41359.0625, 32165.625, 59951.25, 23268.75, 29291.25, 68112.81976744186, 51465.0, 67110.69556451614, 58470.645161290326, 36986.666666666664, 41832.421875], \"yaxis\": \"y\"}, {\"mode\": \"markers+text\", \"name\": \"roi\", \"text\": [\"10003\", \"10011\", \"10013\", \"10014\", \"10021\", \"10022\", \"10023\", \"10025\", \"10028\", \"10036\", \"10128\", \"10303\", \"10304\", \"10305\", \"10306\", \"10308\", \"10309\", \"10314\", \"11201\", \"11215\", \"11217\", \"11231\", \"11234\", \"11434\"], \"textfont\": {\"size\": 5}, \"textposition\": \"top right\", \"type\": \"scatter\", \"x\": [32.08089637769522, 31.03588417112712, 42.183286917702816, 34.04607207594134, 32.44938842044641, 29.217997398706835, 29.216638352605933, 24.658066520863702, 33.73099791684468, 22.890756996324267, 32.6341549294185, 12.112171146947045, 13.172198796423743, 12.633061067324244, 11.096927425694549, 6.893939393939394, 16.782164920762824, 13.16525134816835, 24.128617418908984, 23.795780950606996, 25.252635651122453, 24.745395657003908, 13.755554873047364, 10.49790435854773], \"xaxis\": \"x3\", \"y\": [1.1548978070710412, 1.265476890290594, 1.1118387145075945, 1.2687770177591198, 1.0229981623151585, 1.0040986750227414, 1.040670162754877, 1.4619274960926236, 1.0400608055430924, 1.1203591223403218, 1.486514707197237, 0.978725916836231, 0.8641882247658922, 1.2183502285396122, 0.9910817241465375, 1.6456824058738966, 0.7455710933071832, 0.9657528523920402, 3.078368604403494, 2.393543566266714, 3.070693546864313, 2.4457075625047255, 0.9492879854021289, 1.073921209684882], \"yaxis\": \"y3\"}, {\"mode\": \"markers+text\", \"name\": \"roi_equity\", \"text\": [\"10003\", \"10011\", \"10013\", \"10014\", \"10021\", \"10022\", \"10023\", \"10025\", \"10028\", \"10036\", \"10128\", \"10303\", \"10304\", \"10305\", \"10306\", \"10308\", \"10309\", \"10314\", \"11201\", \"11215\", \"11217\", \"11231\", \"11234\", \"11434\"], \"textfont\": {\"size\": 5}, \"textposition\": \"top right\", \"type\": \"scatter\", \"x\": [32.08089637769522, 31.03588417112712, 42.183286917702816, 34.04607207594134, 32.44938842044641, 29.217997398706835, 29.216638352605933, 24.658066520863702, 33.73099791684468, 22.890756996324267, 32.6341549294185, 12.112171146947045, 13.172198796423743, 12.633061067324244, 11.096927425694549, 6.893939393939394, 16.782164920762824, 13.16525134816835, 24.128617418908984, 23.795780950606996, 25.252635651122453, 24.745395657003908, 13.755554873047364, 10.49790435854773], \"xaxis\": \"x2\", \"y\": [0.7404560177188599, 0.8555005927848168, 0.7684878181820852, 0.8853824787747999, 0.6034084163043948, 0.5263006999306058, 0.6571447899079372, 0.8247155464070905, 0.6750120987913282, 0.5553639466228332, 1.0633341568427723, 0.10994349388841287, 0.08593662561877057, 0.2454247404191698, 0.07961601148005992, 0.18167141686290786, 0.14970041469002554, 0.14595856187986572, 2.598937198987557, 1.9129216013806543, 2.555369154907646, 1.9596268811406015, 0.17372357637158434, -0.020309025078392752], \"yaxis\": \"y2\"}],\n",
       "                        {\"annotations\": [{\"font\": {\"size\": 16}, \"showarrow\": false, \"text\": \"annual_rent\", \"x\": 0.14444444444444446, \"xanchor\": \"center\", \"xref\": \"paper\", \"y\": 1.0, \"yanchor\": \"bottom\", \"yref\": \"paper\"}, {\"font\": {\"size\": 16}, \"showarrow\": false, \"text\": \"roi_equity\", \"x\": 0.5, \"xanchor\": \"center\", \"xref\": \"paper\", \"y\": 1.0, \"yanchor\": \"bottom\", \"yref\": \"paper\"}, {\"font\": {\"size\": 16}, \"showarrow\": false, \"text\": \"roi\", \"x\": 0.8555555555555556, \"xanchor\": \"center\", \"xref\": \"paper\", \"y\": 1.0, \"yanchor\": \"bottom\", \"yref\": \"paper\"}], \"height\": 500, \"template\": {\"data\": {\"bar\": [{\"error_x\": {\"color\": \"#2a3f5f\"}, \"error_y\": {\"color\": \"#2a3f5f\"}, \"marker\": {\"line\": {\"color\": \"#E5ECF6\", \"width\": 0.5}}, \"type\": \"bar\"}], \"barpolar\": [{\"marker\": {\"line\": {\"color\": \"#E5ECF6\", \"width\": 0.5}}, \"type\": \"barpolar\"}], \"carpet\": [{\"aaxis\": {\"endlinecolor\": \"#2a3f5f\", \"gridcolor\": \"white\", \"linecolor\": \"white\", \"minorgridcolor\": \"white\", \"startlinecolor\": \"#2a3f5f\"}, \"baxis\": {\"endlinecolor\": \"#2a3f5f\", \"gridcolor\": \"white\", \"linecolor\": \"white\", \"minorgridcolor\": \"white\", \"startlinecolor\": \"#2a3f5f\"}, \"type\": \"carpet\"}], \"choropleth\": [{\"colorbar\": {\"outlinewidth\": 0, \"ticks\": \"\"}, \"type\": \"choropleth\"}], \"contour\": [{\"colorbar\": {\"outlinewidth\": 0, \"ticks\": \"\"}, \"colorscale\": [[0.0, \"#0d0887\"], [0.1111111111111111, \"#46039f\"], [0.2222222222222222, \"#7201a8\"], [0.3333333333333333, \"#9c179e\"], [0.4444444444444444, \"#bd3786\"], [0.5555555555555556, \"#d8576b\"], [0.6666666666666666, \"#ed7953\"], [0.7777777777777778, \"#fb9f3a\"], [0.8888888888888888, \"#fdca26\"], [1.0, \"#f0f921\"]], \"type\": \"contour\"}], \"contourcarpet\": [{\"colorbar\": {\"outlinewidth\": 0, \"ticks\": \"\"}, \"type\": \"contourcarpet\"}], \"heatmap\": [{\"colorbar\": {\"outlinewidth\": 0, \"ticks\": \"\"}, \"colorscale\": [[0.0, \"#0d0887\"], [0.1111111111111111, \"#46039f\"], [0.2222222222222222, \"#7201a8\"], [0.3333333333333333, \"#9c179e\"], [0.4444444444444444, \"#bd3786\"], [0.5555555555555556, \"#d8576b\"], [0.6666666666666666, \"#ed7953\"], [0.7777777777777778, \"#fb9f3a\"], [0.8888888888888888, \"#fdca26\"], [1.0, \"#f0f921\"]], \"type\": \"heatmap\"}], \"heatmapgl\": [{\"colorbar\": {\"outlinewidth\": 0, \"ticks\": \"\"}, \"colorscale\": [[0.0, \"#0d0887\"], [0.1111111111111111, \"#46039f\"], [0.2222222222222222, \"#7201a8\"], [0.3333333333333333, \"#9c179e\"], [0.4444444444444444, \"#bd3786\"], [0.5555555555555556, \"#d8576b\"], [0.6666666666666666, \"#ed7953\"], [0.7777777777777778, \"#fb9f3a\"], [0.8888888888888888, \"#fdca26\"], [1.0, \"#f0f921\"]], \"type\": \"heatmapgl\"}], \"histogram\": [{\"marker\": {\"colorbar\": {\"outlinewidth\": 0, \"ticks\": \"\"}}, \"type\": \"histogram\"}], \"histogram2d\": [{\"colorbar\": {\"outlinewidth\": 0, \"ticks\": \"\"}, \"colorscale\": [[0.0, \"#0d0887\"], [0.1111111111111111, \"#46039f\"], [0.2222222222222222, \"#7201a8\"], [0.3333333333333333, \"#9c179e\"], [0.4444444444444444, \"#bd3786\"], [0.5555555555555556, \"#d8576b\"], [0.6666666666666666, \"#ed7953\"], [0.7777777777777778, \"#fb9f3a\"], [0.8888888888888888, \"#fdca26\"], [1.0, \"#f0f921\"]], \"type\": \"histogram2d\"}], \"histogram2dcontour\": [{\"colorbar\": {\"outlinewidth\": 0, \"ticks\": \"\"}, \"colorscale\": [[0.0, \"#0d0887\"], [0.1111111111111111, \"#46039f\"], [0.2222222222222222, \"#7201a8\"], [0.3333333333333333, \"#9c179e\"], [0.4444444444444444, \"#bd3786\"], [0.5555555555555556, \"#d8576b\"], [0.6666666666666666, \"#ed7953\"], [0.7777777777777778, \"#fb9f3a\"], [0.8888888888888888, \"#fdca26\"], [1.0, \"#f0f921\"]], \"type\": \"histogram2dcontour\"}], \"mesh3d\": [{\"colorbar\": {\"outlinewidth\": 0, \"ticks\": \"\"}, \"type\": \"mesh3d\"}], \"parcoords\": [{\"line\": {\"colorbar\": {\"outlinewidth\": 0, \"ticks\": \"\"}}, \"type\": \"parcoords\"}], \"pie\": [{\"automargin\": true, \"type\": \"pie\"}], \"scatter\": [{\"marker\": {\"colorbar\": {\"outlinewidth\": 0, \"ticks\": \"\"}}, \"type\": \"scatter\"}], \"scatter3d\": [{\"line\": {\"colorbar\": {\"outlinewidth\": 0, \"ticks\": \"\"}}, \"marker\": {\"colorbar\": {\"outlinewidth\": 0, \"ticks\": \"\"}}, \"type\": \"scatter3d\"}], \"scattercarpet\": [{\"marker\": {\"colorbar\": {\"outlinewidth\": 0, \"ticks\": \"\"}}, \"type\": \"scattercarpet\"}], \"scattergeo\": [{\"marker\": {\"colorbar\": {\"outlinewidth\": 0, \"ticks\": \"\"}}, \"type\": \"scattergeo\"}], \"scattergl\": [{\"marker\": {\"colorbar\": {\"outlinewidth\": 0, \"ticks\": \"\"}}, \"type\": \"scattergl\"}], \"scattermapbox\": [{\"marker\": {\"colorbar\": {\"outlinewidth\": 0, \"ticks\": \"\"}}, \"type\": \"scattermapbox\"}], \"scatterpolar\": [{\"marker\": {\"colorbar\": {\"outlinewidth\": 0, \"ticks\": \"\"}}, \"type\": \"scatterpolar\"}], \"scatterpolargl\": [{\"marker\": {\"colorbar\": {\"outlinewidth\": 0, \"ticks\": \"\"}}, \"type\": \"scatterpolargl\"}], \"scatterternary\": [{\"marker\": {\"colorbar\": {\"outlinewidth\": 0, \"ticks\": \"\"}}, \"type\": \"scatterternary\"}], \"surface\": [{\"colorbar\": {\"outlinewidth\": 0, \"ticks\": \"\"}, \"colorscale\": [[0.0, \"#0d0887\"], [0.1111111111111111, \"#46039f\"], [0.2222222222222222, \"#7201a8\"], [0.3333333333333333, \"#9c179e\"], [0.4444444444444444, \"#bd3786\"], [0.5555555555555556, \"#d8576b\"], [0.6666666666666666, \"#ed7953\"], [0.7777777777777778, \"#fb9f3a\"], [0.8888888888888888, \"#fdca26\"], [1.0, \"#f0f921\"]], \"type\": \"surface\"}], \"table\": [{\"cells\": {\"fill\": {\"color\": \"#EBF0F8\"}, \"line\": {\"color\": \"white\"}}, \"header\": {\"fill\": {\"color\": \"#C8D4E3\"}, \"line\": {\"color\": \"white\"}}, \"type\": \"table\"}]}, \"layout\": {\"annotationdefaults\": {\"arrowcolor\": \"#2a3f5f\", \"arrowhead\": 0, \"arrowwidth\": 1}, \"coloraxis\": {\"colorbar\": {\"outlinewidth\": 0, \"ticks\": \"\"}}, \"colorscale\": {\"diverging\": [[0, \"#8e0152\"], [0.1, \"#c51b7d\"], [0.2, \"#de77ae\"], [0.3, \"#f1b6da\"], [0.4, \"#fde0ef\"], [0.5, \"#f7f7f7\"], [0.6, \"#e6f5d0\"], [0.7, \"#b8e186\"], [0.8, \"#7fbc41\"], [0.9, \"#4d9221\"], [1, \"#276419\"]], \"sequential\": [[0.0, \"#0d0887\"], [0.1111111111111111, \"#46039f\"], [0.2222222222222222, \"#7201a8\"], [0.3333333333333333, \"#9c179e\"], [0.4444444444444444, \"#bd3786\"], [0.5555555555555556, \"#d8576b\"], [0.6666666666666666, \"#ed7953\"], [0.7777777777777778, \"#fb9f3a\"], [0.8888888888888888, \"#fdca26\"], [1.0, \"#f0f921\"]], \"sequentialminus\": [[0.0, \"#0d0887\"], [0.1111111111111111, \"#46039f\"], [0.2222222222222222, \"#7201a8\"], [0.3333333333333333, \"#9c179e\"], [0.4444444444444444, \"#bd3786\"], [0.5555555555555556, \"#d8576b\"], [0.6666666666666666, \"#ed7953\"], [0.7777777777777778, \"#fb9f3a\"], [0.8888888888888888, \"#fdca26\"], [1.0, \"#f0f921\"]]}, \"colorway\": [\"#636efa\", \"#EF553B\", \"#00cc96\", \"#ab63fa\", \"#FFA15A\", \"#19d3f3\", \"#FF6692\", \"#B6E880\", \"#FF97FF\", \"#FECB52\"], \"font\": {\"color\": \"#2a3f5f\"}, \"geo\": {\"bgcolor\": \"white\", \"lakecolor\": \"white\", \"landcolor\": \"#E5ECF6\", \"showlakes\": true, \"showland\": true, \"subunitcolor\": \"white\"}, \"hoverlabel\": {\"align\": \"left\"}, \"hovermode\": \"closest\", \"mapbox\": {\"style\": \"light\"}, \"paper_bgcolor\": \"white\", \"plot_bgcolor\": \"#E5ECF6\", \"polar\": {\"angularaxis\": {\"gridcolor\": \"white\", \"linecolor\": \"white\", \"ticks\": \"\"}, \"bgcolor\": \"#E5ECF6\", \"radialaxis\": {\"gridcolor\": \"white\", \"linecolor\": \"white\", \"ticks\": \"\"}}, \"scene\": {\"xaxis\": {\"backgroundcolor\": \"#E5ECF6\", \"gridcolor\": \"white\", \"gridwidth\": 2, \"linecolor\": \"white\", \"showbackground\": true, \"ticks\": \"\", \"zerolinecolor\": \"white\"}, \"yaxis\": {\"backgroundcolor\": \"#E5ECF6\", \"gridcolor\": \"white\", \"gridwidth\": 2, \"linecolor\": \"white\", \"showbackground\": true, \"ticks\": \"\", \"zerolinecolor\": \"white\"}, \"zaxis\": {\"backgroundcolor\": \"#E5ECF6\", \"gridcolor\": \"white\", \"gridwidth\": 2, \"linecolor\": \"white\", \"showbackground\": true, \"ticks\": \"\", \"zerolinecolor\": \"white\"}}, \"shapedefaults\": {\"line\": {\"color\": \"#2a3f5f\"}}, \"ternary\": {\"aaxis\": {\"gridcolor\": \"white\", \"linecolor\": \"white\", \"ticks\": \"\"}, \"baxis\": {\"gridcolor\": \"white\", \"linecolor\": \"white\", \"ticks\": \"\"}, \"bgcolor\": \"#E5ECF6\", \"caxis\": {\"gridcolor\": \"white\", \"linecolor\": \"white\", \"ticks\": \"\"}}, \"title\": {\"x\": 0.05}, \"xaxis\": {\"automargin\": true, \"gridcolor\": \"white\", \"linecolor\": \"white\", \"ticks\": \"\", \"title\": {\"standoff\": 15}, \"zerolinecolor\": \"white\", \"zerolinewidth\": 2}, \"yaxis\": {\"automargin\": true, \"gridcolor\": \"white\", \"linecolor\": \"white\", \"ticks\": \"\", \"title\": {\"standoff\": 15}, \"zerolinecolor\": \"white\", \"zerolinewidth\": 2}}}, \"title\": {\"text\": \"side by side comparison vs payback Period\"}, \"width\": 1200, \"xaxis\": {\"anchor\": \"y\", \"domain\": [0.0, 0.2888888888888889]}, \"xaxis2\": {\"anchor\": \"y2\", \"domain\": [0.35555555555555557, 0.6444444444444445]}, \"xaxis3\": {\"anchor\": \"y3\", \"domain\": [0.7111111111111111, 1.0]}, \"yaxis\": {\"anchor\": \"x\", \"domain\": [0.0, 1.0]}, \"yaxis2\": {\"anchor\": \"x2\", \"domain\": [0.0, 1.0]}, \"yaxis3\": {\"anchor\": \"x3\", \"domain\": [0.0, 1.0]}},\n",
       "                        {\"responsive\": true}\n",
       "                    ).then(function(){\n",
       "                            \n",
       "var gd = document.getElementById('4b5c30ee-358e-41b4-87a1-6700d0ae8e2d');\n",
       "var x = new MutationObserver(function (mutations, observer) {{\n",
       "        var display = window.getComputedStyle(gd).display;\n",
       "        if (!display || display === 'none') {{\n",
       "            console.log([gd, 'removed!']);\n",
       "            Plotly.purge(gd);\n",
       "            observer.disconnect();\n",
       "        }}\n",
       "}});\n",
       "\n",
       "// Listen for the removal of the full notebook cells\n",
       "var notebookContainer = gd.closest('#notebook-container');\n",
       "if (notebookContainer) {{\n",
       "    x.observe(notebookContainer, {childList: true});\n",
       "}}\n",
       "\n",
       "// Listen for the clearing of the current output cell\n",
       "var outputEl = gd.closest('.output');\n",
       "if (outputEl) {{\n",
       "    x.observe(outputEl, {childList: true});\n",
       "}}\n",
       "\n",
       "                        })\n",
       "                };\n",
       "                });\n",
       "            </script>\n",
       "        </div>"
      ]
     },
     "metadata": {},
     "output_type": "display_data"
    }
   ],
   "source": [
    "fig = make_subplots(\n",
    "    rows=1, cols=3,\n",
    "    subplot_titles=(\"annual_rent\", \"roi_equity\", \"roi\"))\n",
    "fig.add_trace(go.Scatter(x=dat[\"payback_period\"], y=dat[\"annual_rent\"],mode=\"markers+text\",text=list(dat[\"zipcode\"]),name=\"annual_rent\"),\n",
    "              row=1, col=1)\n",
    "\n",
    "fig.add_trace(go.Scatter(x=dat[\"payback_period\"], y=dat[\"roi\"],mode=\"markers+text\",text=list(dat[\"zipcode\"]),name=\"roi\"),\n",
    "              row=1, col=3)\n",
    "fig.add_trace(go.Scatter(x=dat[\"payback_period\"], y=dat[\"roi_equity\"],mode=\"markers+text\",text=list(dat[\"zipcode\"]),name=\"roi_equity\"),\n",
    "              row=1, col=2)\n",
    "\n",
    "fig.update_layout(height=500, width=1200,\n",
    "                  title_text=\"side by side comparison vs payback Period\")\n",
    "fig.update_traces(textposition='top right',textfont_size=5)\n",
    "fig.show()"
   ]
  },
  {
   "cell_type": "markdown",
   "metadata": {
    "slideshow": {
     "slide_type": "subslide"
    }
   },
   "source": [
    "### Decsion Point ( select desired range of metric and zipcodes will populate accordingly)\n",
    "\n",
    "Now that we are familiar with our business it makes sense to empower users to select their desired metric range and populate zipcodes accordingly.\n",
    "\n"
   ]
  },
  {
   "cell_type": "code",
   "execution_count": 33,
   "metadata": {},
   "outputs": [],
   "source": [
    "import pandas as pd\n",
    "from ipywidgets import widgets\n",
    "import plotly.graph_objects as go\n",
    "dat=pd.read_pickle(\"pickles/air_zillgroup.pkl\")\n"
   ]
  },
  {
   "cell_type": "code",
   "execution_count": 11,
   "metadata": {},
   "outputs": [],
   "source": [
    "mapbox_access_token = \"pk.eyJ1Ijoic2JpcmFkYXIiLCJhIjoiY2s2ZnYzbzRiMmNsZzNvcWpkc2VzaXJrYiJ9.0lBnkLaCSGL2R9R65CK5MQ\"\n",
    "month = widgets.IntRangeSlider(\n",
    "   value=[0,80],\n",
    "    min=10.0,\n",
    "    max=80.0,\n",
    "    step=5.0,\n",
    "    description='pback_period:',\n",
    "    continuous_update=False\n",
    ")\n",
    "\n",
    "# use_date = widgets.Checkbox(\n",
    "#     description='Date: ',\n",
    "#     value=True,\n",
    "# )\n",
    "\n",
    "roi_ = widgets.FloatRangeSlider(\n",
    "    value=[0,5],\n",
    "    \n",
    "    min=0.0,\n",
    "    max=5.0,\n",
    "    step=0.25,\n",
    "    description='roi_10:',\n",
    "    continuous_update=False\n",
    ")\n",
    "\n",
    "\n",
    "roi_without = widgets.FloatRangeSlider(\n",
    "   value=[0,2],\n",
    "    min=0.0,\n",
    "    max=2.0,\n",
    "    step=0.25,\n",
    "    description='roi_without:',\n",
    "    continuous_update=False\n",
    ")\n",
    "\n",
    "annual = widgets.IntRangeSlider(\n",
    "   value=[0,dat[\"annual_rent\"].max()+1000],\n",
    "    min=0,\n",
    "    max=dat[\"annual_rent\"].max()+1000,\n",
    "    step=250,\n",
    "    description='annual_rent:',\n",
    "    continuous_update=False\n",
    ")\n",
    "\n",
    "zip_list=dat['zipcode'].unique().tolist()\n",
    "zip_list.append(\"All\")\n",
    "\n",
    "\n",
    "container1 = widgets.HBox(children=[month,roi_10,roi_without,annual])\n",
    "# container2 = widgets.HBox(children=[roi_10])\n",
    "# container3 = widgets.HBox(children=[roi_without])\n",
    "\n",
    "textbox = widgets.Dropdown(\n",
    "    description='zipcodes:   ',\n",
    "    value='All',\n",
    "#     options=airbnb_dash1['zipcode'].unique().tolist()\n",
    "    options=zip_list\n",
    "    \n",
    ")\n",
    "\n",
    "# origin = widgets.Dropdown(\n",
    "#     options=list(airbnb_dash1['room_type'].unique()),\n",
    "#     value='Private room',\n",
    "#     description='room-type',\n",
    "# )\n",
    "import plotly.express as px\n",
    "px.set_mapbox_access_token(mapbox_access_token)\n",
    "\n",
    "#data1=airbnb_dash1\n",
    "# Assign an empty figure widget with two traces\n",
    "#trace1 = go.Histogram(x=airbnb_dash1['price'], opacity=0.75, name='rent')\n",
    "# fig = go.Scattermapbox( lat=data1[\"latitude\"], lon=data1[\"longitude\"],mode='markers',marker=go.scattermapbox.Marker(\n",
    "#             size=14\n",
    "#         ) )\n",
    "#http://localhost:8888/notebooks/Untitled.ipynb#\n",
    "\n",
    "\n",
    "data = [\n",
    "    go.Scattermapbox(\n",
    "        lat=dat[\"latitude\"],\n",
    "        lon=dat[\"longitude\"],\n",
    "        mode='markers',\n",
    "        marker=go.scattermapbox.Marker(\n",
    "            size=5\n",
    "        ),text=list(dat[\"zipcode\"]),\n",
    "        \n",
    "        hoverinfo=\"text\"\n",
    "    )\n",
    "]\n",
    "\n",
    "\n",
    "\n",
    "\n",
    "\n",
    "\n",
    "\n",
    "g = go.FigureWidget(data=data,\n",
    "                    layout=\n",
    "                         go.Layout(\n",
    "    autosize=True,\n",
    "    hovermode='closest',\n",
    "    mapbox=go.layout.Mapbox(\n",
    "        accesstoken=mapbox_access_token,\n",
    "        bearing=0,\n",
    "        center=dict(\n",
    "            lat=40.7406,\n",
    "            lon=-73.9985\n",
    "        ),\n",
    "        pitch=0,\n",
    "        zoom=9\n",
    "    \n",
    "),height=600,width=600\n",
    "                    ))"
   ]
  },
  {
   "cell_type": "code",
   "execution_count": 12,
   "metadata": {},
   "outputs": [],
   "source": [
    "def response(change):\n",
    "#     if validate():\n",
    "        \n",
    "        #filter_list = [i and j and k and l for i, j, k,l in\n",
    "       \n",
    "        filter_list = [i and j and k and l for i, j, k,l in\n",
    "        zip(dat['payback_period'].between(month.value[0],month.value[1]), dat['roi_without'].between(roi_without.value[0],roi_without.value[1]),\n",
    "        dat['roi_10'].between(roi_10.value[0],roi_10.value[1]),dat['annual_rent'].between(annual.value[0],annual.value[1]))]\n",
    "        temp_df = dat[filter_list]\n",
    "\n",
    "        x1 = temp_df[\"latitude\"]\n",
    "        x2 = temp_df['longitude']\n",
    "        with g.batch_update():\n",
    "              g.data[0].lat=x1\n",
    "              g.data[0].lon = x2\n",
    "              g.data[0].text=list(temp_df[\"zipcode\"])\n",
    "#             g.layout.barmode = 'overlay'\n",
    "#             g.layout.xaxis.title = 'Rent'\n",
    "#             g.layout.yaxis.title = 'Sale Price'\n",
    "        \n",
    "\n",
    "\n",
    "roi_10.observe(response, names=\"value\")\n",
    "roi_without.observe(response, names=\"value\")\n",
    "month.observe(response, names=\"value\")\n",
    "annual.observe(response,names=\"value\")\n",
    "# use_date.observe(response"
   ]
  },
  {
   "cell_type": "code",
   "execution_count": 13,
   "metadata": {
    "slideshow": {
     "slide_type": "slide"
    }
   },
   "outputs": [
    {
     "data": {
      "application/vnd.jupyter.widget-view+json": {
       "model_id": "a418cefbf4924d04a18f89806a1cb982",
       "version_major": 2,
       "version_minor": 0
      },
      "text/plain": [
       "VBox(children=(HBox(children=(IntRangeSlider(value=(10, 80), continuous_update=False, description='pback_perio…"
      ]
     },
     "metadata": {},
     "output_type": "display_data"
    }
   ],
   "source": [
    "# container4 = widgets.HBox([textbox])\n",
    "widgets.VBox([container1,g])"
   ]
  },
  {
   "cell_type": "code",
   "execution_count": 15,
   "metadata": {},
   "outputs": [
    {
     "data": {
      "text/plain": [
       "8"
      ]
     },
     "execution_count": 15,
     "metadata": {},
     "output_type": "execute_result"
    }
   ],
   "source": []
  },
  {
   "cell_type": "code",
   "execution_count": null,
   "metadata": {},
   "outputs": [],
   "source": []
  }
 ],
 "metadata": {
  "kernelspec": {
   "display_name": "env",
   "language": "python",
   "name": "env"
  },
  "language_info": {
   "codemirror_mode": {
    "name": "ipython",
    "version": 3
   },
   "file_extension": ".py",
   "mimetype": "text/x-python",
   "name": "python",
   "nbconvert_exporter": "python",
   "pygments_lexer": "ipython3",
   "version": "3.7.1"
  },
  "widgets": {
   "application/vnd.jupyter.widget-state+json": {
    "state": {
     "1d6f574e14194777a095329e70ab3e4a": {
      "model_module": "@jupyter-widgets/controls",
      "model_module_version": "1.5.0",
      "model_name": "SliderStyleModel",
      "state": {
       "_model_module_version": "1.5.0",
       "_view_module_version": "1.2.0",
       "description_width": ""
      }
     },
     "33f394e4d0c44192a9df1da2b6dd0a80": {
      "model_module": "@jupyter-widgets/controls",
      "model_module_version": "1.5.0",
      "model_name": "VBoxModel",
      "state": {
       "_model_module_version": "1.5.0",
       "_view_module_version": "1.5.0",
       "children": [
        "IPY_MODEL_68b7d0b76afb4d6582de55a39642717f",
        "IPY_MODEL_493e9cd732514027b32189e212243f8f"
       ],
       "layout": "IPY_MODEL_4b9412e0f02941a398452ab4824ed1af"
      }
     },
     "493e9cd732514027b32189e212243f8f": {
      "buffers": [
       {
        "data": "W2dGfDV/UsCysKcd/n9SwJXDY45HgFLAernNFzp9UsAg9Iqr1H1SwFZKz/TyflLAmQfZR+F9UsBgGi6J4XxSwGA0cdaBf1LAMfq558t8UsAQRYE+kYpSwFcJFoczhVLATZFpWs+EUsBMFYxK6oZSwMWUSKKXjVLAzqW4quyIUsCExqQTX39SwPbcPOENf1LA4n8fULB+UsBkqLpA9H9SwJlNzx05e1LAOChhps1xUsA=",
        "encoding": "base64",
        "path": [
         "_data",
         0,
         "lon",
         "value"
        ]
       },
       {
        "data": "7fDCvGldREAGMAIp7F5EQFQ9EWLyXURAqVoPoGFiREBvWU80/WBEQL3iqUdaY0RA30SIhiBmRECph3EQX2NEQBiljs1mYURAav0tAfhjRECjBtMwfFBEQEOd3x0GUERAC7WmecdMREDRlnMprkhEQHQMyF7vQkRAQgkzbf9MREB/8e0JvFhEQKJPw8BhVURAmdssU2dXRECB82/LF1dEQODdaIscUERAxAjh0YZWREA=",
        "encoding": "base64",
        "path": [
         "_data",
         0,
         "lat",
         "value"
        ]
       }
      ],
      "model_module": "plotlywidget",
      "model_module_version": "1.5.0",
      "model_name": "FigureModel",
      "state": {
       "_config": {
        "plotlyServerURL": "https://plot.ly"
       },
       "_data": [
        {
         "hoverinfo": "text",
         "lat": {
          "dtype": "float64",
          "shape": [
           22
          ],
          "value": {}
         },
         "lon": {
          "dtype": "float64",
          "shape": [
           22
          ],
          "value": {}
         },
         "marker": {
          "size": 5
         },
         "mode": "markers",
         "text": [
          "10003",
          "10011",
          "10014",
          "10021",
          "10022",
          "10023",
          "10025",
          "10028",
          "10036",
          "10128",
          "10303",
          "10304",
          "10305",
          "10306",
          "10309",
          "10314",
          "11201",
          "11215",
          "11217",
          "11231",
          "11234",
          "11434"
         ],
         "type": "scattermapbox",
         "uid": "f9e1ba30-76a2-4e3b-81cd-973f164b1d0e"
        }
       ],
       "_js2py_restyle": {},
       "_js2py_update": {},
       "_last_layout_edit_id": 11,
       "_last_trace_edit_id": 10,
       "_layout": {
        "autosize": true,
        "height": 600,
        "hovermode": "closest",
        "mapbox": {
         "accesstoken": "pk.eyJ1Ijoic2JpcmFkYXIiLCJhIjoiY2s2ZnYzbzRiMmNsZzNvcWpkc2VzaXJrYiJ9.0lBnkLaCSGL2R9R65CK5MQ",
         "bearing": 0,
         "center": {
          "lat": 40.64161312175486,
          "lon": -74.13106115877844
         },
         "pitch": 0,
         "zoom": 8.436565553865368
        },
        "template": {
         "data": {
          "bar": [
           {
            "error_x": {
             "color": "#2a3f5f"
            },
            "error_y": {
             "color": "#2a3f5f"
            },
            "marker": {
             "line": {
              "color": "#E5ECF6",
              "width": 0.5
             }
            },
            "type": "bar"
           }
          ],
          "barpolar": [
           {
            "marker": {
             "line": {
              "color": "#E5ECF6",
              "width": 0.5
             }
            },
            "type": "barpolar"
           }
          ],
          "carpet": [
           {
            "aaxis": {
             "endlinecolor": "#2a3f5f",
             "gridcolor": "white",
             "linecolor": "white",
             "minorgridcolor": "white",
             "startlinecolor": "#2a3f5f"
            },
            "baxis": {
             "endlinecolor": "#2a3f5f",
             "gridcolor": "white",
             "linecolor": "white",
             "minorgridcolor": "white",
             "startlinecolor": "#2a3f5f"
            },
            "type": "carpet"
           }
          ],
          "choropleth": [
           {
            "colorbar": {
             "outlinewidth": 0,
             "ticks": ""
            },
            "type": "choropleth"
           }
          ],
          "contour": [
           {
            "colorbar": {
             "outlinewidth": 0,
             "ticks": ""
            },
            "colorscale": [
             [
              0,
              "#0d0887"
             ],
             [
              0.1111111111111111,
              "#46039f"
             ],
             [
              0.2222222222222222,
              "#7201a8"
             ],
             [
              0.3333333333333333,
              "#9c179e"
             ],
             [
              0.4444444444444444,
              "#bd3786"
             ],
             [
              0.5555555555555556,
              "#d8576b"
             ],
             [
              0.6666666666666666,
              "#ed7953"
             ],
             [
              0.7777777777777778,
              "#fb9f3a"
             ],
             [
              0.8888888888888888,
              "#fdca26"
             ],
             [
              1,
              "#f0f921"
             ]
            ],
            "type": "contour"
           }
          ],
          "contourcarpet": [
           {
            "colorbar": {
             "outlinewidth": 0,
             "ticks": ""
            },
            "type": "contourcarpet"
           }
          ],
          "heatmap": [
           {
            "colorbar": {
             "outlinewidth": 0,
             "ticks": ""
            },
            "colorscale": [
             [
              0,
              "#0d0887"
             ],
             [
              0.1111111111111111,
              "#46039f"
             ],
             [
              0.2222222222222222,
              "#7201a8"
             ],
             [
              0.3333333333333333,
              "#9c179e"
             ],
             [
              0.4444444444444444,
              "#bd3786"
             ],
             [
              0.5555555555555556,
              "#d8576b"
             ],
             [
              0.6666666666666666,
              "#ed7953"
             ],
             [
              0.7777777777777778,
              "#fb9f3a"
             ],
             [
              0.8888888888888888,
              "#fdca26"
             ],
             [
              1,
              "#f0f921"
             ]
            ],
            "type": "heatmap"
           }
          ],
          "heatmapgl": [
           {
            "colorbar": {
             "outlinewidth": 0,
             "ticks": ""
            },
            "colorscale": [
             [
              0,
              "#0d0887"
             ],
             [
              0.1111111111111111,
              "#46039f"
             ],
             [
              0.2222222222222222,
              "#7201a8"
             ],
             [
              0.3333333333333333,
              "#9c179e"
             ],
             [
              0.4444444444444444,
              "#bd3786"
             ],
             [
              0.5555555555555556,
              "#d8576b"
             ],
             [
              0.6666666666666666,
              "#ed7953"
             ],
             [
              0.7777777777777778,
              "#fb9f3a"
             ],
             [
              0.8888888888888888,
              "#fdca26"
             ],
             [
              1,
              "#f0f921"
             ]
            ],
            "type": "heatmapgl"
           }
          ],
          "histogram": [
           {
            "marker": {
             "colorbar": {
              "outlinewidth": 0,
              "ticks": ""
             }
            },
            "type": "histogram"
           }
          ],
          "histogram2d": [
           {
            "colorbar": {
             "outlinewidth": 0,
             "ticks": ""
            },
            "colorscale": [
             [
              0,
              "#0d0887"
             ],
             [
              0.1111111111111111,
              "#46039f"
             ],
             [
              0.2222222222222222,
              "#7201a8"
             ],
             [
              0.3333333333333333,
              "#9c179e"
             ],
             [
              0.4444444444444444,
              "#bd3786"
             ],
             [
              0.5555555555555556,
              "#d8576b"
             ],
             [
              0.6666666666666666,
              "#ed7953"
             ],
             [
              0.7777777777777778,
              "#fb9f3a"
             ],
             [
              0.8888888888888888,
              "#fdca26"
             ],
             [
              1,
              "#f0f921"
             ]
            ],
            "type": "histogram2d"
           }
          ],
          "histogram2dcontour": [
           {
            "colorbar": {
             "outlinewidth": 0,
             "ticks": ""
            },
            "colorscale": [
             [
              0,
              "#0d0887"
             ],
             [
              0.1111111111111111,
              "#46039f"
             ],
             [
              0.2222222222222222,
              "#7201a8"
             ],
             [
              0.3333333333333333,
              "#9c179e"
             ],
             [
              0.4444444444444444,
              "#bd3786"
             ],
             [
              0.5555555555555556,
              "#d8576b"
             ],
             [
              0.6666666666666666,
              "#ed7953"
             ],
             [
              0.7777777777777778,
              "#fb9f3a"
             ],
             [
              0.8888888888888888,
              "#fdca26"
             ],
             [
              1,
              "#f0f921"
             ]
            ],
            "type": "histogram2dcontour"
           }
          ],
          "mesh3d": [
           {
            "colorbar": {
             "outlinewidth": 0,
             "ticks": ""
            },
            "type": "mesh3d"
           }
          ],
          "parcoords": [
           {
            "line": {
             "colorbar": {
              "outlinewidth": 0,
              "ticks": ""
             }
            },
            "type": "parcoords"
           }
          ],
          "pie": [
           {
            "automargin": true,
            "type": "pie"
           }
          ],
          "scatter": [
           {
            "marker": {
             "colorbar": {
              "outlinewidth": 0,
              "ticks": ""
             }
            },
            "type": "scatter"
           }
          ],
          "scatter3d": [
           {
            "line": {
             "colorbar": {
              "outlinewidth": 0,
              "ticks": ""
             }
            },
            "marker": {
             "colorbar": {
              "outlinewidth": 0,
              "ticks": ""
             }
            },
            "type": "scatter3d"
           }
          ],
          "scattercarpet": [
           {
            "marker": {
             "colorbar": {
              "outlinewidth": 0,
              "ticks": ""
             }
            },
            "type": "scattercarpet"
           }
          ],
          "scattergeo": [
           {
            "marker": {
             "colorbar": {
              "outlinewidth": 0,
              "ticks": ""
             }
            },
            "type": "scattergeo"
           }
          ],
          "scattergl": [
           {
            "marker": {
             "colorbar": {
              "outlinewidth": 0,
              "ticks": ""
             }
            },
            "type": "scattergl"
           }
          ],
          "scattermapbox": [
           {
            "marker": {
             "colorbar": {
              "outlinewidth": 0,
              "ticks": ""
             }
            },
            "type": "scattermapbox"
           }
          ],
          "scatterpolar": [
           {
            "marker": {
             "colorbar": {
              "outlinewidth": 0,
              "ticks": ""
             }
            },
            "type": "scatterpolar"
           }
          ],
          "scatterpolargl": [
           {
            "marker": {
             "colorbar": {
              "outlinewidth": 0,
              "ticks": ""
             }
            },
            "type": "scatterpolargl"
           }
          ],
          "scatterternary": [
           {
            "marker": {
             "colorbar": {
              "outlinewidth": 0,
              "ticks": ""
             }
            },
            "type": "scatterternary"
           }
          ],
          "surface": [
           {
            "colorbar": {
             "outlinewidth": 0,
             "ticks": ""
            },
            "colorscale": [
             [
              0,
              "#0d0887"
             ],
             [
              0.1111111111111111,
              "#46039f"
             ],
             [
              0.2222222222222222,
              "#7201a8"
             ],
             [
              0.3333333333333333,
              "#9c179e"
             ],
             [
              0.4444444444444444,
              "#bd3786"
             ],
             [
              0.5555555555555556,
              "#d8576b"
             ],
             [
              0.6666666666666666,
              "#ed7953"
             ],
             [
              0.7777777777777778,
              "#fb9f3a"
             ],
             [
              0.8888888888888888,
              "#fdca26"
             ],
             [
              1,
              "#f0f921"
             ]
            ],
            "type": "surface"
           }
          ],
          "table": [
           {
            "cells": {
             "fill": {
              "color": "#EBF0F8"
             },
             "line": {
              "color": "white"
             }
            },
            "header": {
             "fill": {
              "color": "#C8D4E3"
             },
             "line": {
              "color": "white"
             }
            },
            "type": "table"
           }
          ]
         },
         "layout": {
          "annotationdefaults": {
           "arrowcolor": "#2a3f5f",
           "arrowhead": 0,
           "arrowwidth": 1
          },
          "coloraxis": {
           "colorbar": {
            "outlinewidth": 0,
            "ticks": ""
           }
          },
          "colorscale": {
           "diverging": [
            [
             0,
             "#8e0152"
            ],
            [
             0.1,
             "#c51b7d"
            ],
            [
             0.2,
             "#de77ae"
            ],
            [
             0.3,
             "#f1b6da"
            ],
            [
             0.4,
             "#fde0ef"
            ],
            [
             0.5,
             "#f7f7f7"
            ],
            [
             0.6,
             "#e6f5d0"
            ],
            [
             0.7,
             "#b8e186"
            ],
            [
             0.8,
             "#7fbc41"
            ],
            [
             0.9,
             "#4d9221"
            ],
            [
             1,
             "#276419"
            ]
           ],
           "sequential": [
            [
             0,
             "#0d0887"
            ],
            [
             0.1111111111111111,
             "#46039f"
            ],
            [
             0.2222222222222222,
             "#7201a8"
            ],
            [
             0.3333333333333333,
             "#9c179e"
            ],
            [
             0.4444444444444444,
             "#bd3786"
            ],
            [
             0.5555555555555556,
             "#d8576b"
            ],
            [
             0.6666666666666666,
             "#ed7953"
            ],
            [
             0.7777777777777778,
             "#fb9f3a"
            ],
            [
             0.8888888888888888,
             "#fdca26"
            ],
            [
             1,
             "#f0f921"
            ]
           ],
           "sequentialminus": [
            [
             0,
             "#0d0887"
            ],
            [
             0.1111111111111111,
             "#46039f"
            ],
            [
             0.2222222222222222,
             "#7201a8"
            ],
            [
             0.3333333333333333,
             "#9c179e"
            ],
            [
             0.4444444444444444,
             "#bd3786"
            ],
            [
             0.5555555555555556,
             "#d8576b"
            ],
            [
             0.6666666666666666,
             "#ed7953"
            ],
            [
             0.7777777777777778,
             "#fb9f3a"
            ],
            [
             0.8888888888888888,
             "#fdca26"
            ],
            [
             1,
             "#f0f921"
            ]
           ]
          },
          "colorway": [
           "#636efa",
           "#EF553B",
           "#00cc96",
           "#ab63fa",
           "#FFA15A",
           "#19d3f3",
           "#FF6692",
           "#B6E880",
           "#FF97FF",
           "#FECB52"
          ],
          "font": {
           "color": "#2a3f5f"
          },
          "geo": {
           "bgcolor": "white",
           "lakecolor": "white",
           "landcolor": "#E5ECF6",
           "showlakes": true,
           "showland": true,
           "subunitcolor": "white"
          },
          "hoverlabel": {
           "align": "left"
          },
          "hovermode": "closest",
          "mapbox": {
           "style": "light"
          },
          "paper_bgcolor": "white",
          "plot_bgcolor": "#E5ECF6",
          "polar": {
           "angularaxis": {
            "gridcolor": "white",
            "linecolor": "white",
            "ticks": ""
           },
           "bgcolor": "#E5ECF6",
           "radialaxis": {
            "gridcolor": "white",
            "linecolor": "white",
            "ticks": ""
           }
          },
          "scene": {
           "xaxis": {
            "backgroundcolor": "#E5ECF6",
            "gridcolor": "white",
            "gridwidth": 2,
            "linecolor": "white",
            "showbackground": true,
            "ticks": "",
            "zerolinecolor": "white"
           },
           "yaxis": {
            "backgroundcolor": "#E5ECF6",
            "gridcolor": "white",
            "gridwidth": 2,
            "linecolor": "white",
            "showbackground": true,
            "ticks": "",
            "zerolinecolor": "white"
           },
           "zaxis": {
            "backgroundcolor": "#E5ECF6",
            "gridcolor": "white",
            "gridwidth": 2,
            "linecolor": "white",
            "showbackground": true,
            "ticks": "",
            "zerolinecolor": "white"
           }
          },
          "shapedefaults": {
           "line": {
            "color": "#2a3f5f"
           }
          },
          "ternary": {
           "aaxis": {
            "gridcolor": "white",
            "linecolor": "white",
            "ticks": ""
           },
           "baxis": {
            "gridcolor": "white",
            "linecolor": "white",
            "ticks": ""
           },
           "bgcolor": "#E5ECF6",
           "caxis": {
            "gridcolor": "white",
            "linecolor": "white",
            "ticks": ""
           }
          },
          "title": {
           "x": 0.05
          },
          "xaxis": {
           "automargin": true,
           "gridcolor": "white",
           "linecolor": "white",
           "ticks": "",
           "title": {
            "standoff": 15
           },
           "zerolinecolor": "white",
           "zerolinewidth": 2
          },
          "yaxis": {
           "automargin": true,
           "gridcolor": "white",
           "linecolor": "white",
           "ticks": "",
           "title": {
            "standoff": 15
           },
           "zerolinecolor": "white",
           "zerolinewidth": 2
          }
         }
        },
        "width": 600
       },
       "_model_module_version": "1.5.0",
       "_py2js_addTraces": {},
       "_py2js_animate": {},
       "_py2js_deleteTraces": {},
       "_py2js_moveTraces": {},
       "_py2js_removeLayoutProps": {},
       "_py2js_removeTraceProps": {},
       "_py2js_restyle": {},
       "_view_count": 2,
       "_view_module_version": "1.5.0"
      }
     },
     "4b9412e0f02941a398452ab4824ed1af": {
      "model_module": "@jupyter-widgets/base",
      "model_module_version": "1.2.0",
      "model_name": "LayoutModel",
      "state": {
       "_model_module_version": "1.2.0",
       "_view_module_version": "1.2.0",
       "grid_area": null,
       "grid_auto_columns": null,
       "grid_auto_flow": null,
       "grid_auto_rows": null,
       "grid_column": null,
       "grid_gap": null,
       "grid_row": null,
       "grid_template_areas": null,
       "grid_template_columns": null,
       "grid_template_rows": null,
       "justify_items": null,
       "object_fit": null,
       "object_position": null
      }
     },
     "5870a9594df24f18b6e562bafbeebe35": {
      "model_module": "@jupyter-widgets/controls",
      "model_module_version": "1.5.0",
      "model_name": "SliderStyleModel",
      "state": {
       "_model_module_version": "1.5.0",
       "_view_module_version": "1.2.0",
       "description_width": ""
      }
     },
     "68b7d0b76afb4d6582de55a39642717f": {
      "model_module": "@jupyter-widgets/controls",
      "model_module_version": "1.5.0",
      "model_name": "HBoxModel",
      "state": {
       "_model_module_version": "1.5.0",
       "_view_module_version": "1.5.0",
       "children": [
        "IPY_MODEL_a493349e98ee43fc88263eb4f8d48a22",
        "IPY_MODEL_ee9f6993adb24fcc80dd30092053ca52",
        "IPY_MODEL_85d2748786b9412eaccc8f137ff7528c",
        "IPY_MODEL_96d8b862616a4813ba8491d2cc0467d2"
       ],
       "layout": "IPY_MODEL_da9f3b1a8fe14f81b1eb33f3b4617954"
      }
     },
     "79f2ed25649b429b8932ecb7d977474c": {
      "model_module": "@jupyter-widgets/base",
      "model_module_version": "1.2.0",
      "model_name": "LayoutModel",
      "state": {
       "_model_module_version": "1.2.0",
       "_view_module_version": "1.2.0",
       "grid_area": null,
       "grid_auto_columns": null,
       "grid_auto_flow": null,
       "grid_auto_rows": null,
       "grid_column": null,
       "grid_gap": null,
       "grid_row": null,
       "grid_template_areas": null,
       "grid_template_columns": null,
       "grid_template_rows": null,
       "justify_items": null,
       "object_fit": null,
       "object_position": null
      }
     },
     "7b1212d8b5d84010a8286b295cd77683": {
      "model_module": "@jupyter-widgets/base",
      "model_module_version": "1.2.0",
      "model_name": "LayoutModel",
      "state": {
       "_model_module_version": "1.2.0",
       "_view_module_version": "1.2.0",
       "grid_area": null,
       "grid_auto_columns": null,
       "grid_auto_flow": null,
       "grid_auto_rows": null,
       "grid_column": null,
       "grid_gap": null,
       "grid_row": null,
       "grid_template_areas": null,
       "grid_template_columns": null,
       "grid_template_rows": null,
       "justify_items": null,
       "object_fit": null,
       "object_position": null
      }
     },
     "7d6f3693fa3d41fab5910502bc958893": {
      "model_module": "@jupyter-widgets/base",
      "model_module_version": "1.2.0",
      "model_name": "LayoutModel",
      "state": {
       "_model_module_version": "1.2.0",
       "_view_module_version": "1.2.0",
       "grid_area": null,
       "grid_auto_columns": null,
       "grid_auto_flow": null,
       "grid_auto_rows": null,
       "grid_column": null,
       "grid_gap": null,
       "grid_row": null,
       "grid_template_areas": null,
       "grid_template_columns": null,
       "grid_template_rows": null,
       "justify_items": null,
       "object_fit": null,
       "object_position": null
      }
     },
     "85d2748786b9412eaccc8f137ff7528c": {
      "model_module": "@jupyter-widgets/controls",
      "model_module_version": "1.5.0",
      "model_name": "FloatRangeSliderModel",
      "state": {
       "_model_module_version": "1.5.0",
       "_model_name": "FloatRangeSliderModel",
       "_view_module_version": "1.5.0",
       "_view_name": "FloatRangeSliderView",
       "continuous_update": false,
       "description": "roi_without:",
       "description_tooltip": null,
       "layout": "IPY_MODEL_9f5b024305874fffad9241a3b6e1cb15",
       "max": 2,
       "step": 0.25,
       "style": "IPY_MODEL_b0e12a24c60b48adb18052fadbc4cde2",
       "value": [
        0,
        2
       ]
      }
     },
     "88060a34f5f6433f98203bf18b129b80": {
      "model_module": "@jupyter-widgets/controls",
      "model_module_version": "1.5.0",
      "model_name": "SliderStyleModel",
      "state": {
       "_model_module_version": "1.5.0",
       "_view_module_version": "1.2.0",
       "description_width": ""
      }
     },
     "8ca16e23cbdc4a6e9411a62d0c514257": {
      "model_module": "@jupyter-widgets/base",
      "model_module_version": "1.2.0",
      "model_name": "LayoutModel",
      "state": {
       "_model_module_version": "1.2.0",
       "_view_module_version": "1.2.0",
       "grid_area": null,
       "grid_auto_columns": null,
       "grid_auto_flow": null,
       "grid_auto_rows": null,
       "grid_column": null,
       "grid_gap": null,
       "grid_row": null,
       "grid_template_areas": null,
       "grid_template_columns": null,
       "grid_template_rows": null,
       "justify_items": null,
       "object_fit": null,
       "object_position": null
      }
     },
     "96d8b862616a4813ba8491d2cc0467d2": {
      "model_module": "@jupyter-widgets/controls",
      "model_module_version": "1.5.0",
      "model_name": "IntRangeSliderModel",
      "state": {
       "_model_module_version": "1.5.0",
       "_model_name": "IntRangeSliderModel",
       "_view_module_version": "1.5.0",
       "_view_name": "IntRangeSliderView",
       "continuous_update": false,
       "description": "annual_rent:",
       "description_tooltip": null,
       "layout": "IPY_MODEL_79f2ed25649b429b8932ecb7d977474c",
       "max": 114872,
       "step": 250,
       "style": "IPY_MODEL_88060a34f5f6433f98203bf18b129b80",
       "value": [
        0,
        109500
       ]
      }
     },
     "985f9a749ed94e4e94f38e0938139b32": {
      "model_module": "@jupyter-widgets/controls",
      "model_module_version": "1.5.0",
      "model_name": "DescriptionStyleModel",
      "state": {
       "_model_module_version": "1.5.0",
       "_view_module_version": "1.2.0",
       "description_width": ""
      }
     },
     "9c89ee46834b4114ba98303a81c0e45b": {
      "model_module": "@jupyter-widgets/controls",
      "model_module_version": "1.5.0",
      "model_name": "DropdownModel",
      "state": {
       "_model_module_version": "1.5.0",
       "_options_labels": [
        "10003",
        "10011",
        "10013",
        "10014",
        "10021",
        "10022",
        "10023",
        "10025",
        "10028",
        "10036",
        "10128",
        "10303",
        "10304",
        "10305",
        "10306",
        "10308",
        "10309",
        "10314",
        "11201",
        "11215",
        "11217",
        "11231",
        "11234",
        "11434",
        "All"
       ],
       "_view_module_version": "1.5.0",
       "description": "zipcodes:   ",
       "description_tooltip": null,
       "index": 24,
       "layout": "IPY_MODEL_7d6f3693fa3d41fab5910502bc958893",
       "style": "IPY_MODEL_985f9a749ed94e4e94f38e0938139b32"
      }
     },
     "9f5b024305874fffad9241a3b6e1cb15": {
      "model_module": "@jupyter-widgets/base",
      "model_module_version": "1.2.0",
      "model_name": "LayoutModel",
      "state": {
       "_model_module_version": "1.2.0",
       "_view_module_version": "1.2.0",
       "grid_area": null,
       "grid_auto_columns": null,
       "grid_auto_flow": null,
       "grid_auto_rows": null,
       "grid_column": null,
       "grid_gap": null,
       "grid_row": null,
       "grid_template_areas": null,
       "grid_template_columns": null,
       "grid_template_rows": null,
       "justify_items": null,
       "object_fit": null,
       "object_position": null
      }
     },
     "a493349e98ee43fc88263eb4f8d48a22": {
      "model_module": "@jupyter-widgets/controls",
      "model_module_version": "1.5.0",
      "model_name": "IntRangeSliderModel",
      "state": {
       "_model_module_version": "1.5.0",
       "_model_name": "IntRangeSliderModel",
       "_view_module_version": "1.5.0",
       "_view_name": "IntRangeSliderView",
       "continuous_update": false,
       "description": "pback_period:",
       "description_tooltip": null,
       "layout": "IPY_MODEL_7b1212d8b5d84010a8286b295cd77683",
       "max": 80,
       "min": 10,
       "step": 5,
       "style": "IPY_MODEL_1d6f574e14194777a095329e70ab3e4a",
       "value": [
        10,
        80
       ]
      }
     },
     "b0e12a24c60b48adb18052fadbc4cde2": {
      "model_module": "@jupyter-widgets/controls",
      "model_module_version": "1.5.0",
      "model_name": "SliderStyleModel",
      "state": {
       "_model_module_version": "1.5.0",
       "_view_module_version": "1.2.0",
       "description_width": ""
      }
     },
     "c9c387b891b4468c828bbc28b41e7fad": {
      "model_module": "@jupyter-widgets/controls",
      "model_module_version": "1.5.0",
      "model_name": "VBoxModel",
      "state": {
       "_model_module_version": "1.5.0",
       "_view_module_version": "1.5.0",
       "children": [
        "IPY_MODEL_68b7d0b76afb4d6582de55a39642717f",
        "IPY_MODEL_493e9cd732514027b32189e212243f8f"
       ],
       "layout": "IPY_MODEL_d7df70615b014ff38821f2308c361e25"
      }
     },
     "d7df70615b014ff38821f2308c361e25": {
      "model_module": "@jupyter-widgets/base",
      "model_module_version": "1.2.0",
      "model_name": "LayoutModel",
      "state": {
       "_model_module_version": "1.2.0",
       "_view_module_version": "1.2.0",
       "grid_area": null,
       "grid_auto_columns": null,
       "grid_auto_flow": null,
       "grid_auto_rows": null,
       "grid_column": null,
       "grid_gap": null,
       "grid_row": null,
       "grid_template_areas": null,
       "grid_template_columns": null,
       "grid_template_rows": null,
       "justify_items": null,
       "object_fit": null,
       "object_position": null
      }
     },
     "da9f3b1a8fe14f81b1eb33f3b4617954": {
      "model_module": "@jupyter-widgets/base",
      "model_module_version": "1.2.0",
      "model_name": "LayoutModel",
      "state": {
       "_model_module_version": "1.2.0",
       "_view_module_version": "1.2.0",
       "grid_area": null,
       "grid_auto_columns": null,
       "grid_auto_flow": null,
       "grid_auto_rows": null,
       "grid_column": null,
       "grid_gap": null,
       "grid_row": null,
       "grid_template_areas": null,
       "grid_template_columns": null,
       "grid_template_rows": null,
       "justify_items": null,
       "object_fit": null,
       "object_position": null
      }
     },
     "ee9f6993adb24fcc80dd30092053ca52": {
      "model_module": "@jupyter-widgets/controls",
      "model_module_version": "1.5.0",
      "model_name": "FloatRangeSliderModel",
      "state": {
       "_model_module_version": "1.5.0",
       "_model_name": "FloatRangeSliderModel",
       "_view_module_version": "1.5.0",
       "_view_name": "FloatRangeSliderView",
       "continuous_update": false,
       "description": "roi_10:",
       "description_tooltip": null,
       "layout": "IPY_MODEL_8ca16e23cbdc4a6e9411a62d0c514257",
       "max": 5,
       "step": 0.25,
       "style": "IPY_MODEL_5870a9594df24f18b6e562bafbeebe35",
       "value": [
        0,
        5
       ]
      }
     }
    },
    "version_major": 2,
    "version_minor": 0
   }
  }
 },
 "nbformat": 4,
 "nbformat_minor": 2
}
